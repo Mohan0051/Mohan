{
  "nbformat": 4,
  "nbformat_minor": 0,
  "metadata": {
    "colab": {
      "provenance": [],
      "authorship_tag": "ABX9TyP4tbXPWQ0ja65qZkq3UnvX",
      "include_colab_link": true
    },
    "kernelspec": {
      "name": "python3",
      "display_name": "Python 3"
    },
    "language_info": {
      "name": "python"
    }
  },
  "cells": [
    {
      "cell_type": "markdown",
      "metadata": {
        "id": "view-in-github",
        "colab_type": "text"
      },
      "source": [
        "<a href=\"https://colab.research.google.com/github/Mohan0051/Mohan/blob/main/Numpy_task_1.ipynb\" target=\"_parent\"><img src=\"https://colab.research.google.com/assets/colab-badge.svg\" alt=\"Open In Colab\"/></a>"
      ]
    },
    {
      "cell_type": "code",
      "execution_count": null,
      "metadata": {
        "colab": {
          "base_uri": "https://localhost:8080/"
        },
        "id": "ShGNRSZetCkg",
        "outputId": "424a6060-9548-4e70-f610-a20dd2678d73"
      },
      "outputs": [
        {
          "output_type": "stream",
          "name": "stdout",
          "text": [
            "array: [1 2 3 4 5]\n"
          ]
        }
      ],
      "source": [
        "import numpy as n\n",
        "#create an array\n",
        "array=n.array([1,2,3,4,5])\n",
        "print(\"array:\", array)"
      ]
    },
    {
      "cell_type": "code",
      "source": [
        "#0D\n",
        "a=n.array(4)\n",
        "print (\"0D\",a)\n",
        "ar=n.array([1,25,63,])\n",
        "print(\"1D\",ar)\n",
        "arr=n.array([[1,2,3,],[4,5,6]])\n",
        "print(\"2D\",arr)\n",
        "print(arr.ndim)\n",
        "arra=n.array([[[1,2,3],[10,11,12],[7,8,9]]])\n",
        "print(\"3D\",arra)\n",
        "print(arra.ndim)\n",
        "#slicing\n",
        "print(\"slicing 1D:\",ar[0:2])\n",
        "print(\"slicing 2D:\",arr[1:2])\n",
        "print(\"slicing 3D:\",arra[1:2])"
      ],
      "metadata": {
        "colab": {
          "base_uri": "https://localhost:8080/"
        },
        "id": "GCBy8Xn7tnwZ",
        "outputId": "d65e3919-8f32-49c6-e360-a8d31457e76f"
      },
      "execution_count": null,
      "outputs": [
        {
          "output_type": "stream",
          "name": "stdout",
          "text": [
            "0D 4\n",
            "1D [ 1 25 63]\n",
            "2D [[1 2 3]\n",
            " [4 5 6]]\n",
            "2\n",
            "3D [[[ 1  2  3]\n",
            "  [10 11 12]\n",
            "  [ 7  8  9]]]\n",
            "3\n",
            "slicing 1D: [ 1 25]\n",
            "slicing 2D: [[4 5 6]]\n",
            "slicing 3D: []\n"
          ]
        }
      ]
    },
    {
      "cell_type": "code",
      "source": [
        "#creating arrays with zeros & ones\n",
        "import numpy as n\n",
        "n.zeros((3,4))"
      ],
      "metadata": {
        "colab": {
          "base_uri": "https://localhost:8080/"
        },
        "id": "ly2mS8SStpID",
        "outputId": "0272ec81-b071-414c-d8b7-b006458d55ae"
      },
      "execution_count": null,
      "outputs": [
        {
          "output_type": "execute_result",
          "data": {
            "text/plain": [
              "array([[0., 0., 0., 0.],\n",
              "       [0., 0., 0., 0.],\n",
              "       [0., 0., 0., 0.]])"
            ]
          },
          "metadata": {},
          "execution_count": 11
        }
      ]
    },
    {
      "cell_type": "code",
      "source": [
        "#creating ones\n",
        "n.ones((2,3,4))"
      ],
      "metadata": {
        "colab": {
          "base_uri": "https://localhost:8080/"
        },
        "id": "IjWE4XoittsZ",
        "outputId": "04ee185b-b7a3-41a2-d2e8-fdc69c49cca9"
      },
      "execution_count": null,
      "outputs": [
        {
          "output_type": "execute_result",
          "data": {
            "text/plain": [
              "array([[[1., 1., 1., 1.],\n",
              "        [1., 1., 1., 1.],\n",
              "        [1., 1., 1., 1.]],\n",
              "\n",
              "       [[1., 1., 1., 1.],\n",
              "        [1., 1., 1., 1.],\n",
              "        [1., 1., 1., 1.]]])"
            ]
          },
          "metadata": {},
          "execution_count": 12
        }
      ]
    },
    {
      "cell_type": "code",
      "source": [
        "#creat an array with range of values\n",
        "import numpy as np\n",
        "d= np.arange(10,26,5)\n",
        "print(d)"
      ],
      "metadata": {
        "colab": {
          "base_uri": "https://localhost:8080/"
        },
        "id": "EW3kGDwit75h",
        "outputId": "5f743ea2-3546-4e83-aa89-5197b6b60e33"
      },
      "execution_count": null,
      "outputs": [
        {
          "output_type": "stream",
          "name": "stdout",
          "text": [
            "[10 15 20 25]\n"
          ]
        }
      ]
    },
    {
      "cell_type": "code",
      "source": [
        "#array with evenly spaced values\n",
        "print(np.linspace(0,2,9))\n",
        "e=np.full((2,2),7)\n",
        "print(e)"
      ],
      "metadata": {
        "colab": {
          "base_uri": "https://localhost:8080/"
        },
        "id": "_lGJFNC2uDIl",
        "outputId": "4ea7fbd7-3389-4ba6-acb9-53ab133c2809"
      },
      "execution_count": null,
      "outputs": [
        {
          "output_type": "stream",
          "name": "stdout",
          "text": [
            "[0.   0.25 0.5  0.75 1.   1.25 1.5  1.75 2.  ]\n",
            "[[7 7]\n",
            " [7 7]]\n"
          ]
        }
      ]
    },
    {
      "cell_type": "code",
      "source": [
        "#identity matrix\n",
        "f=np.eye(3)\n",
        "print(f)"
      ],
      "metadata": {
        "colab": {
          "base_uri": "https://localhost:8080/"
        },
        "id": "o86oZQXmuHVW",
        "outputId": "c664959c-14b6-4016-bffc-c04f739fb7c4"
      },
      "execution_count": null,
      "outputs": [
        {
          "output_type": "stream",
          "name": "stdout",
          "text": [
            "[[1. 0. 0.]\n",
            " [0. 1. 0.]\n",
            " [0. 0. 1.]]\n"
          ]
        }
      ]
    },
    {
      "cell_type": "code",
      "source": [
        "#returns dimension of array\n",
        "arr=n.array([[1,2,3,],[4,5,6]])\n",
        "arr.shape"
      ],
      "metadata": {
        "colab": {
          "base_uri": "https://localhost:8080/"
        },
        "id": "OV3aVDaMuNY4",
        "outputId": "a7e201c5-6cff-4951-8ea0-ad2314775c1a"
      },
      "execution_count": null,
      "outputs": [
        {
          "output_type": "execute_result",
          "data": {
            "text/plain": [
              "(2, 3)"
            ]
          },
          "metadata": {},
          "execution_count": 16
        }
      ]
    },
    {
      "cell_type": "code",
      "source": [
        "#returns the no of dim\n",
        "arr=n.array([[1,2,3,],[4,5,6]])\n",
        "print(\"2D\",arr)\n",
        "print(arr.ndim)\n",
        "arra=n.array([[[1,2,3],[10,11,12],[7,8,9]]])\n",
        "print(\"3D\",arra)\n",
        "print(arra.ndim)"
      ],
      "metadata": {
        "colab": {
          "base_uri": "https://localhost:8080/"
        },
        "id": "Ba9pfOwyuQYx",
        "outputId": "54276b0b-e5ca-4f3f-9eb8-ca7218a9e954"
      },
      "execution_count": null,
      "outputs": [
        {
          "output_type": "stream",
          "name": "stdout",
          "text": [
            "2D [[1 2 3]\n",
            " [4 5 6]]\n",
            "2\n",
            "3D [[[ 1  2  3]\n",
            "  [10 11 12]\n",
            "  [ 7  8  9]]]\n",
            "3\n"
          ]
        }
      ]
    },
    {
      "cell_type": "code",
      "source": [
        "#returns tot no of element\n",
        "arr.size\n",
        "arra.size"
      ],
      "metadata": {
        "colab": {
          "base_uri": "https://localhost:8080/"
        },
        "id": "dd_o5CW9uWY_",
        "outputId": "119a81b4-d0e7-48b1-806f-efbf96949fc8"
      },
      "execution_count": null,
      "outputs": [
        {
          "output_type": "execute_result",
          "data": {
            "text/plain": [
              "9"
            ]
          },
          "metadata": {},
          "execution_count": 18
        }
      ]
    },
    {
      "cell_type": "code",
      "source": [
        "#returns the dtype of element\n",
        "arr=n.array([[1,2,3,],[4,5,6]])\n",
        "arra=n.array([[[1,2,3],[10,11,12],[7,8,9]]])\n",
        "arr.dtype\n",
        "arra.dtype"
      ],
      "metadata": {
        "colab": {
          "base_uri": "https://localhost:8080/"
        },
        "id": "RVeCTGcuufrh",
        "outputId": "c6b5dc0f-00c9-4f86-a6a0-dd30d8dfae18"
      },
      "execution_count": null,
      "outputs": [
        {
          "output_type": "execute_result",
          "data": {
            "text/plain": [
              "dtype('int64')"
            ]
          },
          "metadata": {},
          "execution_count": 19
        }
      ]
    },
    {
      "cell_type": "code",
      "source": [
        "#array operations\n",
        "#addition\n",
        "# Create two NumPy arrays\n",
        "array1 = np.array([1, 2, 3])\n",
        "array2 = np.array([4, 5, 6])\n",
        "result = np.add(array1, array2)\n",
        "\n",
        "#display the result\n",
        "print(\"Array 1:\", array1)\n",
        "print(\"Array 2:\", array2)\n",
        "print(\"Result of addition:\", result)"
      ],
      "metadata": {
        "colab": {
          "base_uri": "https://localhost:8080/"
        },
        "id": "4FykRdeAujji",
        "outputId": "0e7c3f33-2a15-48d1-b92a-db0989f29ed4"
      },
      "execution_count": null,
      "outputs": [
        {
          "output_type": "stream",
          "name": "stdout",
          "text": [
            "Array 1: [1 2 3]\n",
            "Array 2: [4 5 6]\n",
            "Result of addition: [5 7 9]\n"
          ]
        }
      ]
    },
    {
      "cell_type": "code",
      "source": [
        "#subtraction\n",
        "print(\"sub:\",np.subtract(array1,array2))"
      ],
      "metadata": {
        "colab": {
          "base_uri": "https://localhost:8080/"
        },
        "id": "oIedxqwvujm5",
        "outputId": "533e5f6f-bf03-48e9-bfb6-ada7d00f77d4"
      },
      "execution_count": null,
      "outputs": [
        {
          "output_type": "stream",
          "name": "stdout",
          "text": [
            "sub: [-3 -3 -3]\n"
          ]
        }
      ]
    },
    {
      "cell_type": "code",
      "source": [
        "#multiplication\n",
        "print(\"mul:\",np.multiply(array1,array2))"
      ],
      "metadata": {
        "colab": {
          "base_uri": "https://localhost:8080/"
        },
        "id": "OyNHPxa1uw7n",
        "outputId": "a230d949-5a34-49a2-fb1b-bb568a673599"
      },
      "execution_count": null,
      "outputs": [
        {
          "output_type": "stream",
          "name": "stdout",
          "text": [
            "mul: [ 4 10 18]\n"
          ]
        }
      ]
    },
    {
      "cell_type": "code",
      "source": [
        "#divide\n",
        "print(\"div\",np.divide(array1,array2))\n",
        "#dot product of two arrays\n",
        "print(np.dot(array1,array2))"
      ],
      "metadata": {
        "colab": {
          "base_uri": "https://localhost:8080/"
        },
        "id": "9UB1RDXKu2Bu",
        "outputId": "27e9d57b-87aa-4a03-cf12-951d3d716a8e"
      },
      "execution_count": null,
      "outputs": [
        {
          "output_type": "stream",
          "name": "stdout",
          "text": [
            "div [0.25 0.4  0.5 ]\n",
            "32\n"
          ]
        }
      ]
    },
    {
      "cell_type": "code",
      "source": [
        "#array manipulation\n",
        "#reshape an array\n",
        "array=n.array([[[1,2,3],[10,11,12],[7,8,9]]])\n",
        "print(array.reshape(3,-2))"
      ],
      "metadata": {
        "colab": {
          "base_uri": "https://localhost:8080/"
        },
        "id": "JxJ3E-YKu9BR",
        "outputId": "5a0baef6-2409-4b26-ed46-d81cf22dd6da"
      },
      "execution_count": null,
      "outputs": [
        {
          "output_type": "stream",
          "name": "stdout",
          "text": [
            "[[ 1  2  3]\n",
            " [10 11 12]\n",
            " [ 7  8  9]]\n"
          ]
        }
      ]
    },
    {
      "cell_type": "code",
      "source": [
        "#concatenation\n",
        "ar=n.array([1,25,63,])\n",
        "c=n.array([1,2,5])\n",
        "print(n.concatenate((c,ar),axis=0))"
      ],
      "metadata": {
        "colab": {
          "base_uri": "https://localhost:8080/"
        },
        "id": "6zVJLB2hvBFv",
        "outputId": "725cef79-0368-4aaa-e2aa-5120ef3a8387"
      },
      "execution_count": null,
      "outputs": [
        {
          "output_type": "stream",
          "name": "stdout",
          "text": [
            "[ 1  2  5  1 25 63]\n"
          ]
        }
      ]
    },
    {
      "cell_type": "code",
      "source": [
        "#split an array into sub-arrays\n",
        "c=n.array([1,2,3,4,5,6])\n",
        "print(n.split(c,3))\n",
        "print(n.split(c,2))"
      ],
      "metadata": {
        "colab": {
          "base_uri": "https://localhost:8080/"
        },
        "id": "xCEbfLpGvKUs",
        "outputId": "65fb2bce-4bdc-467d-9e0a-1d52b6d3f447"
      },
      "execution_count": null,
      "outputs": [
        {
          "output_type": "stream",
          "name": "stdout",
          "text": [
            "[array([1, 2]), array([3, 4]), array([5, 6])]\n",
            "[array([1, 2, 3]), array([4, 5, 6])]\n"
          ]
        }
      ]
    },
    {
      "cell_type": "code",
      "source": [
        "#transpose an array\n",
        "arr=n.array([[1,2,3,],[4,5,6]])\n",
        "n.transpose(arr)"
      ],
      "metadata": {
        "colab": {
          "base_uri": "https://localhost:8080/"
        },
        "id": "teX_vEuZvVS9",
        "outputId": "62744142-2d63-4ae1-9cce-fb8c0a073d3e"
      },
      "execution_count": null,
      "outputs": [
        {
          "output_type": "execute_result",
          "data": {
            "text/plain": [
              "array([[1, 4],\n",
              "       [2, 5],\n",
              "       [3, 6]])"
            ]
          },
          "metadata": {},
          "execution_count": 19
        }
      ]
    },
    {
      "cell_type": "code",
      "source": [
        "#mathematical function\n",
        "#sum of the array\n",
        "import numpy as np\n",
        "ar=np.array([1,25,63,])\n",
        "arr=np.array([[1,2,3,],[4,5,6]])\n",
        "#sum of array)\n",
        "print(ar.sum())"
      ],
      "metadata": {
        "colab": {
          "base_uri": "https://localhost:8080/"
        },
        "id": "li86mt-yvbzL",
        "outputId": "3f6e41a8-5406-483b-c811-742ba456da27"
      },
      "execution_count": null,
      "outputs": [
        {
          "output_type": "stream",
          "name": "stdout",
          "text": [
            "89\n"
          ]
        }
      ]
    },
    {
      "cell_type": "code",
      "source": [
        "#min and max\n",
        "print(ar.min())\n",
        "print(arr.max(axis=0))"
      ],
      "metadata": {
        "colab": {
          "base_uri": "https://localhost:8080/"
        },
        "id": "FFv5QhHJNagw",
        "outputId": "736a81b8-bb6a-47e5-8d0a-b316516e2a61"
      },
      "execution_count": null,
      "outputs": [
        {
          "output_type": "stream",
          "name": "stdout",
          "text": [
            "1\n",
            "[4 5 6]\n"
          ]
        }
      ]
    },
    {
      "cell_type": "code",
      "source": [
        "#median of array elmnts\n",
        "print(np.median(c))"
      ],
      "metadata": {
        "colab": {
          "base_uri": "https://localhost:8080/"
        },
        "id": "0DkS5_VTNkXf",
        "outputId": "7bd22fe1-ccf0-4fd6-92dd-e7a71836904d"
      },
      "execution_count": null,
      "outputs": [
        {
          "output_type": "stream",
          "name": "stdout",
          "text": [
            "3.5\n"
          ]
        }
      ]
    },
    {
      "cell_type": "code",
      "source": [
        "#mean of array elments\n",
        "print(ar.mean())"
      ],
      "metadata": {
        "colab": {
          "base_uri": "https://localhost:8080/"
        },
        "id": "1et2azecOEd6",
        "outputId": "47ccdc0a-299b-4cb2-cc4c-bc2ca311e3f4"
      },
      "execution_count": null,
      "outputs": [
        {
          "output_type": "stream",
          "name": "stdout",
          "text": [
            "29.666666666666668\n"
          ]
        }
      ]
    },
    {
      "cell_type": "code",
      "source": [
        "#standard deviation\n",
        "print(ar.std())"
      ],
      "metadata": {
        "colab": {
          "base_uri": "https://localhost:8080/"
        },
        "id": "9lwnPQtbOJZt",
        "outputId": "c941e6f0-9528-4c05-af90-ff426e9b13ff"
      },
      "execution_count": null,
      "outputs": [
        {
          "output_type": "stream",
          "name": "stdout",
          "text": [
            "25.525586292102197\n"
          ]
        }
      ]
    },
    {
      "cell_type": "code",
      "source": [
        "#trignmentry fnc\n",
        "a=n.array(4)\n",
        "print(n.sin(a))\n",
        "print(n.tan(a))\n",
        "print(n.cos(a))"
      ],
      "metadata": {
        "colab": {
          "base_uri": "https://localhost:8080/"
        },
        "id": "r1XuXVdEOPRe",
        "outputId": "b1c63010-f8bf-4e52-ec2d-4fabceca7a25"
      },
      "execution_count": null,
      "outputs": [
        {
          "output_type": "stream",
          "name": "stdout",
          "text": [
            "-0.7568024953079282\n",
            "1.1578212823495775\n",
            "-0.6536436208636119\n"
          ]
        }
      ]
    },
    {
      "cell_type": "code",
      "source": [
        "#inverse trignomentric functions\n",
        "print(n.arcsin(a))\n",
        "print(n.arccos(a))\n",
        "print(n.arctan(a))"
      ],
      "metadata": {
        "colab": {
          "base_uri": "https://localhost:8080/"
        },
        "id": "jT5Y_HSUOcMw",
        "outputId": "a7117897-2085-410f-bb2a-a5b0b7f4146b"
      },
      "execution_count": null,
      "outputs": [
        {
          "output_type": "stream",
          "name": "stdout",
          "text": [
            "nan\n",
            "nan\n",
            "1.3258176636680326\n"
          ]
        },
        {
          "output_type": "stream",
          "name": "stderr",
          "text": [
            "<ipython-input-30-6d437b9de5a4>:2: RuntimeWarning: invalid value encountered in arcsin\n",
            "  print(n.arcsin(a))\n",
            "<ipython-input-30-6d437b9de5a4>:3: RuntimeWarning: invalid value encountered in arccos\n",
            "  print(n.arccos(a))\n"
          ]
        }
      ]
    },
    {
      "cell_type": "code",
      "source": [
        "#random values from a standard normal distribution\n",
        "np.random.randn(2,2)"
      ],
      "metadata": {
        "colab": {
          "base_uri": "https://localhost:8080/"
        },
        "id": "I9lJfRCwPGGm",
        "outputId": "03917b98-8c2f-4706-90a1-84581f6673fa"
      },
      "execution_count": null,
      "outputs": [
        {
          "output_type": "execute_result",
          "data": {
            "text/plain": [
              "array([[-0.04445658,  0.87189741],\n",
              "       [-1.119051  ,  0.65586332]])"
            ]
          },
          "metadata": {},
          "execution_count": 36
        }
      ]
    },
    {
      "cell_type": "code",
      "source": [
        "#random integer\n",
        "np.random.randint(c)"
      ],
      "metadata": {
        "colab": {
          "base_uri": "https://localhost:8080/"
        },
        "id": "mXO8i7P-PPGh",
        "outputId": "79b77fcb-638f-4ebc-9594-bd82557bfe3f"
      },
      "execution_count": null,
      "outputs": [
        {
          "output_type": "execute_result",
          "data": {
            "text/plain": [
              "array([0, 0, 1, 0, 1, 1])"
            ]
          },
          "metadata": {},
          "execution_count": 38
        }
      ]
    },
    {
      "cell_type": "code",
      "source": [
        "#shuffle an array\n",
        "n=np.array([1,23,45,1,5,2])\n",
        "print(n)\n",
        "#before shuffle"
      ],
      "metadata": {
        "colab": {
          "base_uri": "https://localhost:8080/"
        },
        "id": "y-F_MhomPVhS",
        "outputId": "5466c070-ec20-4821-abca-533ee583826a"
      },
      "execution_count": null,
      "outputs": [
        {
          "output_type": "stream",
          "name": "stdout",
          "text": [
            "[ 1 23 45  1  5  2]\n"
          ]
        }
      ]
    },
    {
      "cell_type": "code",
      "source": [
        "#after shuffle\n",
        "np.random.shuffle(n)"
      ],
      "metadata": {
        "id": "8viGoPP2Pa9h"
      },
      "execution_count": null,
      "outputs": []
    },
    {
      "cell_type": "code",
      "source": [
        "#compute the qth percentile\n",
        "d=np.array([1,2,3,4])\n",
        "q=45\n",
        "np.percentile(d,q)"
      ],
      "metadata": {
        "colab": {
          "base_uri": "https://localhost:8080/"
        },
        "id": "VjTPN8ufPglK",
        "outputId": "676b887d-b24c-4ac7-9b9b-6d0403ef7251"
      },
      "execution_count": null,
      "outputs": [
        {
          "output_type": "execute_result",
          "data": {
            "text/plain": [
              "2.35"
            ]
          },
          "metadata": {},
          "execution_count": 42
        }
      ]
    },
    {
      "cell_type": "code",
      "source": [
        "#compute the correlation coefficient\n",
        "np.corrcoef(d)"
      ],
      "metadata": {
        "colab": {
          "base_uri": "https://localhost:8080/"
        },
        "id": "QAlykLY2PmSv",
        "outputId": "c07bccb4-95c3-41ad-9122-367c0e0e49b7"
      },
      "execution_count": null,
      "outputs": [
        {
          "output_type": "execute_result",
          "data": {
            "text/plain": [
              "1.0"
            ]
          },
          "metadata": {},
          "execution_count": 43
        }
      ]
    },
    {
      "cell_type": "code",
      "source": [
        "#logical operation\n",
        "c=np.array([True,False,True])\n",
        "d=np.array([True,False,False])\n",
        "np.logical_and(c,d)"
      ],
      "metadata": {
        "colab": {
          "base_uri": "https://localhost:8080/"
        },
        "id": "uUJw4ntePp6b",
        "outputId": "f5cc9d8b-5ee4-412d-ddd4-9b846f3a6ab2"
      },
      "execution_count": null,
      "outputs": [
        {
          "output_type": "execute_result",
          "data": {
            "text/plain": [
              "array([ True, False, False])"
            ]
          },
          "metadata": {},
          "execution_count": 44
        }
      ]
    },
    {
      "cell_type": "code",
      "source": [
        "np.logical_or(c,d)"
      ],
      "metadata": {
        "colab": {
          "base_uri": "https://localhost:8080/"
        },
        "id": "4KQBl7JmPwPh",
        "outputId": "c1c11230-2304-4b07-89ca-bf8f0442efc5"
      },
      "execution_count": null,
      "outputs": [
        {
          "output_type": "execute_result",
          "data": {
            "text/plain": [
              "array([ True, False,  True])"
            ]
          },
          "metadata": {},
          "execution_count": 45
        }
      ]
    },
    {
      "cell_type": "code",
      "source": [
        "np.logical_not(c,d)"
      ],
      "metadata": {
        "colab": {
          "base_uri": "https://localhost:8080/"
        },
        "id": "Kn3cTD8GPzag",
        "outputId": "dfdc80b7-1481-42a2-e6db-5665c7e2c464"
      },
      "execution_count": null,
      "outputs": [
        {
          "output_type": "execute_result",
          "data": {
            "text/plain": [
              "array([False,  True, False])"
            ]
          },
          "metadata": {},
          "execution_count": 46
        }
      ]
    },
    {
      "cell_type": "code",
      "source": [
        "#linear algebra\n",
        "import numpy as np\n",
        "\n",
        "# Create a 2x2 matrix\n",
        "matrix = np.array([[4, 7],\n",
        "                   [2, 6]])\n",
        "\n",
        "# Use np.linalg.inv() to compute the inverse\n",
        "inverse_matrix = np.linalg.inv(matrix)\n",
        "\n",
        "# Print the original and inverse matrices\n",
        "print(\"Original matrix:\")\n",
        "print(matrix)\n",
        "print(\"\\nInverse matrix:\")\n",
        "print(inverse_matrix)"
      ],
      "metadata": {
        "colab": {
          "base_uri": "https://localhost:8080/"
        },
        "id": "zTXC-WJlP4jy",
        "outputId": "41980cbf-f905-4827-d645-a6e416e0692b"
      },
      "execution_count": null,
      "outputs": [
        {
          "output_type": "stream",
          "name": "stdout",
          "text": [
            "Original matrix:\n",
            "[[4 7]\n",
            " [2 6]]\n",
            "\n",
            "Inverse matrix:\n",
            "[[ 0.6 -0.7]\n",
            " [-0.2  0.4]]\n"
          ]
        }
      ]
    },
    {
      "cell_type": "code",
      "source": [
        "#determinant of the matrix\n",
        "det_matrix=np.linalg.det(matrix)\n",
        "print(det_matrix)"
      ],
      "metadata": {
        "colab": {
          "base_uri": "https://localhost:8080/"
        },
        "id": "7kAwClB3P_Ux",
        "outputId": "604cd056-6ced-45b5-f241-707e42f37605"
      },
      "execution_count": null,
      "outputs": [
        {
          "output_type": "stream",
          "name": "stdout",
          "text": [
            "10.000000000000002\n"
          ]
        }
      ]
    },
    {
      "cell_type": "code",
      "source": [
        "#eigenvalues and eigen vectors\n",
        "eigen_v=np.linalg.eig(matrix)"
      ],
      "metadata": {
        "id": "AX7l6BznQEgI"
      },
      "execution_count": null,
      "outputs": []
    },
    {
      "cell_type": "code",
      "source": [
        "#sorting\n",
        "c=np.array([1,3,4,2,6,5])\n",
        "np.sort(c)"
      ],
      "metadata": {
        "colab": {
          "base_uri": "https://localhost:8080/"
        },
        "id": "4ZnaItS6QIx0",
        "outputId": "23142a0b-cba8-4341-8702-c229a8a50210"
      },
      "execution_count": null,
      "outputs": [
        {
          "output_type": "execute_result",
          "data": {
            "text/plain": [
              "array([1, 2, 3, 4, 5, 6])"
            ]
          },
          "metadata": {},
          "execution_count": 52
        }
      ]
    },
    {
      "cell_type": "code",
      "source": [
        "#creat an array\n",
        "a=np.array([1,2,3,4,5])\n",
        "#save the array to a binary file\n",
        "np.save('saved_array.npy',a)"
      ],
      "metadata": {
        "id": "mVBeNo4ZQQXK"
      },
      "execution_count": null,
      "outputs": []
    },
    {
      "cell_type": "code",
      "source": [
        "#load the array from th binary file\n",
        "loaded_array=np.load('saved_array.npy')\n",
        "print(\"original array:\",c)\n",
        "print(\"loaded array:\",loaded_array)"
      ],
      "metadata": {
        "colab": {
          "base_uri": "https://localhost:8080/"
        },
        "id": "5CBBweV-Qg3T",
        "outputId": "f9154dca-ec2d-4118-da4f-5cb89ae7e955"
      },
      "execution_count": null,
      "outputs": [
        {
          "output_type": "stream",
          "name": "stdout",
          "text": [
            "original array: [1 3 4 2 6 5]\n",
            "loaded array: [1 2 3 4 5]\n"
          ]
        }
      ]
    },
    {
      "cell_type": "code",
      "source": [
        "#copying\n",
        "import numpy as n\n",
        "a=n.array([1,276,63,])\n",
        "h=a.view()\n",
        "n.copy(a)\n",
        "h=a.copy\n",
        "print(h)\n",
        "print(a)\n",
        "print(arra.sort())"
      ],
      "metadata": {
        "colab": {
          "base_uri": "https://localhost:8080/"
        },
        "id": "c7wzmMejQlxv",
        "outputId": "2714ccc1-fc37-4dbd-b565-a4cb0a31b03b"
      },
      "execution_count": null,
      "outputs": [
        {
          "output_type": "stream",
          "name": "stdout",
          "text": [
            "<built-in method copy of numpy.ndarray object at 0x7c2e5c6fa4f0>\n",
            "[  1 276  63]\n",
            "None\n"
          ]
        }
      ]
    },
    {
      "cell_type": "code",
      "source": [
        "#indexing\n",
        "print(arr[1])\n",
        "print(a[a<2])"
      ],
      "metadata": {
        "colab": {
          "base_uri": "https://localhost:8080/"
        },
        "id": "dMGOjIlJQrdH",
        "outputId": "c2e4111d-9621-4dd8-f423-433b4972e77e"
      },
      "execution_count": null,
      "outputs": [
        {
          "output_type": "stream",
          "name": "stdout",
          "text": [
            "[4 5 6]\n",
            "[1]\n"
          ]
        }
      ]
    },
    {
      "cell_type": "code",
      "source": [
        "#array manipulation\n",
        "i=n.transpose(arr)\n",
        "print(i)\n",
        "print(arr.ravel())\n",
        "print(arra.reshape(3,-2))\n",
        "print(n.insert(ar,0,2))\n",
        "print(n.append(arr,arra))\n",
        "print(n.delete(ar,[2]))"
      ],
      "metadata": {
        "colab": {
          "base_uri": "https://localhost:8080/"
        },
        "id": "GfV4jW3hQvdH",
        "outputId": "3ededdc1-404d-4175-b3c0-4879dd2fd371"
      },
      "execution_count": null,
      "outputs": [
        {
          "output_type": "stream",
          "name": "stdout",
          "text": [
            "[[1 4]\n",
            " [2 5]\n",
            " [3 6]]\n",
            "[1 2 3 4 5 6]\n",
            "[[ 1  2  3]\n",
            " [10 11 12]\n",
            " [ 7  8  9]]\n",
            "[ 2  1 25 63]\n",
            "[ 1  2  3  4  5  6  1  2  3 10 11 12  7  8  9]\n",
            "[ 1 25]\n"
          ]
        }
      ]
    },
    {
      "cell_type": "code",
      "source": [
        "#splitting\n",
        "c=n.array([1,2,5])\n",
        "\n",
        "#combining\n",
        "print(n.concatenate((c,ar),axis=0))\n",
        "print(n.vstack((c,ar)))\n",
        "print(n.hstack((c,ar)))\n",
        "print(n.column_stack((c,ar)))"
      ],
      "metadata": {
        "colab": {
          "base_uri": "https://localhost:8080/"
        },
        "id": "hDzqkdlbQ1Mk",
        "outputId": "c82ce1c0-b9c1-4cd7-90c1-decd153b8dd4"
      },
      "execution_count": null,
      "outputs": [
        {
          "output_type": "stream",
          "name": "stdout",
          "text": [
            "[ 1  2  5  1 25 63]\n",
            "[[ 1  2  5]\n",
            " [ 1 25 63]]\n",
            "[ 1  2  5  1 25 63]\n",
            "[[ 1  1]\n",
            " [ 2 25]\n",
            " [ 5 63]]\n"
          ]
        }
      ]
    },
    {
      "cell_type": "code",
      "source": [
        "#arith\n",
        "print(ar-arr)\n",
        "print(n.multiply(a, arr))\n",
        "print(n.exp(a))\n",
        "print(n.sin(a))\n",
        "print(n.log(a))\n",
        "print(n.cos(a))\n",
        "print(n.divide(a, ar))\n",
        "print(n.subtract(a, arr))"
      ],
      "metadata": {
        "colab": {
          "base_uri": "https://localhost:8080/"
        },
        "id": "uqU2j8e4Q7Hb",
        "outputId": "38a2ba55-9b21-44f8-b974-2b127a5a7c41"
      },
      "execution_count": null,
      "outputs": [
        {
          "output_type": "stream",
          "name": "stdout",
          "text": [
            "[[ 0 23 60]\n",
            " [-3 20 57]]\n",
            "[[   1  552  189]\n",
            " [   4 1380  378]]\n",
            "[2.71828183e+000 7.33292098e+119 2.29378316e+027]\n",
            "[ 0.84147098 -0.44408566  0.1673557 ]\n",
            "[0.         5.62040087 4.14313473]\n",
            "[0.54030231 0.89598433 0.98589658]\n",
            "[ 1.   11.04  1.  ]\n",
            "[[  0 274  60]\n",
            " [ -3 271  57]]\n"
          ]
        }
      ]
    },
    {
      "cell_type": "code",
      "source": [
        "#comparison\n",
        "print(a==ar)\n",
        "print(a<3)\n",
        "print(n.array_equal(a, arr))"
      ],
      "metadata": {
        "colab": {
          "base_uri": "https://localhost:8080/"
        },
        "id": "x3_kEgKlRAR2",
        "outputId": "d75b78de-df59-4f81-d2fa-abc4f1aef05f"
      },
      "execution_count": null,
      "outputs": [
        {
          "output_type": "stream",
          "name": "stdout",
          "text": [
            "[ True False  True]\n",
            "[ True False False]\n",
            "False\n"
          ]
        }
      ]
    }
  ]
}