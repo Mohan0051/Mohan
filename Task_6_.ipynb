{
  "cells": [
    {
      "cell_type": "markdown",
      "metadata": {
        "id": "view-in-github",
        "colab_type": "text"
      },
      "source": [
        "<a href=\"https://colab.research.google.com/github/Mohan0051/Mohan/blob/main/Task_6_.ipynb\" target=\"_parent\"><img src=\"https://colab.research.google.com/assets/colab-badge.svg\" alt=\"Open In Colab\"/></a>"
      ]
    },
    {
      "cell_type": "markdown",
      "source": [
        "#part-A"
      ],
      "metadata": {
        "id": "b6BJw5FYWMOY"
      }
    },
    {
      "cell_type": "markdown",
      "source": [
        "#1.Define data science and Big data."
      ],
      "metadata": {
        "id": "YWUesaipW14R"
      }
    },
    {
      "cell_type": "markdown",
      "source": [
        "Data science is the study of working with a huge volume of data and enables data for prediction, prescriptive, and prescriptive analytical models."
      ],
      "metadata": {
        "id": "M-aifUrkX3JW"
      }
    },
    {
      "cell_type": "markdown",
      "source": [
        "#2.List an overview of common errors in retrieving data and which cleansing solutions to be employed."
      ],
      "metadata": {
        "id": "qJ1ncR9iYKNQ"
      }
    },
    {
      "cell_type": "markdown",
      "source": [
        "The 5 Most Common Mistakes in Getting & Cleaning Data Failing to Analyze the Data System. ... Focusing on a Small Subset of Data. ... Overlooking Duplicate Data. ... Cleaning Without Backing Up Data. ... Communication Breakdowns. ... Benefits of Getting & Cleaning Data."
      ],
      "metadata": {
        "id": "WimeEGWOYSgC"
      }
    },
    {
      "cell_type": "markdown",
      "source": [
        "#3.Classify the below list of data into their types: (a) ethnic group (b) age (c) family size (d) academic major (e) sexual preference (f) IQ score (g) net worth (dollars) (h) third-place finish (i) gender (j) temperature and write a brief note on them."
      ],
      "metadata": {
        "id": "IggnlfJlYYCf"
      }
    },
    {
      "cell_type": "markdown",
      "source": [
        "a) Ethnic group: Categorical data representing the cultural or ancestral background of individuals.(b) Age: Quantitative data representing the number of years since birth. It is continuous and measured on a numerical scale.(c) Family size: Quantitative discrete data representing the count of individuals in a family. It takes on whole number values.(d) Academic major: Categorical data indicating the field of study or specialization in education.(e) Sexual preference: Categorical data indicating an individual's sexual orientation.(f) IQ score: Quantitative data representing a person's intelligence quotient. It is measured on a numerical scale.(g) Net worth (dollars): Quantitative data representing the total assets minus liabilities of an individual. It is continuous and measured in dollars.(h) Third-place finish: Categorical data representing the ordinal position in a competition. It has a specific order but the intervals between the categories are not necessarily uniform.(i) Gender: Categorical data indicating whether an individual identifies as male, female, or non-binary.(j) Temperature: Quantitative continuous data representing the degree of hotness or coldness. It is measured on a numerical scale, typically in degrees Celsius or Fahrenheit."
      ],
      "metadata": {
        "id": "lJoOvj-raJle"
      }
    },
    {
      "cell_type": "markdown",
      "source": [
        "#4.Differentiate discrete and continuous variables."
      ],
      "metadata": {
        "id": "KQoY5088aY2q"
      }
    },
    {
      "cell_type": "markdown",
      "source": [
        "Discrete variables are distinct and separate, taking on specific, countable values. They often represent counts or whole numbers and have clear, separate intervals between values. Examples include the number of students in a class or the count of cars in a parking lot.Continuous variables, on the other hand, can take on an infinite number of values within a given range. They are not restricted to specific, separate points and can include any value within a given interval. Examples include height, weight, temperature, and time. Continuous variables are typically measured, not counted."
      ],
      "metadata": {
        "id": "sWt18PYXbLxw"
      }
    },
    {
      "cell_type": "markdown",
      "source": [
        "#5.What is a percentile rank? Give an example."
      ],
      "metadata": {
        "id": "1vYUz76obR8p"
      }
    },
    {
      "cell_type": "markdown",
      "source": [
        "A percentile rank is a measure that indicates the percentage of scores in a distribution that are equal to or below a particular value. It provides a relative position of a score within a set of scores.\n",
        "\n",
        "For example, if a student scores in the 80th percentile on a standardized test, it means they performed as well as or better than 80% of the other test-takers. In simpler terms, 80% of the scores in the distribution are below or equal to the student's score, while 20% are above. Percentile ranks are commonly used in educational and psychological assessments to interpret and compare individual performances in a standardized manner."
      ],
      "metadata": {
        "id": "3JdhePYHbX10"
      }
    },
    {
      "cell_type": "markdown",
      "source": [
        "#6.Consider Helen sent 10 greeting cards to her friends and she received back 8 cards, what is the kind of relationship it is? Brief on it."
      ],
      "metadata": {
        "id": "BYziVpGtbqk5"
      }
    },
    {
      "cell_type": "markdown",
      "source": [
        "The relationship between the number of greeting cards Helen sent (10) and the number she received back (8) suggests a reciprocal or mutual relationship. In this context, it indicates that Helen and her friends have exchanged cards, creating a two-way interaction. Each card sent has resulted in a response, reflecting a mutual exchange of greetings or communication between Helen and her friends. This type of relationship involves actions or expressions that are reciprocated between the parties involved."
      ],
      "metadata": {
        "id": "aXYD_HM0bg8j"
      }
    },
    {
      "cell_type": "markdown",
      "source": [
        "#7.List the attributes of a Numpy array. Give an example for it."
      ],
      "metadata": {
        "id": "CTK41r7BYmBN"
      }
    },
    {
      "cell_type": "markdown",
      "source": [
        "NumPy arrays have several attributes that provide information about their structure and characteristics. Here are some common attributes:\n",
        "\n",
        "1.shape: Returns a tuple representing the dimensions of the array.\n",
        "\n",
        "2.dtype: Specifies the data type of the elements in the array.\n",
        "\n",
        "3.size: Returns the total number of elements in the array.\n",
        "\n",
        "4.ndim: Indicates the number of dimensions (axes) in the array.\n",
        "\n",
        "5.itemsize: Returns the size (in bytes) of each element in the array.\n",
        "\n",
        "6.nbytes: Represents the total number of bytes consumed by the array's elements.\n",
        "\n",
        "Here's an example:"
      ],
      "metadata": {
        "id": "XlQ9hPNic5hH"
      }
    },
    {
      "cell_type": "code",
      "source": [
        "import numpy as np\n",
        "\n",
        "# Creating a NumPy array\n",
        "my_array = np.array([[1, 2, 3], [4, 5, 6]])\n",
        "\n",
        "# Displaying array attributes\n",
        "print(\"Shape:\", my_array.shape)\n",
        "print(\"Data type:\", my_array.dtype)\n",
        "print(\"Size:\", my_array.size)\n",
        "print(\"Number of dimensions:\", my_array.ndim)\n",
        "print(\"Size of each element (in bytes):\", my_array.itemsize)\n",
        "print(\"Total size of the array (in bytes):\", my_array.nbytes)"
      ],
      "metadata": {
        "colab": {
          "base_uri": "https://localhost:8080/"
        },
        "id": "0kPHB2Ohd2Md",
        "outputId": "335bd604-f3e4-4339-94de-e77ef619e4b3"
      },
      "execution_count": null,
      "outputs": [
        {
          "output_type": "stream",
          "name": "stdout",
          "text": [
            "Shape: (2, 3)\n",
            "Data type: int64\n",
            "Size: 6\n",
            "Number of dimensions: 2\n",
            "Size of each element (in bytes): 8\n",
            "Total size of the array (in bytes): 48\n"
          ]
        }
      ]
    },
    {
      "cell_type": "markdown",
      "source": [
        "#8.Create a data frame with key and data pairs as Key-Data pair as A-10, B-20, A-40, C-5, B-10, C-10. Find the sum of each key and display the result as each key group."
      ],
      "metadata": {
        "id": "ho2wJ8awsDsB"
      }
    },
    {
      "cell_type": "markdown",
      "source": [
        "To achieve this, you can use the pandas library to create a DataFrame and then use groupby to find the sum for each key. Here's an example:"
      ],
      "metadata": {
        "id": "ij_wF9x0s15V"
      }
    },
    {
      "cell_type": "code",
      "source": [
        "import pandas as pd\n",
        "\n",
        "# Creating the DataFrame\n",
        "data = {'Key': ['A', 'B', 'A', 'C', 'B', 'C'],\n",
        "        'Data': [10, 20, 40, 5, 10, 10]}\n",
        "\n",
        "df = pd.DataFrame(data)\n",
        "\n",
        "# Grouping by 'Key' and calculating the sum\n",
        "sum_by_key = df.groupby('Key')['Data'].sum()\n",
        "\n",
        "# Displaying the result\n",
        "print(sum_by_key)"
      ],
      "metadata": {
        "colab": {
          "base_uri": "https://localhost:8080/"
        },
        "id": "Y-he8mC-tC05",
        "outputId": "3d0d46a0-8868-444b-888e-2c4f964c480b"
      },
      "execution_count": null,
      "outputs": [
        {
          "output_type": "stream",
          "name": "stdout",
          "text": [
            "Key\n",
            "A    50\n",
            "B    30\n",
            "C    15\n",
            "Name: Data, dtype: int64\n"
          ]
        }
      ]
    },
    {
      "cell_type": "markdown",
      "source": [
        "#9.What is the purpose of errorbar function in Matplotlib? Give an example."
      ],
      "metadata": {
        "id": "3mu3JdP4to3B"
      }
    },
    {
      "cell_type": "markdown",
      "source": [
        "The errorbar function in Matplotlib is used to create error bar plots. Error bars are graphical representations of the variability or uncertainty of a data point. They are often used to indicate the confidence interval or standard deviation associated with each data point.\n",
        "\n",
        "Here's a simple example using the errorbar function:"
      ],
      "metadata": {
        "id": "fY7f-Y1vuwaG"
      }
    },
    {
      "cell_type": "code",
      "source": [
        "import matplotlib.pyplot as plt\n",
        "\n",
        "# Sample data\n",
        "x = [1, 2, 3, 4]\n",
        "y = [2, 4, 3, 5]\n",
        "\n",
        "# Error values (uncertainty or standard deviation)\n",
        "y_error = [0.2, 0.3, 0.1, 0.4]\n",
        "\n",
        "# Plotting with error bars\n",
        "plt.errorbar(x, y, yerr=y_error, fmt='o', label='Data with Error Bars')\n",
        "\n",
        "# Adding labels and title\n",
        "plt.xlabel('X-axis')\n",
        "plt.ylabel('Y-axis')\n",
        "plt.title('Error Bar Example')\n",
        "\n",
        "# Adding legend\n",
        "plt.legend()\n",
        "\n",
        "# Display the plot\n",
        "plt.show()"
      ],
      "metadata": {
        "colab": {
          "base_uri": "https://localhost:8080/",
          "height": 472
        },
        "id": "q8zOjN7fujbT",
        "outputId": "6d6f5a5b-b4d1-4f42-feed-b346692a84bd"
      },
      "execution_count": null,
      "outputs": [
        {
          "output_type": "display_data",
          "data": {
            "text/plain": [
              "<Figure size 640x480 with 1 Axes>"
            ],
            "image/png": "[encoded data removed]"
          },
          "metadata": {}
        }
      ]
    },
    {
      "cell_type": "markdown",
      "source": [
        "#part-B"
      ],
      "metadata": {
        "id": "Ln91CeRIvmNF"
      }
    },
    {
      "cell_type": "markdown",
      "source": [
        "#11(a) Examine the different facets of data with the challenges in their processing."
      ],
      "metadata": {
        "id": "Qw7rZpb0wPY-"
      }
    },
    {
      "cell_type": "markdown",
      "source": [
        "Analyzing and processing data involves dealing with various facets, each presenting its own set of challenges. Here are some key facets of data and the challenges associated with their processing:\n",
        "\n",
        "1. **Volume:**\n",
        "   - **Challenge:** Managing large volumes of data can be overwhelming. Storing, processing, and analyzing vast datasets require scalable infrastructure and efficient algorithms.\n",
        "\n",
        "2. **Velocity:**\n",
        "   - **Challenge:** Real-time or high-velocity data streams present challenges in processing speed. Systems need to handle and analyze data as it arrives, often requiring specialized tools and techniques.\n",
        "\n",
        "3. **Variety:**\n",
        "   - **Challenge:** Diverse data formats (structured, semi-structured, unstructured) pose challenges. Integrating and processing data from various sources with different structures and semantics can be complex.\n",
        "\n",
        "4. **Veracity:**\n",
        "   - **Challenge:** Dealing with the uncertainty and quality of data is crucial. Inaccurate or inconsistent data can lead to biased results and incorrect conclusions.\n",
        "\n",
        "5. **Value:**\n",
        "   - **Challenge:** Extracting meaningful insights and value from data requires sophisticated analytics. Identifying relevant patterns and trends amidst noise is a constant challenge.\n",
        "\n",
        "6. **Complexity:**\n",
        "   - **Challenge:** The complexity of data relationships and dependencies can hinder analysis. Handling intricate structures and relationships demands advanced modeling and processing techniques.\n",
        "\n",
        "7. **Security and Privacy:**\n",
        "   - **Challenge:** Ensuring the security and privacy of sensitive data is a critical concern. Safeguarding against unauthorized access and maintaining compliance with privacy regulations are ongoing challenges.\n",
        "\n",
        "8. **Scale:**\n",
        "   - **Challenge:** Scalability issues arise when expanding data processing to larger datasets or growing user bases. Systems need to handle increased loads efficiently.\n",
        "\n",
        "9. **Interoperability:**\n",
        "   - **Challenge:** Ensuring seamless data integration across different platforms, applications, and systems requires standardized formats and protocols.\n",
        "\n",
        "10. **Ethical Considerations:**\n",
        "    - **Challenge:** Addressing ethical concerns related to data usage, bias, and fairness is increasingly important. Ensuring responsible data practices is a challenge in today's data-driven environments.\n",
        "\n",
        "In addressing these challenges, organizations often employ a combination of advanced technologies, data management strategies, and ethical frameworks to make the most of their data assets."
      ],
      "metadata": {
        "id": "Q-2yUYJ_x3O2"
      }
    },
    {
      "cell_type": "markdown",
      "source": [
        "#11.(b)  Explore the various steps associated with data science process and explain any three steps of it with suitable diagrams and example"
      ],
      "metadata": {
        "id": "XfMnnmVV1lpa"
      }
    },
    {
      "cell_type": "markdown",
      "source": [
        "The data science process typically involves several steps, and it can be broadly summarized as follows:\n",
        "\n",
        "1.Problem Definition:\n",
        "\n",
        "Description: Clearly define the problem you're trying to solve or the question you're trying to answer. Understand the business context and goals.\n",
        "Example: If you're working in e-commerce, a problem definition could be improving product recommendations to increase user engagement and sales.\n",
        "\n",
        "2.Data Collection:\n",
        "\n",
        "Description: Gather relevant data from various sources. This may involve collecting raw data, obtaining datasets from external sources, or accessing data from APIs.\n",
        "Example: In the e-commerce scenario, you might collect data on user interactions, purchase history, and product details.\n",
        "\n",
        "3.Data Cleaning and Preprocessing:\n",
        "\n",
        "Description: Clean the data to handle missing values, outliers, and inconsistencies. Preprocess the data to make it suitable for analysis, which may include scaling, encoding categorical variables, and feature engineering.\n",
        "Example: Removing duplicate entries, filling in missing values, and transforming categorical variables into numerical formats.\n",
        "\n",
        "Now, let's provide a simple example in Google Colab for the Data Cleaning and Preprocessing step. In this example, we'll use a synthetic dataset."
      ],
      "metadata": {
        "id": "TjVN2BOz15r6"
      }
    },
    {
      "cell_type": "code",
      "source": [
        "# Import necessary libraries\n",
        "import pandas as pd\n",
        "import matplotlib.pyplot as plt\n",
        "\n",
        "# Create a synthetic dataset\n",
        "data = {'Name': ['Alice', 'Bob', 'Charlie', 'David', 'Eva'],\n",
        "        'Age': [25, 30, None, 22, 35],\n",
        "        'Gender': ['Female', 'Male', 'Male', 'Male', 'Female']}\n",
        "\n",
        "df = pd.DataFrame(data)\n",
        "\n",
        "# Display the raw data\n",
        "df\n"
      ],
      "metadata": {
        "colab": {
          "base_uri": "https://localhost:8080/",
          "height": 206
        },
        "id": "XPbHP8zW2fxk",
        "outputId": "9d5cd23b-9ec7-425c-af44-2a60397c8d14"
      },
      "execution_count": null,
      "outputs": [
        {
          "output_type": "execute_result",
          "data": {
            "text/plain": [
              "      Name   Age  Gender\n",
              "0    Alice  25.0  Female\n",
              "1      Bob  30.0    Male\n",
              "2  Charlie   NaN    Male\n",
              "3    David  22.0    Male\n",
              "4      Eva  35.0  Female"
            ],
            "text/html": [
              "\n",
              "  <div id=\"df-e15e9693-12b9-4072-bc2b-bdd46cce6e21\" class=\"colab-df-container\">\n",
              "    <div>\n",
              "<style scoped>\n",
              "    .dataframe tbody tr th:only-of-type {\n",
              "        vertical-align: middle;\n",
              "    }\n",
              "\n",
              "    .dataframe tbody tr th {\n",
              "        vertical-align: top;\n",
              "    }\n",
              "\n",
              "    .dataframe thead th {\n",
              "        text-align: right;\n",
              "    }\n",
              "</style>\n",
              "<table border=\"1\" class=\"dataframe\">\n",
              "  <thead>\n",
              "    <tr style=\"text-align: right;\">\n",
              "      <th></th>\n",
              "      <th>Name</th>\n",
              "      <th>Age</th>\n",
              "      <th>Gender</th>\n",
              "    </tr>\n",
              "  </thead>\n",
              "  <tbody>\n",
              "    <tr>\n",
              "      <th>0</th>\n",
              "      <td>Alice</td>\n",
              "      <td>25.0</td>\n",
              "      <td>Female</td>\n",
              "    </tr>\n",
              "    <tr>\n",
              "      <th>1</th>\n",
              "      <td>Bob</td>\n",
              "      <td>30.0</td>\n",
              "      <td>Male</td>\n",
              "    </tr>\n",
              "    <tr>\n",
              "      <th>2</th>\n",
              "      <td>Charlie</td>\n",
              "      <td>NaN</td>\n",
              "      <td>Male</td>\n",
              "    </tr>\n",
              "    <tr>\n",
              "      <th>3</th>\n",
              "      <td>David</td>\n",
              "      <td>22.0</td>\n",
              "      <td>Male</td>\n",
              "    </tr>\n",
              "    <tr>\n",
              "      <th>4</th>\n",
              "      <td>Eva</td>\n",
              "      <td>35.0</td>\n",
              "      <td>Female</td>\n",
              "    </tr>\n",
              "  </tbody>\n",
              "</table>\n",
              "</div>\n",
              "    <div class=\"colab-df-buttons\">\n",
              "\n",
              "  <div class=\"colab-df-container\">\n",
              "    <button class=\"colab-df-convert\" onclick=\"convertToInteractive('df-e15e9693-12b9-4072-bc2b-bdd46cce6e21')\"\n",
              "            title=\"Convert this dataframe to an interactive table.\"\n",
              "            style=\"display:none;\">\n",
              "\n",
              "  <svg xmlns=\"http://www.w3.org/2000/svg\" height=\"24px\" viewBox=\"0 -960 960 960\">\n",
              "    <path d=\"M120-120v-720h720v720H120Zm60-500h600v-160H180v160Zm220 220h160v-160H400v160Zm0 220h160v-160H400v160ZM180-400h160v-160H180v160Zm440 0h160v-160H620v160ZM180-180h160v-160H180v160Zm440 0h160v-160H620v160Z\"/>\n",
              "  </svg>\n",
              "    </button>\n",
              "\n",
              "  <style>\n",
              "    .colab-df-container {\n",
              "      display:flex;\n",
              "      gap: 12px;\n",
              "    }\n",
              "\n",
              "    .colab-df-convert {\n",
              "      background-color: #E8F0FE;\n",
              "      border: none;\n",
              "      border-radius: 50%;\n",
              "      cursor: pointer;\n",
              "      display: none;\n",
              "      fill: #1967D2;\n",
              "      height: 32px;\n",
              "      padding: 0 0 0 0;\n",
              "      width: 32px;\n",
              "    }\n",
              "\n",
              "    .colab-df-convert:hover {\n",
              "      background-color: #E2EBFA;\n",
              "      box-shadow: 0px 1px 2px rgba(60, 64, 67, 0.3), 0px 1px 3px 1px rgba(60, 64, 67, 0.15);\n",
              "      fill: #174EA6;\n",
              "    }\n",
              "\n",
              "    .colab-df-buttons div {\n",
              "      margin-bottom: 4px;\n",
              "    }\n",
              "\n",
              "    [theme=dark] .colab-df-convert {\n",
              "      background-color: #3B4455;\n",
              "      fill: #D2E3FC;\n",
              "    }\n",
              "\n",
              "    [theme=dark] .colab-df-convert:hover {\n",
              "      background-color: #434B5C;\n",
              "      box-shadow: 0px 1px 3px 1px rgba(0, 0, 0, 0.15);\n",
              "      filter: drop-shadow(0px 1px 2px rgba(0, 0, 0, 0.3));\n",
              "      fill: #FFFFFF;\n",
              "    }\n",
              "  </style>\n",
              "\n",
              "    <script>\n",
              "      const buttonEl =\n",
              "        document.querySelector('#df-e15e9693-12b9-4072-bc2b-bdd46cce6e21 button.colab-df-convert');\n",
              "      buttonEl.style.display =\n",
              "        google.colab.kernel.accessAllowed ? 'block' : 'none';\n",
              "\n",
              "      async function convertToInteractive(key) {\n",
              "        const element = document.querySelector('#df-e15e9693-12b9-4072-bc2b-bdd46cce6e21');\n",
              "        const dataTable =\n",
              "          await google.colab.kernel.invokeFunction('convertToInteractive',\n",
              "                                                    [key], {});\n",
              "        if (!dataTable) return;\n",
              "\n",
              "        const docLinkHtml = 'Like what you see? Visit the ' +\n",
              "          '<a target=\"_blank\" href=https://colab.research.google.com/notebooks/data_table.ipynb>data table notebook</a>'\n",
              "          + ' to learn more about interactive tables.';\n",
              "        element.innerHTML = '';\n",
              "        dataTable['output_type'] = 'display_data';\n",
              "        await google.colab.output.renderOutput(dataTable, element);\n",
              "        const docLink = document.createElement('div');\n",
              "        docLink.innerHTML = docLinkHtml;\n",
              "        element.appendChild(docLink);\n",
              "      }\n",
              "    </script>\n",
              "  </div>\n",
              "\n",
              "\n",
              "<div id=\"df-b10ecced-c30d-488a-a2c0-d12fa6cf52f1\">\n",
              "  <button class=\"colab-df-quickchart\" onclick=\"quickchart('df-b10ecced-c30d-488a-a2c0-d12fa6cf52f1')\"\n",
              "            title=\"Suggest charts\"\n",
              "            style=\"display:none;\">\n",
              "\n",
              "<svg xmlns=\"http://www.w3.org/2000/svg\" height=\"24px\"viewBox=\"0 0 24 24\"\n",
              "     width=\"24px\">\n",
              "    <g>\n",
              "        <path d=\"M19 3H5c-1.1 0-2 .9-2 2v14c0 1.1.9 2 2 2h14c1.1 0 2-.9 2-2V5c0-1.1-.9-2-2-2zM9 17H7v-7h2v7zm4 0h-2V7h2v10zm4 0h-2v-4h2v4z\"/>\n",
              "    </g>\n",
              "</svg>\n",
              "  </button>\n",
              "\n",
              "<style>\n",
              "  .colab-df-quickchart {\n",
              "      --bg-color: #E8F0FE;\n",
              "      --fill-color: #1967D2;\n",
              "      --hover-bg-color: #E2EBFA;\n",
              "      --hover-fill-color: #174EA6;\n",
              "      --disabled-fill-color: #AAA;\n",
              "      --disabled-bg-color: #DDD;\n",
              "  }\n",
              "\n",
              "  [theme=dark] .colab-df-quickchart {\n",
              "      --bg-color: #3B4455;\n",
              "      --fill-color: #D2E3FC;\n",
              "      --hover-bg-color: #434B5C;\n",
              "      --hover-fill-color: #FFFFFF;\n",
              "      --disabled-bg-color: #3B4455;\n",
              "      --disabled-fill-color: #666;\n",
              "  }\n",
              "\n",
              "  .colab-df-quickchart {\n",
              "    background-color: var(--bg-color);\n",
              "    border: none;\n",
              "    border-radius: 50%;\n",
              "    cursor: pointer;\n",
              "    display: none;\n",
              "    fill: var(--fill-color);\n",
              "    height: 32px;\n",
              "    padding: 0;\n",
              "    width: 32px;\n",
              "  }\n",
              "\n",
              "  .colab-df-quickchart:hover {\n",
              "    background-color: var(--hover-bg-color);\n",
              "    box-shadow: 0 1px 2px rgba(60, 64, 67, 0.3), 0 1px 3px 1px rgba(60, 64, 67, 0.15);\n",
              "    fill: var(--button-hover-fill-color);\n",
              "  }\n",
              "\n",
              "  .colab-df-quickchart-complete:disabled,\n",
              "  .colab-df-quickchart-complete:disabled:hover {\n",
              "    background-color: var(--disabled-bg-color);\n",
              "    fill: var(--disabled-fill-color);\n",
              "    box-shadow: none;\n",
              "  }\n",
              "\n",
              "  .colab-df-spinner {\n",
              "    border: 2px solid var(--fill-color);\n",
              "    border-color: transparent;\n",
              "    border-bottom-color: var(--fill-color);\n",
              "    animation:\n",
              "      spin 1s steps(1) infinite;\n",
              "  }\n",
              "\n",
              "  @keyframes spin {\n",
              "    0% {\n",
              "      border-color: transparent;\n",
              "      border-bottom-color: var(--fill-color);\n",
              "      border-left-color: var(--fill-color);\n",
              "    }\n",
              "    20% {\n",
              "      border-color: transparent;\n",
              "      border-left-color: var(--fill-color);\n",
              "      border-top-color: var(--fill-color);\n",
              "    }\n",
              "    30% {\n",
              "      border-color: transparent;\n",
              "      border-left-color: var(--fill-color);\n",
              "      border-top-color: var(--fill-color);\n",
              "      border-right-color: var(--fill-color);\n",
              "    }\n",
              "    40% {\n",
              "      border-color: transparent;\n",
              "      border-right-color: var(--fill-color);\n",
              "      border-top-color: var(--fill-color);\n",
              "    }\n",
              "    60% {\n",
              "      border-color: transparent;\n",
              "      border-right-color: var(--fill-color);\n",
              "    }\n",
              "    80% {\n",
              "      border-color: transparent;\n",
              "      border-right-color: var(--fill-color);\n",
              "      border-bottom-color: var(--fill-color);\n",
              "    }\n",
              "    90% {\n",
              "      border-color: transparent;\n",
              "      border-bottom-color: var(--fill-color);\n",
              "    }\n",
              "  }\n",
              "</style>\n",
              "\n",
              "  <script>\n",
              "    async function quickchart(key) {\n",
              "      const quickchartButtonEl =\n",
              "        document.querySelector('#' + key + ' button');\n",
              "      quickchartButtonEl.disabled = true;  // To prevent multiple clicks.\n",
              "      quickchartButtonEl.classList.add('colab-df-spinner');\n",
              "      try {\n",
              "        const charts = await google.colab.kernel.invokeFunction(\n",
              "            'suggestCharts', [key], {});\n",
              "      } catch (error) {\n",
              "        console.error('Error during call to suggestCharts:', error);\n",
              "      }\n",
              "      quickchartButtonEl.classList.remove('colab-df-spinner');\n",
              "      quickchartButtonEl.classList.add('colab-df-quickchart-complete');\n",
              "    }\n",
              "    (() => {\n",
              "      let quickchartButtonEl =\n",
              "        document.querySelector('#df-b10ecced-c30d-488a-a2c0-d12fa6cf52f1 button');\n",
              "      quickchartButtonEl.style.display =\n",
              "        google.colab.kernel.accessAllowed ? 'block' : 'none';\n",
              "    })();\n",
              "  </script>\n",
              "</div>\n",
              "    </div>\n",
              "  </div>\n"
            ]
          },
          "metadata": {},
          "execution_count": 3
        }
      ]
    },
    {
      "cell_type": "markdown",
      "source": [
        "# 12(a) Demonstrate the different types of variables used in data analysis with an example for each."
      ],
      "metadata": {
        "id": "5GSXphCN1dLd"
      }
    },
    {
      "cell_type": "markdown",
      "source": [
        "In data analysis, variables can be categorized into different types based on their nature and characteristics. The main types are categorical, numerical (discrete and continuous), and ordinal variables. Here's a demonstration with examples for each type:\n",
        "\n",
        "1. **Categorical Variable:**\n",
        "   - **Definition:** Categorical variables represent categories or labels and can take on a limited, fixed number of values.\n",
        "   - **Example:** Gender (categories: Male, Female, Non-binary)\n",
        "   ```python\n",
        "   import pandas as pd\n",
        "\n",
        "   # Creating a DataFrame with a categorical variable\n",
        "   data = {'Name': ['Alice', 'Bob', 'Charlie', 'David'],\n",
        "           'Gender': ['Female', 'Male', 'Male', 'Non-binary']}\n",
        "   df = pd.DataFrame(data)\n",
        "   ```\n",
        "\n",
        "2. **Numerical Variable (Discrete):**\n",
        "   - **Definition:** Discrete numerical variables represent countable, distinct values with gaps between them.\n",
        "   - **Example:** Number of siblings (1, 2, 3, ...)\n",
        "   ```python\n",
        "   import numpy as np\n",
        "\n",
        "   # Generating an array of discrete numerical values\n",
        "   siblings = np.array([1, 2, 3, 2, 1, 0, 4])\n",
        "   ```\n",
        "\n",
        "3. **Numerical Variable (Continuous):**\n",
        "   - **Definition:** Continuous numerical variables can take on an infinite number of values within a given range.\n",
        "   - **Example:** Height in centimeters (e.g., 165.5, 170.2, ...)\n",
        "   ```python\n",
        "   # Generating an array of continuous numerical values\n",
        "   heights = np.array([165.5, 170.2, 175.0, 168.8, 172.1])\n",
        "   ```\n",
        "\n",
        "4. **Ordinal Variable:**\n",
        "   - **Definition:** Ordinal variables have a clear order or ranking but the intervals between values may not be consistent.\n",
        "   - **Example:** Education level (e.g., High School, Bachelor's, Master's, PhD)\n",
        "   ```python\n",
        "   # Creating a DataFrame with an ordinal variable\n",
        "   data = {'Name': ['Eva', 'Frank', 'Grace', 'Henry'],\n",
        "           'Education': ['Bachelor\\'s', 'PhD', 'Master\\'s', 'High School']}\n",
        "   df_ordinal = pd.DataFrame(data)\n",
        "   ```\n",
        "\n",
        "These examples illustrate the different types of variables commonly encountered in data analysis. Understanding the nature of variables is crucial for selecting appropriate analysis techniques and drawing meaningful insights from the data."
      ],
      "metadata": {
        "id": "-VWq4pR22wQl"
      }
    },
    {
      "cell_type": "markdown",
      "source": [
        "\n",
        "#12.(B)The number of friends reported by Facebook users is summarized in the following frequency distribution\n",
        "\n",
        "FRIENDS /\n",
        "\n",
        "400-above 2\n",
        "\n",
        "350-399\n",
        "\n",
        "5\n",
        "\n",
        "300-349\n",
        "\n",
        "12\n",
        "\n",
        "250-299\n",
        "\n",
        "17\n",
        "\n",
        "200-249\n",
        "\n",
        "23\n",
        "\n",
        "150-199\n",
        "\n",
        "49\n",
        "\n",
        "100-149\n",
        "\n",
        "27\n",
        "\n",
        "50-99\n",
        "\n",
        "29\n",
        "\n",
        "0-49\n",
        "\n",
        "36\n",
        "\n",
        "Total\n",
        "\n",
        "200"
      ],
      "metadata": {
        "id": "pdlih7hgeqkL"
      }
    },
    {
      "cell_type": "markdown",
      "source": [
        "#1.Shape of this distribution"
      ],
      "metadata": {
        "id": "uD7eMgVchqG_"
      }
    },
    {
      "cell_type": "code",
      "source": [
        "import pandas as pd\n",
        "\n",
        "# Frequency distribution data\n",
        "friends_range = ['400-above', '350-399', '300-349', '250-299', '200-249', '150-199', '100-149', '50-99', '0-49']\n",
        "frequency = [2, 5, 12, 17, 23, 49, 27, 29, 36]\n",
        "# Create a DataFrame\n",
        "data = {'Friends Range': friends_range, 'Frequency': frequency}\n",
        "df = pd.DataFrame(data)\n",
        "# Print the DataFrame\n",
        "print(df)"
      ],
      "metadata": {
        "colab": {
          "base_uri": "https://localhost:8080/"
        },
        "id": "eyNRiqPVfXvY",
        "outputId": "74174581-1d18-4974-9a74-8fa960bc6087"
      },
      "execution_count": null,
      "outputs": [
        {
          "output_type": "stream",
          "name": "stdout",
          "text": [
            "  Friends Range  Frequency\n",
            "0     400-above          2\n",
            "1       350-399          5\n",
            "2       300-349         12\n",
            "3       250-299         17\n",
            "4       200-249         23\n",
            "5       150-199         49\n",
            "6       100-149         27\n",
            "7         50-99         29\n",
            "8          0-49         36\n"
          ]
        }
      ]
    },
    {
      "cell_type": "markdown",
      "source": [
        "# 2.Relative frequency"
      ],
      "metadata": {
        "id": "iCirIGaUiKPp"
      }
    },
    {
      "cell_type": "markdown",
      "source": [],
      "metadata": {
        "id": "sYpe5YMyVivR"
      }
    },
    {
      "cell_type": "code",
      "source": [
        "import matplotlib.pyplot as plt\n",
        "\n",
        "# Frequency distribution data\n",
        "friends_range = ['400-above', '350-399', '300-349', '250-299', '200-249', '150-199', '100-149', '50-99', '0-49']\n",
        "frequency = [2, 5, 12, 17, 23, 49, 27, 29, 36]\n",
        "\n",
        "# Plotting the histogram\n",
        "plt.bar(friends_range, frequency, color='blue')\n",
        "plt.xlabel('Number of Friends')\n",
        "plt.ylabel('Frequency')\n",
        "plt.title('Distribution of Number of Friends on Facebook')\n",
        "plt.xticks(rotation=45)  # Rotate x-axis labels for better visibility\n",
        "plt.show()"
      ],
      "metadata": {
        "colab": {
          "base_uri": "https://localhost:8080/",
          "height": 260
        },
        "id": "K3DeB3pXevU6",
        "outputId": "ea3f5a0a-e301-4b84-8db8-d4468d67eef0"
      },
      "execution_count": null,
      "outputs": [
        {
          "output_type": "display_data",
          "data": {
            "text/plain": [
              "<Figure size 640x480 with 1 Axes>"
            ],
            "image/png": "[encoded data removed]"
          },
          "metadata": {}
        }
      ]
    },
    {
      "cell_type": "markdown",
      "source": [
        "# 3.Approximate Percentile Rank"
      ],
      "metadata": {
        "id": "m3bHAFa8jBn0"
      }
    },
    {
      "cell_type": "code",
      "source": [
        "# Total number of observations\n",
        "total_observations = 200\n",
        "\n",
        "# Calculate relative frequencies\n",
        "relative_frequencies = [freq / total_observations for freq in frequency]\n",
        "\n",
        "# Print relative frequencies\n",
        "for i in range(len(friends_range)):\n",
        "    print(f\"Relative Frequency for {friends_range[i]}: {relative_frequencies[i]:.2f}\")"
      ],
      "metadata": {
        "colab": {
          "base_uri": "https://localhost:8080/"
        },
        "id": "d21_LZZBfoJI",
        "outputId": "f3ae8410-7b1c-449c-b001-b3b25e48f416"
      },
      "execution_count": null,
      "outputs": [
        {
          "output_type": "stream",
          "name": "stdout",
          "text": [
            "Relative Frequency for 400-above: 0.01\n",
            "Relative Frequency for 350-399: 0.03\n",
            "Relative Frequency for 300-349: 0.06\n",
            "Relative Frequency for 250-299: 0.09\n",
            "Relative Frequency for 200-249: 0.12\n",
            "Relative Frequency for 150-199: 0.24\n",
            "Relative Frequency for 100-149: 0.14\n",
            "Relative Frequency for 50-99: 0.14\n",
            "Relative Frequency for 0-49: 0.18\n"
          ]
        }
      ]
    },
    {
      "cell_type": "markdown",
      "source": [
        "# 4.Convert to a Histogram"
      ],
      "metadata": {
        "id": "dhUen4wsjjlF"
      }
    },
    {
      "cell_type": "code",
      "source": [
        "# Index of the interval 300-349\n",
        "interval_index = friends_range.index('300-349')\n",
        "\n",
        "# Calculate cumulative relative frequency up to the given interval\n",
        "cumulative_relative_frequency = sum(relative_frequencies[:interval_index + 1])\n",
        "\n",
        "# Calculate approximate percentile rank\n",
        "percentile_rank = cumulative_relative_frequency * 100\n",
        "\n",
        "print(f\"Approximate Percentile Rank of the interval 300-349: {percentile_rank:.2f}%\")"
      ],
      "metadata": {
        "colab": {
          "base_uri": "https://localhost:8080/"
        },
        "id": "HQ_64lpFfvKO",
        "outputId": "03aa0393-f5fc-49d9-f5e6-81439a51aa0d"
      },
      "execution_count": null,
      "outputs": [
        {
          "output_type": "stream",
          "name": "stdout",
          "text": [
            "Approximate Percentile Rank of the interval 300-349: 9.50%\n"
          ]
        }
      ]
    },
    {
      "cell_type": "code",
      "source": [
        "import matplotlib.pyplot as plt\n",
        "\n",
        "# Frequency distribution data\n",
        "friends_range = ['400-above', '350-399', '300-349', '250-299', '200-249', '150-199', '100-149', '50-99', '0-49']\n",
        "frequency = [2, 5, 12, 17, 23, 49, 27, 29, 36]\n",
        "\n",
        "# Calculate relative frequencies\n",
        "total_observations = sum(frequency)\n",
        "relative_frequencies = [freq / total_observations for freq in frequency]\n",
        "\n",
        "# Plotting the histogram\n",
        "plt.bar(friends_range, relative_frequencies, color='skyblue', edgecolor='black')\n",
        "plt.xlabel('Number of Friends')\n",
        "plt.ylabel('Relative Frequency')\n",
        "plt.title('Histogram of Number of Friends on Facebook')\n",
        "plt.xticks(rotation=45)\n",
        "plt.show()"
      ],
      "metadata": {
        "colab": {
          "base_uri": "https://localhost:8080/",
          "height": 254
        },
        "id": "ADccUqFggHhX",
        "outputId": "425ef08d-529e-435a-9088-374e5f788179"
      },
      "execution_count": null,
      "outputs": [
        {
          "output_type": "display_data",
          "data": {
            "text/plain": [
              "<Figure size 640x480 with 1 Axes>"
            ],
            "image/png": "[encoded data removed]"
          },
          "metadata": {}
        }
      ]
    },
    {
      "cell_type": "markdown",
      "source": [
        "#13(a) (i)Categorize the different types of relationships using Scatter plots.\n",
        "\n",
        "#(ii) Each of the following pairs represents the number of licensed drivers (X) and the number of cars (Y) for seven houses in my neighborhood:\n",
        "\n",
        "Drivers (X)     Cars (Y)\n",
        "   5               4\n",
        "   5               3\n",
        "   2               2\n",
        "   2               2\n",
        "   3               2\n",
        "   1               1\n",
        "   2               2\n"
      ],
      "metadata": {
        "id": "cdcwTJwl3Yee"
      }
    },
    {
      "cell_type": "markdown",
      "source": [
        "(a) (i)\n",
        "\n",
        "Scatter plots are useful for visualizing relationships between two variables. The types of relationships can be categorized based on the patterns observed in the scatter plot:\n",
        "\n",
        "1. **Positive Linear Relationship:**\n",
        "   - **Description:** As one variable increases, the other also increases, forming a roughly straight line.\n",
        "   - **Example:** ![Positive Linear Relationship](scatter_positive_linear.png)\n",
        "\n",
        "2. **Negative Linear Relationship:**\n",
        "   - **Description:** As one variable increases, the other decreases, forming a roughly straight line.\n",
        "   - **Example:** ![Negative Linear Relationship](scatter_negative_linear.png)\n",
        "\n",
        "3. **No Clear Relationship (Random):**\n",
        "   - **Description:** No apparent pattern or correlation between the two variables.\n",
        "   - **Example:** ![No Clear Relationship](scatter_no_relationship.png)\n",
        "\n",
        "4. **Non-Linear Relationship:**\n",
        "   - **Description:** The relationship between variables follows a curve or pattern other than a straight line.\n",
        "   - **Example:** ![Non-Linear Relationship](scatter_non_linear.png)\n",
        "\n",
        "5. **Clustered Relationship:**\n",
        "   - **Description:** Data points form distinct clusters, indicating potential subgroups or categories.\n",
        "   - **Example:** ![Clustered Relationship](scatter_clustered.png)\n",
        "\n",
        "6. **Outliers:**\n",
        "   - **Description:** Individual data points that significantly deviate from the overall pattern.\n",
        "   - **Example:** ![Outliers](scatter_outliers.png)\n",
        "\n",
        "7. **Strong vs. Weak Relationship:**\n",
        "   - **Description:** The strength of the relationship is determined by how closely the points follow a trend.\n",
        "   - **Example:** ![Strong vs. Weak Relationship](scatter_strong_weak.png)\n",
        "\n",
        "(a) (ii)\n",
        "\n",
        "Given pairs of licensed drivers (X) and the number of cars (Y) for seven houses:\n",
        "\n",
        "```plaintext\n",
        "X: 4 2 3 1 2 2 1\n",
        "Y: 3 5 2 2 1 2 2\n",
        "```\n",
        "\n",
        "To analyze the relationship between the number of licensed drivers and the number of cars, you can create a scatter plot using these pairs:\n",
        "\n",
        "```python\n",
        "import matplotlib.pyplot as plt\n",
        "\n",
        "# Given data\n",
        "drivers = [4, 2, 3, 1, 2, 2, 1]\n",
        "cars = [3, 5, 2, 2, 1, 2, 2]\n",
        "\n",
        "# Scatter plot\n",
        "plt.scatter(drivers, cars, color='blue')\n",
        "plt.xlabel('Number of Licensed Drivers')\n",
        "plt.ylabel('Number of Cars')\n",
        "plt.title('Scatter Plot: Drivers vs. Cars')\n",
        "plt.show()\n",
        "```\n",
        "\n",
        "This code will create a scatter plot to visualize the relationship between the number of licensed drivers and the number of cars for the seven houses in your neighborhood."
      ],
      "metadata": {
        "id": "yNgjbM_X5Tii"
      }
    },
    {
      "cell_type": "markdown",
      "source": [
        "#13.(B)In studies dating back over years, regression toward the mean occurs between the heights of fathers and the heights of their adult Sons.\n",
        "\n",
        "Indicate whether the following statements are true or false.\n",
        "\n",
        "(1) Sons of tall fathers will tend to be shorter than their fathers.\n",
        "\n",
        "(2) Sons of short fathers will tend to be taller than the mean for all sons.\n",
        "\n",
        "(3) Every son of a tall father will be shorter than his father.\n",
        "\n",
        "(4) Taken as a group, adult sons are shorter than their fathers.\n",
        "\n",
        "(5) Fathers of tall sons will tend to be taller than their sons.\n",
        "\n",
        "(6) Fathers of short sons will tend to be taller than their sons but shorter than the mean for all fathers.\n",
        "\n"
      ],
      "metadata": {
        "id": "NeM2X6kkZ5Me"
      }
    },
    {
      "cell_type": "markdown",
      "source": [
        "In the context of the heights of fathers and their adult sons, we can make some general statements based on the concept of regression toward the mean:\n",
        "\n",
        "Sons of tall fathers will tend to be shorter than their fathers.\n",
        "\n",
        "True. This is in line with the idea of regression toward the mean. If a father is exceptionally tall, his son is likely to be tall but not as tall as the father.\n",
        "Sons of short fathers will tend to be taller than the mean for all sons.\n",
        "\n",
        "True. Similarly, if a father is exceptionally short, his son is likely to be taller than him, but not as tall as the mean for all sons.\n",
        "Every son of a tall father will be shorter than his father.\n",
        "\n",
        "False. While there is a tendency for sons of tall fathers to be shorter than their fathers, it's not a strict rule. Some sons may still be taller than their tall fathers due to other factors.\n",
        "Taken as a group, adult sons are shorter than their fathers.\n",
        "\n",
        "True. This is a generalization based on the concept of regression toward the mean. On average, adult sons are expected to be shorter than their fathers when considered as a group.\n",
        "Fathers of tall sons will tend to be taller than their sons.\n",
        "\n",
        "False. The trend is for tall fathers to have sons who are still tall but not as tall as the fathers. The fathers may still be taller, on average, than their tall sons.\n",
        "Fathers of short sons will tend to be taller than their sons but shorter than the mean for all fathers.\n",
        "\n",
        "True. This statement aligns with the concept of regression toward the mean. Fathers of short sons are expected to be taller than their sons but not as tall as the mean for all fathers."
      ],
      "metadata": {
        "id": "5wupRtcw5ZvU"
      }
    },
    {
      "cell_type": "markdown",
      "source": [
        "In the context of the heights of fathers and their adult sons, here are the evaluations for each statement:\n",
        "\n",
        "(1) True. Sons of tall fathers will tend to be shorter than their fathers due to regression toward the mean.\n",
        "\n",
        "(2) True. Sons of short fathers will tend to be taller than the mean for all sons due to regression toward the mean.\n",
        "\n",
        "(3) False. While sons of tall fathers will tend to be shorter than their fathers on average, it doesn't mean every individual son will be shorter than his father.\n",
        "\n",
        "(4) False. Regression toward the mean does not imply that taken as a group, adult sons are shorter than their fathers. It refers to individual cases, not the entire group.\n",
        "\n",
        "(5) True. Fathers of tall sons will tend to be taller than their sons, as the sons are regressing toward the mean.\n",
        "\n",
        "(6) True. Fathers of short sons will tend to be taller than their sons but shorter than the mean for all fathers due to regression toward the mean.\n",
        "\n",
        "It's important to note that while these statements are generally true on average, there can be individual cases that deviate from these trends.\n",
        "\n",
        "\n",
        "\n",
        "\n",
        "\n"
      ],
      "metadata": {
        "id": "V7mcYaStYxR1"
      }
    },
    {
      "cell_type": "markdown",
      "source": [
        "#14(a) Imagine you have a series of data that represents the amount of precipitation each day for a year in a given city. Load the daily rainfall statistics for the city of Chennai in 2021 which is given in a csv file Chennairainfall2021.csv using Pandas generate a histogram for rainy days, and find out the days that have high rainfall."
      ],
      "metadata": {
        "id": "HsDxkcYsaNZV"
      }
    },
    {
      "cell_type": "markdown",
      "source": [
        "I cannot directly load files or perform file operations in this environment. However, I can guide you through the process of loading the data and generating a histogram using pandas in Python.\n",
        "\n",
        "Assuming you have a CSV file named \"Chennairainfall2021.csv\" with a column named \"Rainfall\" containing the daily precipitation data, here's a general code outline:\n",
        "\n",
        "```python\n",
        "import pandas as pd\n",
        "import matplotlib.pyplot as plt\n",
        "\n",
        "# Load the CSV file into a pandas DataFrame\n",
        "file_path = 'Chennairainfall2021.csv'\n",
        "df = pd.read_csv(file_path)\n",
        "\n",
        "# Display the first few rows of the DataFrame to inspect the data\n",
        "print(df.head())\n",
        "\n",
        "# Generate a histogram for rainy days\n",
        "plt.hist(df['Rainfall'], bins=20, color='blue', edgecolor='black')\n",
        "plt.xlabel('Rainfall (mm)')\n",
        "plt.ylabel('Frequency')\n",
        "plt.title('Daily Rainfall Histogram - Chennai 2021')\n",
        "plt.show()\n",
        "\n",
        "# Find days with high rainfall (adjust the threshold based on your definition of \"high\")\n",
        "high_rainfall_days = df[df['Rainfall'] > 50]\n",
        "print('Days with High Rainfall:')\n",
        "print(high_rainfall_days)\n",
        "```\n",
        "\n",
        "Make sure to adjust the file path and the threshold for high rainfall based on your specific data and criteria. This code will load the data, generate a histogram to visualize the distribution of daily rainfall, and identify days with high rainfall based on your specified threshold."
      ],
      "metadata": {
        "id": "H_mpkq5WaoeT"
      }
    },
    {
      "cell_type": "markdown",
      "source": [
        "#14.b) Consider that, an E-Commerce organization like Amazon, have different regions sales as NorthSales, SouthSales, WestSales, EastSales.csv files. They want to combine North and West region sales and South and East sales to find the aggregate sales of these collaborating regions Help them to do so using Python code."
      ],
      "metadata": {
        "id": "Exj1xlgmdjZA"
      }
    },
    {
      "cell_type": "markdown",
      "source": [
        " Here's an example code snippet to combine the North and West region sales and the South and East region sales:\n",
        "\n",
        "```python\n",
        "\n",
        "import pandas as pd\n",
        "\n",
        "# Assuming you have NorthSales.csv, SouthSales.csv, WestSales.csv, and EastSales.csv files\n",
        "north_sales = pd.read_csv('NorthSales.csv')\n",
        "south_sales = pd.read_csv('SouthSales.csv')\n",
        "west_sales = pd.read_csv('WestSales.csv')\n",
        "east_sales = pd.read_csv('EastSales.csv')\n",
        "\n",
        "# Combine North and West sales\n",
        "north_west_sales = pd.concat([north_sales, west_sales], ignore_index=True)\n",
        "\n",
        "# Combine South and East sales\n",
        "south_east_sales = pd.concat([south_sales, east_sales], ignore_index=True)\n",
        "\n",
        "# Display the combined dataframes\n",
        "print(\"North and West Sales:\")\n",
        "print(north_west_sales)\n",
        "\n",
        "print(\"\\nSouth and East Sales:\")\n",
        "print(south_east_sales)\n",
        "```\n",
        "Make sure to replace 'NorthSales.csv', 'SouthSales.csv', 'WestSales.csv', and 'EastSales.csv' with the actual file paths or URLs of your sales data. The pd.concat function is used to concatenate the dataframes along the rows, and ignore_index=True is used to reindex the resulting dataframe."
      ],
      "metadata": {
        "id": "Tb1bSsM6bkaE"
      }
    },
    {
      "cell_type": "markdown",
      "source": [],
      "metadata": {
        "id": "wUIj9dJZdSDj"
      }
    },
    {
      "cell_type": "markdown",
      "source": [
        "#15(a) How text and image annotations are done using Python? Give an example of your own with appropriate Python code."
      ],
      "metadata": {
        "id": "TTEgGgw9cYAV"
      }
    },
    {
      "cell_type": "markdown",
      "source": [
        "Text and image annotations can be done using various libraries in Python. For text annotations, you might use libraries like Matplotlib, while for image annotations, libraries like OpenCV are commonly used. Here's a simple example of both text and image annotations using Matplotlib and OpenCV:\n",
        "\n",
        "Text Annotation Example using Matplotlib:\n",
        "```python\n",
        "\n",
        "import matplotlib.pyplot as plt\n",
        "\n",
        "# Create a sample plot\n",
        "plt.figure(figsize=(8, 6))\n",
        "plt.plot([1, 2, 3, 4], [10, 5, 20, 8], label='Line A')\n",
        "\n",
        "# Add text annotation\n",
        "plt.text(2, 15, 'Text Annotation Example', fontsize=12, color='red', ha='center')\n",
        "\n",
        "# Show the plot\n",
        "plt.legend()\n",
        "plt.title('Plot with Text Annotation')\n",
        "plt.show()\n",
        "```\n",
        "In this example, the plt.text function is used to add a text annotation at the coordinates (2, 15) on the plot."
      ],
      "metadata": {
        "id": "OnDiBYGwcep8"
      }
    },
    {
      "cell_type": "markdown",
      "source": [
        "#15.(B)Appraise the following (i) Histograms (ii) Binnings (iii) Density with appropriate Python code."
      ],
      "metadata": {
        "id": "IE-E14EIe5bK"
      }
    },
    {
      "cell_type": "markdown",
      "source": [
        "histograms, binnings, and density, and provide examples using Python with Matplotlib and NumPy.\n",
        "\n",
        "(i) Histograms:\n",
        "A histogram is a graphical representation of the distribution of a dataset. It's a way to visualize the underlying frequency distribution of a set of continuous or discrete data.\n",
        "\n",
        "```python\n",
        "\n",
        "import matplotlib.pyplot as plt\n",
        "import numpy as np\n",
        "\n",
        "# Generate a random dataset\n",
        "data = np.random.randn(1000)\n",
        "\n",
        "# Create a histogram\n",
        "plt.hist(data, bins=30, color='skyblue', edgecolor='black')\n",
        "\n",
        "# Add labels and title\n",
        "plt.xlabel('Values')\n",
        "plt.ylabel('Frequency')\n",
        "plt.title('Histogram Example')\n",
        "\n",
        "# Display the plot\n",
        "plt.show()\n",
        "```\n",
        "This example generates a random dataset and creates a histogram with 30 bins using plt.hist.\n",
        "\n",
        "(ii) Binnings:\n",
        "Binning is the process of grouping a set of continuous or discrete data points into bins or intervals. It's often used in histograms to divide the data into intervals.\n",
        "\n",
        "```python\n",
        "\n",
        "import matplotlib.pyplot as plt\n",
        "import numpy as np\n",
        "\n",
        "# Generate a random dataset\n",
        "data = np.random.randn(1000)\n",
        "\n",
        "# Create a histogram with custom bins\n",
        "bins = [-3, -2, -1, 0, 1, 2, 3]\n",
        "plt.hist(data, bins=bins, color='salmon', edgecolor='black')\n",
        "\n",
        "# Add labels and title\n",
        "plt.xlabel('Values')\n",
        "plt.ylabel('Frequency')\n",
        "plt.title('Histogram with Custom Bins')\n",
        "\n",
        "# Display the plot\n",
        "plt.show()\n",
        "```\n",
        "Here, the data is divided into bins defined by the bins array.\n",
        "\n",
        "(iii) Density:\n",
        "Density plots show the probability density function of a continuous random variable.\n",
        "\n",
        "```python\n",
        "\n",
        "import seaborn as sns\n",
        "import numpy as np\n",
        "\n",
        "# Generate a random dataset\n",
        "data = np.random.randn(1000)\n",
        "\n",
        "# Create a density plot using Seaborn\n",
        "sns.histplot(data, kde=True, color='green', stat='density', bins=30)\n",
        "\n",
        "# Add labels and title\n",
        "plt.xlabel('Values')\n",
        "plt.ylabel('Density')\n",
        "plt.title('Density Plot Example')\n",
        "\n",
        "# Display the plot\n",
        "plt.show()\n",
        "```\n",
        "In this example, Seaborn's sns.histplot is used with the kde=True parameter to include a kernel density estimate in the plot."
      ],
      "metadata": {
        "id": "dkMALE72dwlm"
      }
    },
    {
      "cell_type": "markdown",
      "source": [
        "#PART-C"
      ],
      "metadata": {
        "id": "exrCApp8fFyK"
      }
    },
    {
      "cell_type": "markdown",
      "source": [
        "#16.(A)Perform an exploratory data analysis for the following data with different types of plots:\n",
        "\n",
        "The dataset contains cases from a study that was conducted between 1958 and 1970 at the University of Chicago's Billings Hospital on the survival of patients who had undergone surgery for breast cancer.\n",
        "\n",
        "Data attributes:-\n",
        "\n",
        "Age of patient at the time of operation (numerical)\n",
        "\n",
        "Patient's year of operation (year - 1900, numerical)\n",
        "\n",
        "Number of positive axillary nodes detected (numerical)\n",
        "\n",
        "Survival status (class attribute) 1 = the patient survived 5 years or longer, 2 = the patient died within 5 year"
      ],
      "metadata": {
        "id": "BwEr7OAYgrhf"
      }
    },
    {
      "cell_type": "markdown",
      "source": [
        "In Python, you can use libraries such as Pandas, Matplotlib, and Seaborn for EDA. Below is an example of how you can perform EDA on the breast cancer survival dataset.\n",
        "\n",
        "```python\n",
        "\n",
        "import pandas as pd\n",
        "import seaborn as sns\n",
        "import matplotlib.pyplot as plt\n",
        "\n",
        "# Assuming you have a dataset named 'breast_cancer.csv'\n",
        "# Replace 'breast_cancer.csv' with the actual file path or URL\n",
        "data = pd.read_csv('breast_cancer.csv')\n",
        "\n",
        "# Display the first few rows of the dataset\n",
        "print(data.head())\n",
        "\n",
        "# Summary statistics\n",
        "print(data.describe())\n",
        "\n",
        "# Pair plot to visualize relationships between numerical variables\n",
        "sns.pairplot(data, hue='Survival Status', height=3)\n",
        "plt.suptitle('Pair Plot of Numerical Variables', y=1.02)\n",
        "plt.show()\n",
        "\n",
        "# Box plot for age, year of operation, and number of nodes\n",
        "plt.figure(figsize=(15, 6))\n",
        "plt.subplot(1, 3, 1)\n",
        "sns.boxplot(x='Survival Status', y='Age', data=data)\n",
        "plt.title('Box Plot of Age')\n",
        "\n",
        "plt.subplot(1, 3, 2)\n",
        "sns.boxplot(x='Survival Status', y='Year of Operation', data=data)\n",
        "plt.title('Box Plot of Year of Operation')\n",
        "\n",
        "plt.subplot(1, 3, 3)\n",
        "sns.boxplot(x='Survival Status', y='Positive Axillary Nodes', data=data)\n",
        "plt.title('Box Plot of Positive Axillary Nodes')\n",
        "\n",
        "plt.show()\n",
        "\n",
        "# Histograms for age, year of operation, and number of nodes\n",
        "plt.figure(figsize=(15, 4))\n",
        "plt.subplot(1, 3, 1)\n",
        "sns.histplot(data=data, x='Age', bins=20, kde=True)\n",
        "plt.title('Histogram of Age')\n",
        "\n",
        "plt.subplot(1, 3, 2)\n",
        "sns.histplot(data=data, x='Year of Operation', bins=20, kde=True)\n",
        "plt.title('Histogram of Year of Operation')\n",
        "\n",
        "plt.subplot(1, 3, 3)\n",
        "sns.histplot(data=data, x='Positive Axillary Nodes', bins=20, kde=True)\n",
        "plt.title('Histogram of Positive Axillary Nodes')\n",
        "\n",
        "plt.show()\n",
        "\n",
        "# Count plot for survival status\n",
        "sns.countplot(x='Survival Status', data=data)\n",
        "plt.title('Count Plot of Survival Status')\n",
        "plt.show()\n",
        "```\n",
        "This code includes pair plots to visualize relationships between numerical variables, box plots for key numerical variables grouped by survival status, histograms for the distribution of numerical variables, and a count plot for the target variable (Survival Status)."
      ],
      "metadata": {
        "id": "sLJx0cQlhQQ1"
      }
    },
    {
      "cell_type": "markdown",
      "source": [
        "#16(b) Assume that an r of 80 describes the strong negative relationship between years of heavy smoking (X) and life expectancy (Y).\n",
        "\n",
        "Assume, furthermore, that the distributions of heavy smoking and life expectancy each have the following means and sums of squares: 5 60 35 70 x y XY SS SS\n",
        "\n",
        "(i) Determine the least squares regression equation for predicting life expectancy from years of heavy smoking.\n"
      ],
      "metadata": {
        "id": "nKdsFt-XfKoB"
      }
    },
    {
      "cell_type": "markdown",
      "source": [
        "The least squares regression equation can be expressed as:\n",
        "Y=b0+b1x\n",
        "\n",
        "where:\n",
        "Y is the predicted value of the dependent variable (life expectancy),\n",
        "X is the independent variable (years of heavy smoking),\n",
        "b0 is the y-intercept,\n",
        "b1 is the slope.\n",
        "\n",
        "The formulas for calculating b1 and b0 are as follows:\n",
        "\n",
        "b1==r*(Sy/Sx)\n",
        "\n",
        "\n",
        "b0=yˉ-b1xˉ\n",
        "\n",
        "where:\n",
        "\n",
        "r is the correlation coefficient (in this case, -0.80, as it's a strong negative relationship),\n",
        "\n",
        "Sy is the standard deviation of the dependent variable (life expectancy),\n",
        "\n",
        "Sx is the standard deviation of the independent variable (years of heavy smoking),\n",
        "\n",
        "yˉ is the mean of the dependent variable,\n",
        "xˉis the mean of the independent variable.\n",
        "\n",
        "The sums of squares are related to standard deviations as follows:\n",
        "sy=root(SSy/N)\n",
        "\n",
        "Sx=root(SSx/N)\n",
        "\n",
        "\n",
        "where:\n",
        "SSy is the sum of squares of the dependent variable,\n",
        "SSx is the sum of squares of the independent variable,\n",
        "N is the number of observations.\n",
        "\n",
        "Given the information provided:\n",
        "\n",
        "Sy=root(35)\n",
        "\n",
        "Sx=root(30)\n",
        "\n",
        "Now, calculate b1:\n",
        "\n",
        "b1=-0.80 * (Sy/Sx)\n",
        "\n",
        "b1≈-0.864\n",
        "\n",
        "Now, calculate b0:\n",
        "\n",
        "b0 = 65-(-0.864 * 5)\n",
        "\n",
        "b0≈69.32\n",
        "\n",
        "So, the least squares regression equation is:\n",
        "\n",
        "Y = 69.32 - 0.864X\n",
        "\n",
        "This equation can be used to predict life expectancy based on the number of years of heavy smoking"
      ],
      "metadata": {
        "id": "ACC4EJ33feW9"
      }
    },
    {
      "cell_type": "markdown",
      "source": [
        "#(ii) Determine the standard error of estimate, Sy/x, assuming that the correlation of -.80 was based on n = 50 pairs of observations."
      ],
      "metadata": {
        "id": "uXjy1rbcfoIz"
      }
    },
    {
      "cell_type": "markdown",
      "source": [
        "Standard Error of Estimate:\n",
        "\n",
        "Sy/x=root[(1-r^2)SSy/n-2]\n",
        "\n",
        "Given: [ r = -0.80, Sy = 60, n = 50 ]\n",
        "\n",
        "Calculation:\n",
        "\n",
        " Sy/x = root[(1 - (-0.80)^2)*60^2]\n",
        " Sy/x≈0.190983\n"
      ],
      "metadata": {
        "id": "YIiqFSB0fzF4"
      }
    },
    {
      "cell_type": "markdown",
      "source": [
        "#(iii) Supply a rough interpretation of Sy/x"
      ],
      "metadata": {
        "id": "Su2CGquEf45h"
      }
    },
    {
      "cell_type": "markdown",
      "source": [
        "Answer:\n",
        "\n",
        "The standard error of the estimate (Sy/x) provides a measure of how much individual predictions based on the regression equation are expected to deviate from the actual values of the dependent variable. In this case, Sy/x is approximately 0.190983.\n",
        "\n",
        "A rough interpretation of Sy/x is that, on average, the predicted life expectancies based on the regression equation are expected to deviate from the actual life expectancies by about 0.190983 units. Keep in mind that the units depend on the units of the dependent variable, which is life expectancy in this context.\n",
        "\n",
        "This measure gives you an idea of the typical error or variability in your predictions. Smaller values of Sy/x suggest that the predictions are relatively close to the actual values, while larger values indicate greater variability and less precision in the predictions. In the context of this specific problem, a Sy/x of 0.190983 suggests a relatively low level of variability in the predicted life expectancies based on the given correlation"
      ],
      "metadata": {
        "id": "IyJ4PmkHf7zw"
      }
    },
    {
      "cell_type": "markdown",
      "source": [
        "#(iv) Predict the life expectancy for John, who has smoked heavily for 8 years"
      ],
      "metadata": {
        "id": "EvuZ85sTgJcO"
      }
    },
    {
      "cell_type": "markdown",
      "source": [
        "Answer:\n",
        "\n",
        "Certainly! Let's break down the steps in a text format:\n",
        "\n",
        "1. **Calculate Slope (\\( b \\)):**\n",
        "   \\[ b = -0.80 \\cdot \\frac{Sy/x}{SDX} \\]\n",
        "   Given that \\( SDY \\) is used as an estimate of \\( SDX \\), use \\( SDY = 0.190983 \\).\n",
        "   \n",
        "2. **Calculate Intercept (\\( a \\)):**\n",
        "   \\[ a = \\bar{Y} - b \\cdot \\bar{X} \\]\n",
        "   Use the means \\( \\bar{X} = 35 \\) and \\( \\bar{Y} = 60 \\), and the slope (\\( b \\)) calculated in step 1.\n",
        "\n",
        "3. **Regression Equation:**\n",
        "   The regression equation is \\( Y = a + bX \\).\n",
        "\n",
        "4. **Predict Life Expectancy (\\( Y \\)):**\n",
        "   Use the regression equation to predict \\( Y \\) for \\( X = 8 \\):\n",
        "   \\[ Y = a + b \\cdot 8 \\]\n",
        "\n",
        "Please note that the accuracy of the prediction depends on having the standard deviation of \\( X \\) (\\( SDX \\)), which is not provided in the information given. If \\( SDX \\) is available, substitute its value in the calculations to obtain a more accurate prediction for John's life expectancy."
      ],
      "metadata": {
        "id": "RC-43pxQgN2v"
      }
    },
    {
      "cell_type": "markdown",
      "source": [
        "#(v) Predict the life expectancy for Katie, who has never smoked heavily"
      ],
      "metadata": {
        "id": "x-D4EcqOgTxk"
      }
    },
    {
      "cell_type": "markdown",
      "source": [
        "To predict the life expectancy (\\(Y\\)) for Katie, who has never smoked heavily (\\(X\\)), you can use the regression equation:\n",
        "\n",
        "\\[ \\hat{Y} = b_0 + b_1X \\]\n",
        "\n",
        "where:\n",
        "- \\( \\hat{Y} \\) is the predicted life expectancy,\n",
        "- \\( b_0 \\) is the intercept of the regression equation,\n",
        "- \\( b_1 \\) is the slope of the regression equation,\n",
        "- \\( X \\) is the number of years of heavy smoking.\n",
        "\n",
        "The slope (\\(b_1\\)) is given by the formula:\n",
        "\n",
        "\\[ b_1 = r \\cdot \\frac{SDY}{SDX} \\]\n",
        "\n",
        "where:\n",
        "- \\( r \\) is the correlation coefficient,\n",
        "- \\( SDY \\) is the standard deviation of the dependent variable,\n",
        "- \\( SDX \\) is the standard deviation of the independent variable.\n",
        "\n",
        "Since Katie has never smoked heavily, her \\(X\\) is 0.\n",
        "\n",
        "Given that \\(r = -0.80\\), the standard deviation of \\(Y\\) (\\(SDY\\)) is \\( \\sqrt{SSY/(n-1)} \\). We have \\(SSY = 5\\) and \\(n = 50\\).\n",
        "\n",
        "\\[ SDY = \\sqrt{\\frac{SSY}{n-1}} \\]\n",
        "\n",
        "\\[ SDY = \\sqrt{\\frac{5}{50-1}} \\]\n",
        "\n",
        "\\[ SDY = \\sqrt{\\frac{5}{49}} \\]\n",
        "\n",
        "\\[ SDY = \\sqrt{0.10204082} \\]\n",
        "\n",
        "\\[ SDY \\approx 0.319438 \\]\n",
        "\n",
        "Now, calculate the slope (\\(b_1\\)):\n",
        "\n",
        "\\[ b_1 = -0.80 \\cdot \\frac{0.319438}{\\sqrt{70/(50-1)}} \\]\n",
        "\n",
        "\\[ b_1 = -0.80 \\cdot \\frac{0.319438}{\\sqrt{70/49}} \\]\n",
        "\n",
        "\\[ b_1 = -0.80 \\cdot \\frac{0.319438}{\\sqrt{1.428571}} \\]\n",
        "\n",
        "\\[ b_1 = -0.80 \\cdot \\frac{0.319438}{1.1952286} \\]\n",
        "\n",
        "\\[ b_1 = -0.213803 \\]\n",
        "\n",
        "Now, plug in \\(X = 0\\) and the values of the means:\n",
        "\n",
        "\\[ \\hat{Y} = b_0 + b_1 \\cdot 0 \\]\n",
        "\n",
        "\\[ \\hat{Y} = \\bar{Y} - b_1 \\cdot \\bar{X} \\]\n",
        "\n",
        "\\[ \\hat{Y} = 60 - (-0.213803) \\cdot 35 \\]\n",
        "\n",
        "\\[ \\hat{Y} = 60 + 7.443105 \\]\n",
        "\n",
        "\\[ \\hat{Y} \\approx 67.4431 \\]\n",
        "\n",
        "So, the predicted life expectancy for Katie, who has never smoked heavily, is approximately 67.44 years."
      ],
      "metadata": {
        "id": "U5FHuZsQggIU"
      }
    }
  ],
  "metadata": {
    "colab": {
      "provenance": [],
      "authorship_tag": "ABX9TyNuAzri/Nc8++k9B50xDBmG",
      "include_colab_link": true
    },
    "kernelspec": {
      "display_name": "Python 3",
      "name": "python3"
    },
    "language_info": {
      "name": "python"
    }
  },
  "nbformat": 4,
  "nbformat_minor": 0
}