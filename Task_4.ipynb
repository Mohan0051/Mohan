{
  "cells": [
    {
      "cell_type": "markdown",
      "metadata": {
        "id": "view-in-github",
        "colab_type": "text"
      },
      "source": [
        "<a href=\"https://colab.research.google.com/github/Mohan0051/Mohan/blob/main/Task_4.ipynb\" target=\"_parent\"><img src=\"https://colab.research.google.com/assets/colab-badge.svg\" alt=\"Open In Colab\"/></a>"
      ]
    },
    {
      "cell_type": "markdown",
      "metadata": {
        "id": "f44a2f2b"
      },
      "source": [
        "# 100 numpy exercises\n"
      ],
      "id": "f44a2f2b"
    },
    {
      "cell_type": "markdown",
      "metadata": {
        "id": "0fe3d529"
      },
      "source": [
        "File automatically generated. See the documentation to update questions/answers/hints programmatically."
      ],
      "id": "0fe3d529"
    },
    {
      "cell_type": "markdown",
      "metadata": {
        "id": "23296a93"
      },
      "source": [
        "Run the `initialize.py` module, then for each question you can query the\n",
        "answer or an hint with `hint(n)` or `answer(n)` for `n` question number."
      ],
      "id": "23296a93"
    },
    {
      "cell_type": "code",
      "execution_count": null,
      "metadata": {
        "id": "530390cf"
      },
      "outputs": [],
      "source": [
        "%run initialise.py"
      ],
      "id": "530390cf"
    },
    {
      "cell_type": "markdown",
      "metadata": {
        "id": "96443564"
      },
      "source": [
        "#### 1. Import the numpy package under the name `np` (★☆☆)"
      ],
      "id": "96443564"
    },
    {
      "cell_type": "code",
      "execution_count": null,
      "metadata": {
        "id": "ffe1047e"
      },
      "outputs": [],
      "source": [
        "import numpy as np"
      ],
      "id": "ffe1047e"
    },
    {
      "cell_type": "markdown",
      "metadata": {
        "id": "c807bf1d"
      },
      "source": [
        "#### 2. Print the numpy version and the configuration (★☆☆)"
      ],
      "id": "c807bf1d"
    },
    {
      "cell_type": "code",
      "execution_count": null,
      "metadata": {
        "colab": {
          "base_uri": "https://localhost:8080/"
        },
        "id": "f396b717",
        "outputId": "11cfe7d0-f98a-456b-b7a8-8032bdc3153f"
      },
      "outputs": [
        {
          "name": "stdout",
          "output_type": "stream",
          "text": [
            "NumPy Version: 1.23.5\n",
            "openblas64__info:\n",
            "    libraries = ['openblas64_', 'openblas64_']\n",
            "    library_dirs = ['/usr/local/lib']\n",
            "    language = c\n",
            "    define_macros = [('HAVE_CBLAS', None), ('BLAS_SYMBOL_SUFFIX', '64_'), ('HAVE_BLAS_ILP64', None)]\n",
            "    runtime_library_dirs = ['/usr/local/lib']\n",
            "blas_ilp64_opt_info:\n",
            "    libraries = ['openblas64_', 'openblas64_']\n",
            "    library_dirs = ['/usr/local/lib']\n",
            "    language = c\n",
            "    define_macros = [('HAVE_CBLAS', None), ('BLAS_SYMBOL_SUFFIX', '64_'), ('HAVE_BLAS_ILP64', None)]\n",
            "    runtime_library_dirs = ['/usr/local/lib']\n",
            "openblas64__lapack_info:\n",
            "    libraries = ['openblas64_', 'openblas64_']\n",
            "    library_dirs = ['/usr/local/lib']\n",
            "    language = c\n",
            "    define_macros = [('HAVE_CBLAS', None), ('BLAS_SYMBOL_SUFFIX', '64_'), ('HAVE_BLAS_ILP64', None), ('HAVE_LAPACKE', None)]\n",
            "    runtime_library_dirs = ['/usr/local/lib']\n",
            "lapack_ilp64_opt_info:\n",
            "    libraries = ['openblas64_', 'openblas64_']\n",
            "    library_dirs = ['/usr/local/lib']\n",
            "    language = c\n",
            "    define_macros = [('HAVE_CBLAS', None), ('BLAS_SYMBOL_SUFFIX', '64_'), ('HAVE_BLAS_ILP64', None), ('HAVE_LAPACKE', None)]\n",
            "    runtime_library_dirs = ['/usr/local/lib']\n",
            "Supported SIMD extensions in this NumPy install:\n",
            "    baseline = SSE,SSE2,SSE3\n",
            "    found = SSSE3,SSE41,POPCNT,SSE42,AVX,F16C,FMA3,AVX2\n",
            "    not found = AVX512F,AVX512CD,AVX512_KNL,AVX512_KNM,AVX512_SKX,AVX512_CLX,AVX512_CNL,AVX512_ICL\n"
          ]
        }
      ],
      "source": [
        "\n",
        "\n",
        "import numpy as np\n",
        "\n",
        "# Print NumPy version\n",
        "print(\"NumPy Version:\", np.__version__)\n",
        "\n",
        "# Print NumPy configuration\n",
        "np.show_config()"
      ],
      "id": "f396b717"
    },
    {
      "cell_type": "markdown",
      "metadata": {
        "id": "572c1bdb"
      },
      "source": [
        "#### 3. Create a null vector of size 10 (★☆☆)"
      ],
      "id": "572c1bdb"
    },
    {
      "cell_type": "code",
      "execution_count": null,
      "metadata": {
        "colab": {
          "base_uri": "https://localhost:8080/"
        },
        "id": "31c9f6a5",
        "outputId": "68187908-c90c-4278-cfc8-b4a2c32291d6"
      },
      "outputs": [
        {
          "name": "stdout",
          "output_type": "stream",
          "text": [
            "[0. 0. 0. 0. 0. 0. 0. 0. 0. 0.]\n"
          ]
        }
      ],
      "source": [
        "\n",
        "import numpy as np\n",
        "\n",
        "\n",
        "null_vector = np.zeros(10)\n",
        "\n",
        "print(null_vector)"
      ],
      "id": "31c9f6a5"
    },
    {
      "cell_type": "markdown",
      "metadata": {
        "id": "337e6e36"
      },
      "source": [
        "#### 4. How to find the memory size of any array (★☆☆)"
      ],
      "id": "337e6e36"
    },
    {
      "cell_type": "code",
      "execution_count": null,
      "metadata": {
        "colab": {
          "base_uri": "https://localhost:8080/"
        },
        "id": "31e8ec2e",
        "outputId": "98b346ba-00a9-400a-d175-0f108f52db72"
      },
      "outputs": [
        {
          "name": "stdout",
          "output_type": "stream",
          "text": [
            "Memory size of my_array: 104 bytes\n"
          ]
        }
      ],
      "source": [
        "\n",
        "import sys\n",
        "\n",
        "my_array = [1, 2, 3, 4, 5]\n",
        "memory_size = sys.getsizeof(my_array)\n",
        "print(\"Memory size of my_array: {} bytes\".format(memory_size))"
      ],
      "id": "31e8ec2e"
    },
    {
      "cell_type": "markdown",
      "metadata": {
        "id": "166079c8"
      },
      "source": [
        "#### 5. How to get the documentation of the numpy add function from the command line? (★☆☆)"
      ],
      "id": "166079c8"
    },
    {
      "cell_type": "code",
      "execution_count": null,
      "metadata": {
        "colab": {
          "base_uri": "https://localhost:8080/"
        },
        "id": "593cd80f",
        "outputId": "cecbe073-9e40-4e8e-c6f4-344ccf8c1654"
      },
      "outputs": [
        {
          "name": "stdout",
          "output_type": "stream",
          "text": [
            "Help on ufunc:\n",
            "\n",
            "add = <ufunc 'add'>\n",
            "    add(x1, x2, /, out=None, *, where=True, casting='same_kind', order='K', dtype=None, subok=True[, signature, extobj])\n",
            "    \n",
            "    Add arguments element-wise.\n",
            "    \n",
            "    Parameters\n",
            "    ----------\n",
            "    x1, x2 : array_like\n",
            "        The arrays to be added.\n",
            "        If ``x1.shape != x2.shape``, they must be broadcastable to a common\n",
            "        shape (which becomes the shape of the output).\n",
            "    out : ndarray, None, or tuple of ndarray and None, optional\n",
            "        A location into which the result is stored. If provided, it must have\n",
            "        a shape that the inputs broadcast to. If not provided or None,\n",
            "        a freshly-allocated array is returned. A tuple (possible only as a\n",
            "        keyword argument) must have length equal to the number of outputs.\n",
            "    where : array_like, optional\n",
            "        This condition is broadcast over the input. At locations where the\n",
            "        condition is True, the `out` array will be set to the ufunc result.\n",
            "        Elsewhere, the `out` array will retain its original value.\n",
            "        Note that if an uninitialized `out` array is created via the default\n",
            "        ``out=None``, locations within it where the condition is False will\n",
            "        remain uninitialized.\n",
            "    **kwargs\n",
            "        For other keyword-only arguments, see the\n",
            "        :ref:`ufunc docs <ufuncs.kwargs>`.\n",
            "    \n",
            "    Returns\n",
            "    -------\n",
            "    add : ndarray or scalar\n",
            "        The sum of `x1` and `x2`, element-wise.\n",
            "        This is a scalar if both `x1` and `x2` are scalars.\n",
            "    \n",
            "    Notes\n",
            "    -----\n",
            "    Equivalent to `x1` + `x2` in terms of array broadcasting.\n",
            "    \n",
            "    Examples\n",
            "    --------\n",
            "    >>> np.add(1.0, 4.0)\n",
            "    5.0\n",
            "    >>> x1 = np.arange(9.0).reshape((3, 3))\n",
            "    >>> x2 = np.arange(3.0)\n",
            "    >>> np.add(x1, x2)\n",
            "    array([[  0.,   2.,   4.],\n",
            "           [  3.,   5.,   7.],\n",
            "           [  6.,   8.,  10.]])\n",
            "    \n",
            "    The ``+`` operator can be used as a shorthand for ``np.add`` on ndarrays.\n",
            "    \n",
            "    >>> x1 = np.arange(9.0).reshape((3, 3))\n",
            "    >>> x2 = np.arange(3.0)\n",
            "    >>> x1 + x2\n",
            "    array([[ 0.,  2.,  4.],\n",
            "           [ 3.,  5.,  7.],\n",
            "           [ 6.,  8., 10.]])\n",
            "\n"
          ]
        }
      ],
      "source": [
        "\n",
        "import numpy as np\n",
        "help(np.add)\n",
        "\n",
        "np.add?"
      ],
      "id": "593cd80f"
    },
    {
      "cell_type": "markdown",
      "metadata": {
        "id": "3add7101"
      },
      "source": [
        "#### 6. Create a null vector of size 10 but the fifth value which is 1 (★☆☆)"
      ],
      "id": "3add7101"
    },
    {
      "cell_type": "code",
      "execution_count": null,
      "metadata": {
        "colab": {
          "base_uri": "https://localhost:8080/"
        },
        "id": "2edf3c42",
        "outputId": "aaf76a92-0467-4f45-bb42-3a4f338762ce"
      },
      "outputs": [
        {
          "name": "stdout",
          "output_type": "stream",
          "text": [
            "[0. 0. 0. 0. 1. 0. 0. 0. 0. 0.]\n"
          ]
        }
      ],
      "source": [
        "\n",
        "\n",
        "import numpy as np\n",
        "\n",
        "# Create a null vector of size 10\n",
        "null_vector = np.zeros(10)\n",
        "\n",
        "# Set the fifth value to 1\n",
        "null_vector[4] = 1\n",
        "\n",
        "print(null_vector)"
      ],
      "id": "2edf3c42"
    },
    {
      "cell_type": "markdown",
      "metadata": {
        "id": "cfc46304"
      },
      "source": [
        "#### 7. Create a vector with values ranging from 10 to 49 (★☆☆)"
      ],
      "id": "cfc46304"
    },
    {
      "cell_type": "code",
      "execution_count": null,
      "metadata": {
        "colab": {
          "base_uri": "https://localhost:8080/"
        },
        "id": "YjNVdGu48RFN",
        "outputId": "5e1b3fb1-f851-42d7-8141-257b953eb2da"
      },
      "outputs": [
        {
          "name": "stdout",
          "output_type": "stream",
          "text": [
            "[10 11 12 13 14 15 16 17 18 19 20 21 22 23 24 25 26 27 28 29 30 31 32 33\n",
            " 34 35 36 37 38 39 40 41 42 43 44 45 46 47 48 49]\n"
          ]
        }
      ],
      "source": [
        "\n",
        "import numpy as np\n",
        "\n",
        "vector = np.arange(10, 50)\n",
        "print(vector)"
      ],
      "id": "YjNVdGu48RFN"
    },
    {
      "cell_type": "markdown",
      "metadata": {
        "id": "0cc200be"
      },
      "source": [
        "#### 8. Reverse a vector (first element becomes last) (★☆☆)"
      ],
      "id": "0cc200be"
    },
    {
      "cell_type": "code",
      "execution_count": null,
      "metadata": {
        "colab": {
          "background_save": true
        },
        "id": "ec044bb5",
        "outputId": "e64b7edf-f58c-4d86-c4a1-47736b6cd563"
      },
      "outputs": [
        {
          "name": "stdout",
          "output_type": "stream",
          "text": [
            "[5 4 3 2 1]\n"
          ]
        }
      ],
      "source": [
        "\n",
        "You can reverse a vector in Google Colab by using Python. Here's a simple example of how to do it:\n",
        "\n",
        "```python\n",
        "# Define your vector\n",
        "my_vector = [1, 2, 3, 4, 5]\n",
        "\n",
        "# Reverse the vector\n",
        "reversed_vector = my_vector[:\n",
        "import numpy as np\n",
        "\n",
        "# Define your vector as a NumPy array\n",
        "my_vector = np.array([1, 2, 3, 4, 5])\n",
        "\n",
        "# Reverse the vector using numpy.flip()\n",
        "reversed_vector = np.flip(my_vector)\n",
        "\n",
        "# Print the reversed vector\n",
        "print(reversed_vector)"
      ],
      "id": "ec044bb5"
    },
    {
      "cell_type": "markdown",
      "metadata": {
        "id": "29d9ede4"
      },
      "source": [
        "#### 9. Create a 3x3 matrix with values ranging from 0 to 8 (★☆☆)"
      ],
      "id": "29d9ede4"
    },
    {
      "cell_type": "code",
      "execution_count": null,
      "metadata": {
        "colab": {
          "base_uri": "https://localhost:8080/"
        },
        "id": "d9e39043",
        "outputId": "a2cb4826-d25b-4f5b-a5c3-828718c407e1"
      },
      "outputs": [
        {
          "name": "stdout",
          "output_type": "stream",
          "text": [
            "[[0 1 2]\n",
            " [3 4 5]\n",
            " [6 7 8]]\n"
          ]
        }
      ],
      "source": [
        "\n",
        "import numpy as np\n",
        "\n",
        "matrix = np.arange(9).reshape(3, 3)\n",
        "print(matrix)"
      ],
      "id": "d9e39043"
    },
    {
      "cell_type": "markdown",
      "metadata": {
        "id": "88905ceb"
      },
      "source": [
        "#### 10. Find indices of non-zero elements from [1,2,0,0,4,0] (★☆☆)"
      ],
      "id": "88905ceb"
    },
    {
      "cell_type": "code",
      "execution_count": null,
      "metadata": {
        "colab": {
          "base_uri": "https://localhost:8080/"
        },
        "id": "b2f3c90a",
        "outputId": "1e527d0e-54ea-404b-f900-813be6a4943f"
      },
      "outputs": [
        {
          "name": "stdout",
          "output_type": "stream",
          "text": [
            "[0, 1, 4]\n"
          ]
        }
      ],
      "source": [
        "\n",
        "# Define your list\n",
        "my_list = [1, 2, 0, 0, 4, 0]\n",
        "\n",
        "# Use a list comprehension to find the indices of non-zero elements\n",
        "non_zero_indices = [index for index, value in enumerate(my_list) if value != 0]\n",
        "\n",
        "# Print the non-zero indices\n",
        "print(non_zero_indices)"
      ],
      "id": "b2f3c90a"
    },
    {
      "cell_type": "markdown",
      "metadata": {
        "id": "49603e91"
      },
      "source": [
        "#### 11. Create a 3x3 identity matrix (★☆☆)"
      ],
      "id": "49603e91"
    },
    {
      "cell_type": "code",
      "execution_count": null,
      "metadata": {
        "colab": {
          "base_uri": "https://localhost:8080/"
        },
        "id": "5b607b5c",
        "outputId": "f56e7661-ef39-4614-e19d-72b65cd0962e"
      },
      "outputs": [
        {
          "name": "stdout",
          "output_type": "stream",
          "text": [
            "[[1. 0. 0.]\n",
            " [0. 1. 0.]\n",
            " [0. 0. 1.]]\n"
          ]
        }
      ],
      "source": [
        "\n",
        "import numpy as np\n",
        "\n",
        "identity_matrix = np.eye(3)\n",
        "print(identity_matrix)"
      ],
      "id": "5b607b5c"
    },
    {
      "cell_type": "markdown",
      "metadata": {
        "id": "e15c249a"
      },
      "source": [
        "#### 12. Create a 3x3x3 array with random values (★☆☆)"
      ],
      "id": "e15c249a"
    },
    {
      "cell_type": "code",
      "execution_count": null,
      "metadata": {
        "colab": {
          "base_uri": "https://localhost:8080/"
        },
        "id": "ab21ed50",
        "outputId": "d3a06697-a958-4d9b-8f1c-3022c0233e16"
      },
      "outputs": [
        {
          "name": "stdout",
          "output_type": "stream",
          "text": [
            "[[[0.50662144 0.6430076  0.13538328]\n",
            "  [0.00252831 0.62791258 0.96840923]\n",
            "  [0.61495298 0.11563163 0.40351109]]\n",
            "\n",
            " [[0.36136568 0.83834196 0.33483008]\n",
            "  [0.38188598 0.83190511 0.31343054]\n",
            "  [0.01634028 0.95634144 0.70248438]]\n",
            "\n",
            " [[0.86695567 0.43916369 0.86607156]\n",
            "  [0.26967877 0.91423094 0.28472847]\n",
            "  [0.54434164 0.23162456 0.37323218]]]\n"
          ]
        }
      ],
      "source": [
        "\n",
        "import numpy as np\n",
        "\n",
        "# Create a 3x3x3 array with random values between 0 and 1\n",
        "random_array = np.random.rand(3, 3, 3)\n",
        "\n",
        "print(random_array)"
      ],
      "id": "ab21ed50"
    },
    {
      "cell_type": "markdown",
      "metadata": {
        "id": "157a129c"
      },
      "source": [
        "#### 13. Create a 10x10 array with random values and find the minimum and maximum values (★☆☆)"
      ],
      "id": "157a129c"
    },
    {
      "cell_type": "code",
      "execution_count": null,
      "metadata": {
        "colab": {
          "base_uri": "https://localhost:8080/"
        },
        "id": "c0066de5",
        "outputId": "1ca27753-9274-4352-ebd5-216e512d64ad"
      },
      "outputs": [
        {
          "name": "stdout",
          "output_type": "stream",
          "text": [
            "Random Array:\n",
            "[[7.52674948e-01 4.92370678e-01 5.92381036e-01 9.91536301e-01\n",
            "  4.22337643e-01 8.23475910e-02 6.26442517e-01 4.14667970e-01\n",
            "  2.62688495e-01 1.59871171e-03]\n",
            " [4.00323937e-01 3.69920710e-01 3.35555247e-01 2.32703739e-01\n",
            "  2.43347700e-01 1.19725241e-01 1.37175660e-01 1.80082859e-01\n",
            "  8.80758538e-01 3.95183171e-01]\n",
            " [2.81849342e-01 6.74069311e-01 9.10370096e-01 1.68160677e-01\n",
            "  1.16639457e-01 9.75538657e-01 4.59052091e-01 1.81192806e-02\n",
            "  1.12152862e-01 3.03150965e-02]\n",
            " [3.05872773e-01 3.92741140e-01 5.81662320e-01 4.59509943e-01\n",
            "  6.96024794e-01 7.52749690e-01 1.03524476e-01 7.18173260e-01\n",
            "  6.44713357e-01 2.77614371e-01]\n",
            " [9.12559196e-01 9.15238866e-01 3.16678259e-01 4.84081672e-01\n",
            "  4.47682495e-01 5.98861223e-01 8.04846423e-02 9.20890089e-01\n",
            "  4.86347204e-04 6.95995347e-01]\n",
            " [4.01911800e-01 7.83008969e-01 8.29306144e-01 6.92172285e-01\n",
            "  1.84355480e-01 9.45856278e-01 7.03717686e-01 1.37565697e-01\n",
            "  8.80399213e-01 7.62316289e-01]\n",
            " [2.23786370e-01 6.67582765e-01 2.80646104e-01 1.85527958e-01\n",
            "  9.49206719e-02 5.15325598e-01 5.53083250e-02 9.94233335e-01\n",
            "  3.16737054e-01 9.60168428e-01]\n",
            " [4.73556293e-01 7.07972849e-01 3.66395788e-01 8.24792191e-01\n",
            "  6.92735683e-01 3.96266140e-01 6.42461912e-02 9.85343308e-01\n",
            "  2.26393750e-01 6.69776031e-01]\n",
            " [5.44931707e-01 9.17654158e-01 9.71495277e-01 2.82120014e-01\n",
            "  5.07936432e-01 1.10896163e-01 2.42870121e-01 3.91103294e-01\n",
            "  7.20388670e-01 6.81364206e-01]\n",
            " [5.94950489e-01 4.36222622e-01 7.85350356e-01 9.09288611e-01\n",
            "  8.09825948e-01 3.71366783e-01 5.12407910e-01 1.11844204e-01\n",
            "  2.81037263e-01 7.71324913e-01]]\n",
            "Minimum Value: 0.00048634720382068064\n",
            "Maximum Value: 0.9942333353813221\n"
          ]
        }
      ],
      "source": [
        "\n",
        "import numpy as np\n",
        "\n",
        "# Create a 10x10 array with random values between 0 and 1\n",
        "array = np.random.rand(10, 10)\n",
        "\n",
        "# Find the minimum and maximum values in the array\n",
        "min_value = np.min(array)\n",
        "max_value = np.max(array)\n",
        "\n",
        "print(\"Random Array:\")\n",
        "print(array)\n",
        "print(\"Minimum Value:\", min_value)\n",
        "print(\"Maximum Value:\", max_value)"
      ],
      "id": "c0066de5"
    },
    {
      "cell_type": "markdown",
      "metadata": {
        "id": "d92d7b32"
      },
      "source": [
        "#### 14. Create a random vector of size 30 and find the mean value (★☆☆)"
      ],
      "id": "d92d7b32"
    },
    {
      "cell_type": "code",
      "execution_count": null,
      "metadata": {
        "colab": {
          "base_uri": "https://localhost:8080/"
        },
        "id": "9672d023",
        "outputId": "789dcad5-1d60-499d-c9f1-0aed4bbd78b6"
      },
      "outputs": [
        {
          "name": "stdout",
          "output_type": "stream",
          "text": [
            "Random Vector:\n",
            "[0.00640161 0.62277318 0.00643602 0.12952273 0.61867675 0.04370622\n",
            " 0.587299   0.86285516 0.68968757 0.42771988 0.03462639 0.52689407\n",
            " 0.93416417 0.12680102 0.83925778 0.87619919 0.91980162 0.7036813\n",
            " 0.05231157 0.86790746 0.44620393 0.81331089 0.52013148 0.91800787\n",
            " 0.97936494 0.22666535 0.54842749 0.34091469 0.07918576 0.99230754]\n",
            "Mean Value: 0.5247080867840704\n"
          ]
        }
      ],
      "source": [
        "\n",
        "import numpy as np\n",
        "\n",
        "# Create a random vector of size 30\n",
        "random_vector = np.random.rand(30)\n",
        "\n",
        "# Calculate the mean value\n",
        "mean_value = np.mean(random_vector)\n",
        "\n",
        "print(\"Random Vector:\")\n",
        "print(random_vector)\n",
        "print(\"Mean Value:\", mean_value)"
      ],
      "id": "9672d023"
    },
    {
      "cell_type": "markdown",
      "metadata": {
        "id": "f361efc0"
      },
      "source": [
        "#### 15. Create a 2d array with 1 on the border and 0 inside (★☆☆)"
      ],
      "id": "f361efc0"
    },
    {
      "cell_type": "code",
      "execution_count": null,
      "metadata": {
        "colab": {
          "base_uri": "https://localhost:8080/"
        },
        "id": "a55b6666",
        "outputId": "0be7d1ae-8b7c-4315-e6af-45258b3f7288"
      },
      "outputs": [
        {
          "name": "stdout",
          "output_type": "stream",
          "text": [
            "[[1. 1. 1. 1. 1.]\n",
            " [1. 0. 0. 0. 1.]\n",
            " [1. 0. 0. 0. 1.]\n",
            " [1. 0. 0. 0. 1.]\n",
            " [1. 1. 1. 1. 1.]]\n"
          ]
        }
      ],
      "source": [
        "\n",
        "import numpy as np\n",
        "\n",
        "# Define the dimensions of your 2D array\n",
        "rows, cols = 5, 5  # You can change these values as needed\n",
        "\n",
        "# Create the array with 1s on the border\n",
        "array = np.ones((rows, cols))\n",
        "\n",
        "# Fill the interior with 0s\n",
        "array[1:-1, 1:-1] = 0\n",
        "\n",
        "# Print the resulting array\n",
        "print(array)"
      ],
      "id": "a55b6666"
    },
    {
      "cell_type": "markdown",
      "metadata": {
        "id": "475808cb"
      },
      "source": [
        "#### 16. How to add a border (filled with 0's) around an existing array? (★☆☆)"
      ],
      "id": "475808cb"
    },
    {
      "cell_type": "code",
      "execution_count": null,
      "metadata": {
        "id": "b2df3a8a"
      },
      "outputs": [],
      "source": [
        "\n",
        "import numpy as np\n",
        "\n",
        "# Assuming you have an existing array named 'original_array'\n",
        "original_array = np.array([[1, 2, 3],\n",
        "                           [4, 5, 6],\n",
        "                           [7, 8, 9]])\n",
        "\n",
        "# Define the size of the border you want to add\n",
        "border_size = 1  # You can change this to the desired border width\n",
        "\n",
        "# Determine the shape of the new array with the border\n",
        "new_shape = (original_array.shape[0] + 2 * border_size, original_array.shape[1] + 2 * border_size)\n",
        "\n",
        "# Create a new array filled with 0's\n",
        "new_array = np.zeros(new_shape, dtype=original_array.dtype)\n",
        "\n",
        "# Copy the original array into the center of the new array\n",
        "new_array[border_size:border_size + original_array.shape[0], border_size:border_size + original_array.shape[1]] = original_array\n",
        "\n",
        "# Now, 'new_array' contains the original array with a border of 0's around it"
      ],
      "id": "b2df3a8a"
    },
    {
      "cell_type": "markdown",
      "metadata": {
        "id": "1af07d85"
      },
      "source": [
        "#### 17. What is the result of the following expression? (★☆☆)\n",
        "```python\n",
        "0 * np.nan\n",
        "np.nan == np.nan\n",
        "np.inf > np.nan\n",
        "np.nan - np.nan\n",
        "np.nan in set([np.nan])\n",
        "0.3 == 3 * 0.1\n",
        "```"
      ],
      "id": "1af07d85"
    },
    {
      "cell_type": "code",
      "execution_count": null,
      "metadata": {
        "colab": {
          "base_uri": "https://localhost:8080/"
        },
        "id": "109cf327",
        "outputId": "c358c3a0-14ec-4731-f3d9-f4a04368d19d"
      },
      "outputs": [
        {
          "data": {
            "text/plain": [
              "(nan, False, False, nan, True, False)"
            ]
          },
          "execution_count": 9,
          "metadata": {},
          "output_type": "execute_result"
        }
      ],
      "source": [
        "\n",
        "import numpy as np\n",
        "\n",
        "result1 = 0 * np.nan           # Result: nan\n",
        "result2 = np.nan == np.nan     # Result: False\n",
        "result3 = np.inf > np.nan      # Result: False\n",
        "result4 = np.nan - np.nan      # Result: nan\n",
        "result5 = np.nan in set([np.nan])  # Result: True\n",
        "result6 = 0.3 == 3 * 0.1       # Result: True\n",
        "\n",
        "result1, result2, result3, result4, result5, result6"
      ],
      "id": "109cf327"
    },
    {
      "cell_type": "markdown",
      "metadata": {
        "id": "6a235316"
      },
      "source": [
        "#### 18. Create a 5x5 matrix with values 1,2,3,4 just below the diagonal (★☆☆)"
      ],
      "id": "6a235316"
    },
    {
      "cell_type": "code",
      "execution_count": null,
      "metadata": {
        "colab": {
          "base_uri": "https://localhost:8080/"
        },
        "id": "f2e6cfa6",
        "outputId": "0079c7a0-b635-4c1a-99e8-90e9171da2c6"
      },
      "outputs": [
        {
          "name": "stdout",
          "output_type": "stream",
          "text": [
            "[[0. 0. 0. 0. 0.]\n",
            " [1. 0. 0. 0. 0.]\n",
            " [0. 2. 0. 0. 0.]\n",
            " [0. 0. 3. 0. 0.]\n",
            " [0. 0. 0. 4. 0.]]\n"
          ]
        }
      ],
      "source": [
        "\n",
        "import numpy as np\n",
        "\n",
        "# Create a 5x5 matrix filled with zeros\n",
        "matrix = np.zeros((5, 5))\n",
        "\n",
        "# Set values 1, 2, 3, and 4 just below the diagonal\n",
        "np.fill_diagonal(matrix[1:], [1, 2, 3, 4])\n",
        "\n",
        "print(matrix)"
      ],
      "id": "f2e6cfa6"
    },
    {
      "cell_type": "markdown",
      "metadata": {
        "id": "25362e98"
      },
      "source": [
        "#### 19. Create a 8x8 matrix and fill it with a checkerboard pattern (★☆☆)"
      ],
      "id": "25362e98"
    },
    {
      "cell_type": "code",
      "execution_count": null,
      "metadata": {
        "colab": {
          "base_uri": "https://localhost:8080/"
        },
        "id": "cabdf298",
        "outputId": "fe28bd23-9f24-4411-8f9e-71a37829d1df"
      },
      "outputs": [
        {
          "name": "stdout",
          "output_type": "stream",
          "text": [
            "[[0 1 0 1 0 1 0 1]\n",
            " [1 0 1 0 1 0 1 0]\n",
            " [0 1 0 1 0 1 0 1]\n",
            " [1 0 1 0 1 0 1 0]\n",
            " [0 1 0 1 0 1 0 1]\n",
            " [1 0 1 0 1 0 1 0]\n",
            " [0 1 0 1 0 1 0 1]\n",
            " [1 0 1 0 1 0 1 0]]\n"
          ]
        }
      ],
      "source": [
        "\n",
        "import numpy as np\n",
        "\n",
        "# Create an 8x8 matrix filled with zeros\n",
        "matrix = np.zeros((8, 8), dtype=int)\n",
        "\n",
        "# Fill the even rows and columns with 1\n",
        "matrix[1::2, ::2] = 1\n",
        "matrix[::2, 1::2] = 1\n",
        "\n",
        "print(matrix)"
      ],
      "id": "cabdf298"
    },
    {
      "cell_type": "markdown",
      "metadata": {
        "id": "6431e977"
      },
      "source": [
        "#### 20. Consider a (6,7,8) shape array, what is the index (x,y,z) of the 100th element? (★☆☆)"
      ],
      "id": "6431e977"
    },
    {
      "cell_type": "code",
      "execution_count": null,
      "metadata": {
        "colab": {
          "base_uri": "https://localhost:8080/"
        },
        "id": "de8b0245",
        "outputId": "eeaa4d31-6fac-4c7c-93c0-88968e0e48e8"
      },
      "outputs": [
        {
          "name": "stdout",
          "output_type": "stream",
          "text": [
            "The indices (x, y, z) of the 100th element are: (4, 2, 2)\n"
          ]
        }
      ],
      "source": [
        "\n",
        "import numpy as np\n",
        "\n",
        "shape = (6, 7, 8)\n",
        "total_elements = np.prod(shape)  # Total number of elements in the array\n",
        "element_number = 100  # The element you want to find\n",
        "\n",
        "# Calculate the indices (x, y, z) for the element_number\n",
        "z = element_number // (shape[0] * shape[1])\n",
        "y = (element_number - z * shape[0] * shape[1]) // shape[0]\n",
        "x = element_number - z * shape[0] * shape[1] - y * shape[0]\n",
        "\n",
        "print(f\"The indices (x, y, z) of the {element_number}th element are: ({x}, {y}, {z})\")"
      ],
      "id": "de8b0245"
    },
    {
      "cell_type": "markdown",
      "metadata": {
        "id": "31abe6fe"
      },
      "source": [
        "#### 21. Create a checkerboard 8x8 matrix using the tile function (★☆☆)"
      ],
      "id": "31abe6fe"
    },
    {
      "cell_type": "code",
      "execution_count": null,
      "metadata": {
        "colab": {
          "base_uri": "https://localhost:8080/"
        },
        "id": "6da26fd3",
        "outputId": "91e4a97e-af28-449a-b013-29b2c944ecfe"
      },
      "outputs": [
        {
          "name": "stdout",
          "output_type": "stream",
          "text": [
            "[[0 1 0 1 0 1 0 1]\n",
            " [1 0 1 0 1 0 1 0]\n",
            " [0 1 0 1 0 1 0 1]\n",
            " [1 0 1 0 1 0 1 0]\n",
            " [0 1 0 1 0 1 0 1]\n",
            " [1 0 1 0 1 0 1 0]\n",
            " [0 1 0 1 0 1 0 1]\n",
            " [1 0 1 0 1 0 1 0]]\n"
          ]
        }
      ],
      "source": [
        "\n",
        "import numpy as np\n",
        "\n",
        "# Create a single tile of the checkerboard\n",
        "tile = np.array([[0, 1], [1, 0]])\n",
        "\n",
        "# Use the tile function to create an 8x8 checkerboard matrix\n",
        "checkerboard = np.tile(tile, (4, 4))\n",
        "\n",
        "print(checkerboard)"
      ],
      "id": "6da26fd3"
    },
    {
      "cell_type": "markdown",
      "metadata": {
        "id": "fd88b3f4"
      },
      "source": [
        "#### 22. Normalize a 5x5 random matrix (★☆☆)"
      ],
      "id": "fd88b3f4"
    },
    {
      "cell_type": "code",
      "execution_count": null,
      "metadata": {
        "colab": {
          "base_uri": "https://localhost:8080/"
        },
        "id": "ee6ced60",
        "outputId": "6c9655d4-2994-4ae8-bdb7-f5447f8c8ae6"
      },
      "outputs": [
        {
          "name": "stdout",
          "output_type": "stream",
          "text": [
            "Original Matrix:\n",
            "[[0.54609201 0.71898493 0.89818549 0.4348497  0.32528207]\n",
            " [0.48338636 0.17896269 0.40581879 0.58543678 0.69098251]\n",
            " [0.74510884 0.70250429 0.47312595 0.90003367 0.56201452]\n",
            " [0.93486166 0.85719102 0.29690304 0.2706712  0.04268253]\n",
            " [0.23790958 0.8905272  0.15596237 0.16424773 0.49175335]]\n",
            "\n",
            "Normalized Matrix:\n",
            "[[0.58414205 0.76908163 0.96076834 0.46514871 0.34794674]\n",
            " [0.51706727 0.19143227 0.43409502 0.62622825 0.73912809]\n",
            " [0.79702577 0.75145267 0.50609194 0.9627453  0.60117399]\n",
            " [1.         0.9169175  0.31759034 0.28953075 0.04565652]\n",
            " [0.2544864  0.95257645 0.16682936 0.17569202 0.52601724]]\n"
          ]
        }
      ],
      "source": [
        "\n",
        "import numpy as np\n",
        "\n",
        "matrix = np.random.rand(5, 5)\n",
        "normalized_matrix = matrix / matrix.max()\n",
        "\n",
        "print(\"Original Matrix:\")\n",
        "print(matrix)\n",
        "print(\"\\nNormalized Matrix:\")\n",
        "print(normalized_matrix)"
      ],
      "id": "ee6ced60"
    },
    {
      "cell_type": "markdown",
      "metadata": {
        "id": "464d8590"
      },
      "source": [
        "#### 23. Create a custom dtype that describes a color as four unsigned bytes (RGBA) (★☆☆)"
      ],
      "id": "464d8590"
    },
    {
      "cell_type": "code",
      "execution_count": null,
      "metadata": {
        "colab": {
          "base_uri": "https://localhost:8080/"
        },
        "id": "e2f9cfc6",
        "outputId": "f208338e-9b1a-4ae5-88b2-8c178439f8f2"
      },
      "outputs": [
        {
          "name": "stdout",
          "output_type": "stream",
          "text": [
            "[(255,   0,   0, 128) (  0, 128, 255, 255)]\n",
            "Red Channel: [255   0]\n",
            "Green Channel: [  0 128]\n",
            "Blue Channel: [  0 255]\n",
            "Alpha Channel: [128 255]\n"
          ]
        }
      ],
      "source": [
        "\n",
        "import numpy as np\n",
        "\n",
        "# Define the custom dtype for RGBA colors\n",
        "color_dtype = np.dtype([\n",
        "    ('R', np.uint8),  # Red channel\n",
        "    ('G', np.uint8),  # Green channel\n",
        "    ('B', np.uint8),  # Blue channel\n",
        "    ('A', np.uint8)   # Alpha channel\n",
        "])\n",
        "\n",
        "# Create an array with the custom dtype\n",
        "color_array = np.array([(255, 0, 0, 128), (0, 128, 255, 255)], dtype=color_dtype)\n",
        "\n",
        "# Access individual color channels\n",
        "red_channel = color_array['R']\n",
        "green_channel = color_array['G']\n",
        "blue_channel = color_array['B']\n",
        "alpha_channel = color_array['A']\n",
        "\n",
        "print(color_array)\n",
        "print(\"Red Channel:\", red_channel)\n",
        "print(\"Green Channel:\", green_channel)\n",
        "print(\"Blue Channel:\", blue_channel)\n",
        "print(\"Alpha Channel:\", alpha_channel)"
      ],
      "id": "e2f9cfc6"
    },
    {
      "cell_type": "markdown",
      "metadata": {
        "id": "06c63bb3"
      },
      "source": [
        "#### 24. Multiply a 5x3 matrix by a 3x2 matrix (real matrix product) (★☆☆)"
      ],
      "id": "06c63bb3"
    },
    {
      "cell_type": "code",
      "execution_count": null,
      "metadata": {
        "colab": {
          "base_uri": "https://localhost:8080/"
        },
        "id": "9fc0d553",
        "outputId": "34a5503f-246a-4a70-a69e-127c4ab18f25"
      },
      "outputs": [
        {
          "name": "stdout",
          "output_type": "stream",
          "text": [
            "[[ 5 14]\n",
            " [14 32]\n",
            " [23 50]\n",
            " [32 68]\n",
            " [41 86]]\n"
          ]
        }
      ],
      "source": [
        "\n",
        "import numpy as np\n",
        "\n",
        "# Create a 5x3 matrix\n",
        "matrix1 = np.array([[1, 2, 3],\n",
        "                   [4, 5, 6],\n",
        "                   [7, 8, 9],\n",
        "                   [10, 11, 12],\n",
        "                   [13, 14, 15]])\n",
        "\n",
        "# Create a 3x2 matrix\n",
        "matrix2 = np.array([[2, 1],\n",
        "                   [0, 2],\n",
        "                   [1, 3]])\n",
        "\n",
        "# Multiply the two matrices\n",
        "result = np.dot(matrix1, matrix2)\n",
        "\n",
        "# Print the result\n",
        "print(result)"
      ],
      "id": "9fc0d553"
    },
    {
      "cell_type": "markdown",
      "metadata": {
        "id": "76fa6285"
      },
      "source": [
        "#### 25. Given a 1D array, negate all elements which are between 3 and 8, in place. (★☆☆)"
      ],
      "id": "76fa6285"
    },
    {
      "cell_type": "code",
      "execution_count": null,
      "metadata": {
        "colab": {
          "base_uri": "https://localhost:8080/"
        },
        "id": "0e25eca7",
        "outputId": "0ec579f9-1125-4049-b713-052d87c8f70a"
      },
      "outputs": [
        {
          "name": "stdout",
          "output_type": "stream",
          "text": [
            "[ 1  2 -4 -6 -7  9 10]\n"
          ]
        }
      ],
      "source": [
        "\n",
        "import numpy as np\n",
        "\n",
        "# Create a sample 1D NumPy array\n",
        "arr = np.array([1, 2, 4, 6, 7, 9, 10])\n",
        "\n",
        "# Find the indices of elements between 3 and 8\n",
        "indices = (arr >= 3) & (arr <= 8)\n",
        "\n",
        "# Negate the elements in the specified indices\n",
        "arr[indices] = -arr[indices]\n",
        "\n",
        "# Print the modified array\n",
        "print(arr)"
      ],
      "id": "0e25eca7"
    },
    {
      "cell_type": "markdown",
      "metadata": {
        "id": "930ed8bb"
      },
      "source": [
        "#### 26. What is the output of the following script? (★☆☆)\n",
        "```python\n",
        "# Author: Jake VanderPlas\n",
        "\n",
        "print(sum(range(5),-1))\n",
        "from numpy import *\n",
        "print(sum(range(5),-1))\n",
        "```"
      ],
      "id": "930ed8bb"
    },
    {
      "cell_type": "code",
      "execution_count": null,
      "metadata": {
        "colab": {
          "base_uri": "https://localhost:8080/"
        },
        "id": "f02eedba",
        "outputId": "bf23cbc0-ede7-406d-b6e7-8e6d83b52d83"
      },
      "outputs": [
        {
          "data": {
            "text/plain": [
              "10"
            ]
          },
          "execution_count": 19,
          "metadata": {},
          "output_type": "execute_result"
        }
      ],
      "source": [
        "9\n",
        "10"
      ],
      "id": "f02eedba"
    },
    {
      "cell_type": "markdown",
      "metadata": {
        "id": "177120e7"
      },
      "source": [
        "#### 27. Consider an integer vector Z, which of these expressions are legal? (★☆☆)\n",
        "```python\n",
        "Z**Z\n",
        "2 << Z >> 2\n",
        "Z <- Z\n",
        "1j*Z\n",
        "Z/1/1\n",
        "Z<Z>Z\n",
        "```"
      ],
      "id": "177120e7"
    },
    {
      "cell_type": "code",
      "execution_count": null,
      "metadata": {
        "colab": {
          "base_uri": "https://localhost:8080/"
        },
        "id": "86d6cbef",
        "outputId": "812157e9-4a54-47a5-b278-78d0b978a34a"
      },
      "outputs": [
        {
          "output_type": "stream",
          "name": "stdout",
          "text": [
            "1. Z**Z: [   1    4   27  256 3125]\n",
            "2. 2 << Z >> 2: [ 1  2  4  8 16]\n",
            "3. Z <- Z: [False False False False False]\n",
            "4. 1j*Z: [0.+1.j 0.+2.j 0.+3.j 0.+4.j 0.+5.j]\n",
            "5. Z/1/1: [1. 2. 3. 4. 5.]\n"
          ]
        }
      ],
      "source": [
        "import numpy as np\n",
        "\n",
        "# Consider an integer vector Z\n",
        "Z = np.array([1, 2, 3, 4, 5])\n",
        "\n",
        "# 1. Z**Z\n",
        "result1 = Z**Z\n",
        "print(\"1. Z**Z:\", result1)\n",
        "\n",
        "# 2. 2 << Z >> 2\n",
        "result2 = 2 << Z >> 2\n",
        "print(\"2. 2 << Z >> 2:\", result2)\n",
        "\n",
        "# 3. Z <- Z\n",
        "result3 = Z <- Z\n",
        "print(\"3. Z <- Z:\", result3)\n",
        "\n",
        "# 4. 1j*Z\n",
        "result4 = 1j*Z\n",
        "print(\"4. 1j*Z:\", result4)\n",
        "\n",
        "# 5. Z/1/1\n",
        "result5 = Z/1/1\n",
        "print(\"5. Z/1/1:\", result5)\n",
        "\n",
        "# 6. Z<Z>Z (This will raise a SyntaxError)\n",
        "# result6 = Z<Z>Z\n",
        "\n",
        "# Note: The expression Z<Z>Z is not legal due to ambiguity.\n",
        "\n",
        "# Display the results\n",
        "\n"
      ],
      "id": "86d6cbef"
    },
    {
      "cell_type": "markdown",
      "metadata": {
        "id": "a6eaf0e8"
      },
      "source": [
        "#### 28. What are the result of the following expressions? (★☆☆)\n",
        "```python\n",
        "np.array(0) / np.array(0)\n",
        "np.array(0) // np.array(0)\n",
        "np.array([np.nan]).astype(int).astype(float)\n",
        "```"
      ],
      "id": "a6eaf0e8"
    },
    {
      "cell_type": "code",
      "execution_count": null,
      "metadata": {
        "id": "93684068",
        "colab": {
          "base_uri": "https://localhost:8080/"
        },
        "outputId": "0e0de100-acad-4b56-b372-71fb4e4527ea"
      },
      "outputs": [
        {
          "output_type": "stream",
          "name": "stdout",
          "text": [
            "Result 1: nan\n",
            "Result 2: 0\n",
            "Result 3: [-9.22337204e+18]\n"
          ]
        },
        {
          "output_type": "stream",
          "name": "stderr",
          "text": [
            "<ipython-input-1-d225063a5281>:4: RuntimeWarning: invalid value encountered in divide\n",
            "  result1 = np.array(0) / np.array(0)\n",
            "<ipython-input-1-d225063a5281>:8: RuntimeWarning: divide by zero encountered in floor_divide\n",
            "  result2 = np.array(0) // np.array(0)\n"
          ]
        }
      ],
      "source": [
        "import numpy as np\n",
        "\n",
        "# Expression 1\n",
        "result1 = np.array(0) / np.array(0)\n",
        "print(\"Result 1:\", result1)\n",
        "\n",
        "# Expression 2\n",
        "result2 = np.array(0) // np.array(0)\n",
        "print(\"Result 2:\", result2)\n",
        "\n",
        "# Expression 3\n",
        "result3 = np.array([np.nan]).astype(int).astype(float)\n",
        "print(\"Result 3:\", result3)\n"
      ],
      "id": "93684068"
    },
    {
      "cell_type": "markdown",
      "metadata": {
        "id": "524b65f8"
      },
      "source": [
        "#### 29. How to round away from zero a float array ? (★☆☆)"
      ],
      "id": "524b65f8"
    },
    {
      "cell_type": "code",
      "execution_count": null,
      "metadata": {
        "id": "61fbb78e",
        "colab": {
          "base_uri": "https://localhost:8080/"
        },
        "outputId": "3d54916a-9a7b-4f60-e7af-89deabd1e8e1"
      },
      "outputs": [
        {
          "output_type": "stream",
          "name": "stdout",
          "text": [
            "Original float array: [-3.14  2.7  -1.5   0.8 ]\n",
            "Rounded away from zero: [-4.  3. -2.  1.]\n"
          ]
        }
      ],
      "source": [
        "import numpy as np\n",
        "\n",
        "# Example float array\n",
        "float_array = np.array([-3.14, 2.7, -1.5, 0.8])\n",
        "\n",
        "# Round away from zero\n",
        "rounded_array = np.where(float_array >= 0, np.ceil(float_array), np.floor(float_array))\n",
        "\n",
        "print(\"Original float array:\", float_array)\n",
        "print(\"Rounded away from zero:\", rounded_array)\n"
      ],
      "id": "61fbb78e"
    },
    {
      "cell_type": "markdown",
      "metadata": {
        "id": "8dc40752"
      },
      "source": [
        "#### 30. How to find common values between two arrays? (★☆☆)"
      ],
      "id": "8dc40752"
    },
    {
      "cell_type": "code",
      "execution_count": null,
      "metadata": {
        "id": "54399cbe",
        "colab": {
          "base_uri": "https://localhost:8080/"
        },
        "outputId": "cb72b6bd-baad-462a-b068-73a31462d893"
      },
      "outputs": [
        {
          "output_type": "stream",
          "name": "stdout",
          "text": [
            "List 1: [1, 2, 3, 4, 5]\n",
            "List 2: [3, 4, 5, 6, 7]\n",
            "Common values: [3, 4, 5]\n"
          ]
        }
      ],
      "source": [
        "list1 = [1, 2, 3, 4, 5]\n",
        "list2 = [3, 4, 5, 6, 7]\n",
        "\n",
        "# Find common values using list comprehension\n",
        "common_values = [value for value in list1 if value in list2]\n",
        "\n",
        "print(\"List 1:\", list1)\n",
        "print(\"List 2:\", list2)\n",
        "print(\"Common values:\", common_values)\n"
      ],
      "id": "54399cbe"
    },
    {
      "cell_type": "markdown",
      "metadata": {
        "id": "b7f38e21"
      },
      "source": [
        "#### 31. How to ignore all numpy warnings (not recommended)? (★☆☆)"
      ],
      "id": "b7f38e21"
    },
    {
      "cell_type": "code",
      "execution_count": null,
      "metadata": {
        "id": "2ca3289c",
        "colab": {
          "base_uri": "https://localhost:8080/"
        },
        "outputId": "5f044ea0-6535-4f86-e6b6-98fdb5e90474"
      },
      "outputs": [
        {
          "output_type": "execute_result",
          "data": {
            "text/plain": [
              "{'divide': 'ignore', 'over': 'ignore', 'under': 'ignore', 'invalid': 'ignore'}"
            ]
          },
          "metadata": {},
          "execution_count": 4
        }
      ],
      "source": [
        "import numpy as np\n",
        "\n",
        "# Save current NumPy error settings\n",
        "old_settings = np.seterr(all='ignore')\n",
        "\n",
        "# Your code that may raise warnings goes here\n",
        "\n",
        "# Reset NumPy error settings to the original values\n",
        "np.seterr(**old_settings)\n"
      ],
      "id": "2ca3289c"
    },
    {
      "cell_type": "markdown",
      "metadata": {
        "id": "2d850aab"
      },
      "source": [
        "#### 32. Is the following expressions true? (★☆☆)\n",
        "```python\n",
        "np.sqrt(-1) == np.emath.sqrt(-1)\n",
        "```"
      ],
      "id": "2d850aab"
    },
    {
      "cell_type": "code",
      "execution_count": null,
      "metadata": {
        "id": "5c83ffce",
        "colab": {
          "base_uri": "https://localhost:8080/"
        },
        "outputId": "29f90f14-957e-421c-fac8-9e44b5cf5f1a"
      },
      "outputs": [
        {
          "output_type": "stream",
          "name": "stdout",
          "text": [
            "nan\n",
            "1j\n"
          ]
        },
        {
          "output_type": "stream",
          "name": "stderr",
          "text": [
            "<ipython-input-5-d2910bb92b43>:3: RuntimeWarning: invalid value encountered in sqrt\n",
            "  result1 = np.sqrt(-1)\n"
          ]
        }
      ],
      "source": [
        "import numpy as np\n",
        "\n",
        "result1 = np.sqrt(-1)\n",
        "result2 = np.emath.sqrt(-1)\n",
        "\n",
        "print(result1)  # Output: 1j\n",
        "print(result2)  # Output: 1j\n"
      ],
      "id": "5c83ffce"
    },
    {
      "cell_type": "markdown",
      "metadata": {
        "id": "5c4a556f"
      },
      "source": [
        "#### 33. How to get the dates of yesterday, today and tomorrow? (★☆☆)"
      ],
      "id": "5c4a556f"
    },
    {
      "cell_type": "code",
      "execution_count": null,
      "metadata": {
        "id": "c3b683a0",
        "colab": {
          "base_uri": "https://localhost:8080/"
        },
        "outputId": "69ebd258-b069-4577-f669-ec7c8a6bd8ea"
      },
      "outputs": [
        {
          "output_type": "stream",
          "name": "stdout",
          "text": [
            "Yesterday: 2023-11-14\n",
            "Today: 2023-11-15\n",
            "Tomorrow: 2023-11-16\n"
          ]
        }
      ],
      "source": [
        "from datetime import datetime, timedelta\n",
        "\n",
        "# Get today's date\n",
        "today = datetime.now().date()\n",
        "\n",
        "# Get yesterday's date\n",
        "yesterday = today - timedelta(days=1)\n",
        "\n",
        "# Get tomorrow's date\n",
        "tomorrow = today + timedelta(days=1)\n",
        "\n",
        "# Print the results\n",
        "print(\"Yesterday:\", yesterday)\n",
        "print(\"Today:\", today)\n",
        "print(\"Tomorrow:\", tomorrow)\n"
      ],
      "id": "c3b683a0"
    },
    {
      "cell_type": "markdown",
      "metadata": {
        "id": "453cdd64"
      },
      "source": [
        "#### 34. How to get all the dates corresponding to the month of July 2016? (★★☆)"
      ],
      "id": "453cdd64"
    },
    {
      "cell_type": "code",
      "execution_count": null,
      "metadata": {
        "id": "4ba4d37c",
        "colab": {
          "base_uri": "https://localhost:8080/"
        },
        "outputId": "bc4b0969-0d92-4bbe-d4f3-ba4e201cd10c"
      },
      "outputs": [
        {
          "output_type": "stream",
          "name": "stdout",
          "text": [
            "2016-07-01 00:00:00\n",
            "2016-07-02 00:00:00\n",
            "2016-07-03 00:00:00\n",
            "2016-07-04 00:00:00\n",
            "2016-07-05 00:00:00\n",
            "2016-07-06 00:00:00\n",
            "2016-07-07 00:00:00\n",
            "2016-07-08 00:00:00\n",
            "2016-07-09 00:00:00\n",
            "2016-07-10 00:00:00\n",
            "2016-07-11 00:00:00\n",
            "2016-07-12 00:00:00\n",
            "2016-07-13 00:00:00\n",
            "2016-07-14 00:00:00\n",
            "2016-07-15 00:00:00\n",
            "2016-07-16 00:00:00\n",
            "2016-07-17 00:00:00\n",
            "2016-07-18 00:00:00\n",
            "2016-07-19 00:00:00\n",
            "2016-07-20 00:00:00\n",
            "2016-07-21 00:00:00\n",
            "2016-07-22 00:00:00\n",
            "2016-07-23 00:00:00\n",
            "2016-07-24 00:00:00\n",
            "2016-07-25 00:00:00\n",
            "2016-07-26 00:00:00\n",
            "2016-07-27 00:00:00\n",
            "2016-07-28 00:00:00\n",
            "2016-07-29 00:00:00\n",
            "2016-07-30 00:00:00\n",
            "2016-07-31 00:00:00\n"
          ]
        }
      ],
      "source": [
        "from datetime import datetime, timedelta\n",
        "\n",
        "# Specify the year and month\n",
        "year = 2016\n",
        "month = 7\n",
        "\n",
        "# Get the first day of the month\n",
        "first_day = datetime(year, month, 1)\n",
        "\n",
        "# Calculate the number of days in the month\n",
        "num_days = (datetime(year, month % 12 + 1, 1) - timedelta(days=1)).day\n",
        "\n",
        "# Generate all the dates of the month\n",
        "all_dates = [first_day + timedelta(days=i) for i in range(num_days)]\n",
        "\n",
        "# Print the results\n",
        "for date in all_dates:\n",
        "    print(date)\n"
      ],
      "id": "4ba4d37c"
    },
    {
      "cell_type": "markdown",
      "metadata": {
        "id": "52667b6e"
      },
      "source": [
        "#### 35. How to compute ((A+B)*(-A/2)) in place (without copy)? (★★☆)"
      ],
      "id": "52667b6e"
    },
    {
      "cell_type": "code",
      "execution_count": null,
      "metadata": {
        "id": "e6e7c030",
        "colab": {
          "base_uri": "https://localhost:8080/"
        },
        "outputId": "9bb6017e-31b1-4e1e-b436-00fef4e668f3"
      },
      "outputs": [
        {
          "output_type": "stream",
          "name": "stdout",
          "text": [
            "[-2.5 -3.5 -4.5]\n"
          ]
        }
      ],
      "source": [
        "import numpy as np\n",
        "\n",
        "# Example arrays A and B\n",
        "A = np.array([1.0, 2.0, 3.0])\n",
        "B = np.array([4.0, 5.0, 6.0])\n",
        "\n",
        "# Compute ((A+B)*(-A/2)) in place\n",
        "np.add(A, B, out=A)   # A = A + B\n",
        "np.multiply(A, -0.5, out=A)  # A = A * (-A/2)\n",
        "\n",
        "# Print the result\n",
        "print(A)\n",
        "\n"
      ],
      "id": "e6e7c030"
    },
    {
      "cell_type": "markdown",
      "metadata": {
        "id": "9a8f3738"
      },
      "source": [
        "#### 36. Extract the integer part of a random array of positive numbers using 4 different methods (★★☆)"
      ],
      "id": "9a8f3738"
    },
    {
      "cell_type": "code",
      "execution_count": null,
      "metadata": {
        "id": "368a801a",
        "colab": {
          "base_uri": "https://localhost:8080/"
        },
        "outputId": "65835859-e12e-4cd2-f1c0-5460c27ab215"
      },
      "outputs": [
        {
          "output_type": "stream",
          "name": "stdout",
          "text": [
            "Method 1: [7 4 7 4 3]\n",
            "Method 2 (floor): [7. 4. 7. 4. 3.]\n",
            "Method 3 (ceil): [8. 5. 8. 5. 4.]\n",
            "Method 4: [7, 4, 7, 4, 3]\n",
            "Method 4: [7, 4, 7, 4, 3]\n"
          ]
        }
      ],
      "source": [
        "import numpy as np\n",
        "\n",
        "# Generate a random array of positive numbers\n",
        "random_array = np.random.rand(5) * 10  # Adjust the size as needed\n",
        "\n",
        "# Method 1: Using astype(int)\n",
        "integer_part_method1 = random_array.astype(int)\n",
        "\n",
        "print(\"Method 1:\", integer_part_method1)\n",
        "# Method 2: Using np.floor\n",
        "integer_part_method2 = np.floor(random_array)\n",
        "\n",
        "print(\"Method 2 (floor):\", integer_part_method2)\n",
        "\n",
        "# Method 2: Using np.ceil\n",
        "integer_part_method3 = np.ceil(random_array)\n",
        "\n",
        "print(\"Method 3 (ceil):\", integer_part_method3)\n",
        "# Method 4: Using map and int\n",
        "integer_part_method4 = list(map(int, random_array))\n",
        "\n",
        "print(\"Method 4:\", integer_part_method4)\n",
        "# Method 4: Using map and int\n",
        "integer_part_method4 = list(map(int, random_array))\n",
        "\n",
        "print(\"Method 4:\", integer_part_method4)\n"
      ],
      "id": "368a801a"
    },
    {
      "cell_type": "markdown",
      "metadata": {
        "id": "cab1eed1"
      },
      "source": [
        "#### 37. Create a 5x5 matrix with row values ranging from 0 to 4 (★★☆)"
      ],
      "id": "cab1eed1"
    },
    {
      "cell_type": "code",
      "execution_count": null,
      "metadata": {
        "id": "f1b579ba",
        "colab": {
          "base_uri": "https://localhost:8080/"
        },
        "outputId": "db346f03-5dac-4ba1-c548-8f742d5a3be3"
      },
      "outputs": [
        {
          "output_type": "stream",
          "name": "stdout",
          "text": [
            "[[0 1 2 3 4]\n",
            " [1 2 3 4 5]\n",
            " [2 3 4 5 6]\n",
            " [3 4 5 6 7]\n",
            " [4 5 6 7 8]]\n"
          ]
        }
      ],
      "source": [
        "import numpy as np\n",
        "\n",
        "# Create a 5x5 matrix with row values ranging from 0 to 4\n",
        "matrix = np.arange(5).reshape((5, 1)) + np.arange(5)\n",
        "\n",
        "print(matrix)\n"
      ],
      "id": "f1b579ba"
    },
    {
      "cell_type": "markdown",
      "metadata": {
        "id": "cd0ce6b1"
      },
      "source": [
        "#### 38. Consider a generator function that generates 10 integers and use it to build an array (★☆☆)"
      ],
      "id": "cd0ce6b1"
    },
    {
      "cell_type": "code",
      "execution_count": null,
      "metadata": {
        "id": "aab193a6",
        "colab": {
          "base_uri": "https://localhost:8080/"
        },
        "outputId": "468f9d7b-d9e4-4627-aa0f-462387320f1b"
      },
      "outputs": [
        {
          "output_type": "stream",
          "name": "stdout",
          "text": [
            "[0 1 2 3 4 5 6 7 8 9]\n"
          ]
        }
      ],
      "source": [
        "import numpy as np\n",
        "\n",
        "# Generator function to yield 10 integers\n",
        "def generate_integers():\n",
        "    for i in range(10):\n",
        "        yield i\n",
        "\n",
        "# Create an array using the generator\n",
        "generated_array = np.array(list(generate_integers()))\n",
        "\n",
        "print(generated_array)\n"
      ],
      "id": "aab193a6"
    },
    {
      "cell_type": "markdown",
      "metadata": {
        "id": "c4c942d1"
      },
      "source": [
        "#### 39. Create a vector of size 10 with values ranging from 0 to 1, both excluded (★★☆)"
      ],
      "id": "c4c942d1"
    },
    {
      "cell_type": "code",
      "execution_count": null,
      "metadata": {
        "id": "e42eaa4b",
        "colab": {
          "base_uri": "https://localhost:8080/"
        },
        "outputId": "dfb58aa2-5afb-4828-9c28-ff0f0f42d6de"
      },
      "outputs": [
        {
          "output_type": "stream",
          "name": "stdout",
          "text": [
            "[0.09090909 0.18181818 0.27272727 0.36363636 0.45454545 0.54545455\n",
            " 0.63636364 0.72727273 0.81818182 0.90909091]\n"
          ]
        }
      ],
      "source": [
        "import numpy as np\n",
        "\n",
        "# Create a vector with values ranging from 0 to 1 (both excluded)\n",
        "vector = np.linspace(0, 1, 12)[1:-1]\n",
        "\n",
        "print(vector)\n"
      ],
      "id": "e42eaa4b"
    },
    {
      "cell_type": "markdown",
      "metadata": {
        "id": "9b3cb8d2"
      },
      "source": [
        "#### 40. Create a random vector of size 10 and sort it (★★☆)"
      ],
      "id": "9b3cb8d2"
    },
    {
      "cell_type": "code",
      "execution_count": null,
      "metadata": {
        "id": "37d2b341",
        "colab": {
          "base_uri": "https://localhost:8080/"
        },
        "outputId": "5fee5d7e-cfa9-4188-f473-345ef1adcf40"
      },
      "outputs": [
        {
          "output_type": "stream",
          "name": "stdout",
          "text": [
            "Original Random Vector: [0.2891818  0.1614586  0.93282385 0.06162309 0.88315491 0.59264611\n",
            " 0.31953143 0.71101746 0.80591746 0.97676609]\n",
            "Sorted Vector: [0.06162309 0.1614586  0.2891818  0.31953143 0.59264611 0.71101746\n",
            " 0.80591746 0.88315491 0.93282385 0.97676609]\n"
          ]
        }
      ],
      "source": [
        "import numpy as np\n",
        "\n",
        "# Create a random vector of size 10\n",
        "random_vector = np.random.rand(10)\n",
        "\n",
        "# Sort the vector\n",
        "sorted_vector = np.sort(random_vector)\n",
        "\n",
        "print(\"Original Random Vector:\", random_vector)\n",
        "print(\"Sorted Vector:\", sorted_vector)\n"
      ],
      "id": "37d2b341"
    },
    {
      "cell_type": "markdown",
      "metadata": {
        "id": "2facfddc"
      },
      "source": [
        "#### 41. How to sum a small array faster than np.sum? (★★☆)"
      ],
      "id": "2facfddc"
    },
    {
      "cell_type": "code",
      "execution_count": null,
      "metadata": {
        "id": "4bb8864f",
        "colab": {
          "base_uri": "https://localhost:8080/"
        },
        "outputId": "b0905842-0bfe-40a6-a0c8-1b71f735462e"
      },
      "outputs": [
        {
          "output_type": "stream",
          "name": "stdout",
          "text": [
            "Sum using np.sum: 15\n",
            "Sum using built-in sum: 15\n"
          ]
        }
      ],
      "source": [
        "import numpy as np\n",
        "\n",
        "# Create a small array\n",
        "small_array = np.array([1, 2, 3, 4, 5])\n",
        "\n",
        "# Sum using np.sum\n",
        "sum_np = np.sum(small_array)\n",
        "\n",
        "# Sum using built-in sum\n",
        "sum_builtin = sum(small_array)\n",
        "\n",
        "print(\"Sum using np.sum:\", sum_np)\n",
        "print(\"Sum using built-in sum:\", sum_builtin)\n"
      ],
      "id": "4bb8864f"
    },
    {
      "cell_type": "markdown",
      "metadata": {
        "id": "539cd2a5"
      },
      "source": [
        "#### 42. Consider two random array A and B, check if they are equal (★★☆)"
      ],
      "id": "539cd2a5"
    },
    {
      "cell_type": "code",
      "execution_count": null,
      "metadata": {
        "id": "5246d7bf",
        "colab": {
          "base_uri": "https://localhost:8080/"
        },
        "outputId": "e6389d4d-701e-43bc-c372-5a8ba8862e58"
      },
      "outputs": [
        {
          "output_type": "stream",
          "name": "stdout",
          "text": [
            "Array A: [0.69762666 0.43909718 0.56803673 0.90920114 0.50734173]\n",
            "Array B: [0.83980346 0.30852713 0.54447937 0.89820299 0.84719999]\n",
            "Are A and B equal? False\n"
          ]
        }
      ],
      "source": [
        "import numpy as np\n",
        "\n",
        "# Create two random arrays A and B\n",
        "A = np.random.rand(5)\n",
        "B = np.random.rand(5)\n",
        "\n",
        "# Check if arrays are equal\n",
        "are_equal = np.array_equal(A, B)\n",
        "\n",
        "print(\"Array A:\", A)\n",
        "print(\"Array B:\", B)\n",
        "print(\"Are A and B equal?\", are_equal)\n"
      ],
      "id": "5246d7bf"
    },
    {
      "cell_type": "markdown",
      "metadata": {
        "id": "448f8274"
      },
      "source": [
        "#### 43. Make an array immutable (read-only) (★★☆)"
      ],
      "id": "448f8274"
    },
    {
      "cell_type": "code",
      "execution_count": null,
      "metadata": {
        "id": "7cf2b3dd",
        "colab": {
          "base_uri": "https://localhost:8080/"
        },
        "outputId": "bf9eb791-cf76-4e5f-cc07-420ac5ffba28"
      },
      "outputs": [
        {
          "output_type": "stream",
          "name": "stdout",
          "text": [
            "Original Array: [1 2 3 4 5]\n",
            "Read-Only Array: [1 2 3 4 5]\n"
          ]
        }
      ],
      "source": [
        "import numpy as np\n",
        "\n",
        "# Create a NumPy array\n",
        "original_array = np.array([1, 2, 3, 4, 5])\n",
        "\n",
        "# Make the array read-only\n",
        "read_only_array = original_array.copy()\n",
        "read_only_array.flags.writeable = False\n",
        "\n",
        "# Attempt to modify the read-only array (this will raise an error)\n",
        "# read_only_array[0] = 10  # Uncommenting this line will raise an error\n",
        "\n",
        "print(\"Original Array:\", original_array)\n",
        "print(\"Read-Only Array:\", read_only_array)\n"
      ],
      "id": "7cf2b3dd"
    },
    {
      "cell_type": "markdown",
      "metadata": {
        "id": "d7b7aaf3"
      },
      "source": [
        "#### 44. Consider a random 10x2 matrix representing cartesian coordinates, convert them to polar coordinates (★★☆)"
      ],
      "id": "d7b7aaf3"
    },
    {
      "cell_type": "code",
      "execution_count": null,
      "metadata": {
        "id": "e2337585",
        "colab": {
          "base_uri": "https://localhost:8080/"
        },
        "outputId": "b4e385b9-14f7-4c88-ac48-1fcddaeb2a65"
      },
      "outputs": [
        {
          "output_type": "stream",
          "name": "stdout",
          "text": [
            "Cartesian Coordinates:\n",
            " [[0.85043447 0.75150702]\n",
            " [0.84531198 0.17924946]\n",
            " [0.03953987 0.18761411]\n",
            " [0.47123965 0.42585063]\n",
            " [0.86631386 0.68364679]\n",
            " [0.01649104 0.9728819 ]\n",
            " [0.17173474 0.32959521]\n",
            " [0.16231685 0.54306869]\n",
            " [0.9584121  0.28367708]\n",
            " [0.46801951 0.70614656]]\n",
            "\n",
            "Radius (r):\n",
            " [1.13490158 0.86410805 0.19173538 0.63515004 1.10357267 0.97302166\n",
            " 0.37165283 0.56680717 0.9995131  0.84716305]\n",
            "\n",
            "Angle (theta):\n",
            " [0.72372176 0.20895599 1.36308491 0.73484545 0.66808658 1.55384724\n",
            " 1.09045291 1.28035979 0.28777066 0.98548962]\n"
          ]
        }
      ],
      "source": [
        "import numpy as np\n",
        "\n",
        "# Generate a random 10x2 matrix representing Cartesian coordinates\n",
        "cartesian_coordinates = np.random.rand(10, 2)\n",
        "\n",
        "# Extract x and y coordinates\n",
        "x, y = cartesian_coordinates[:, 0], cartesian_coordinates[:, 1]\n",
        "\n",
        "# Convert to polar coordinates\n",
        "radius = np.hypot(x, y)\n",
        "angle = np.arctan2(y, x)\n",
        "\n",
        "# Display the results\n",
        "print(\"Cartesian Coordinates:\\n\", cartesian_coordinates)\n",
        "print(\"\\nRadius (r):\\n\", radius)\n",
        "print(\"\\nAngle (theta):\\n\", angle)\n"
      ],
      "id": "e2337585"
    },
    {
      "cell_type": "markdown",
      "metadata": {
        "id": "a556027a"
      },
      "source": [
        "#### 45. Create random vector of size 10 and replace the maximum value by 0 (★★☆)"
      ],
      "id": "a556027a"
    },
    {
      "cell_type": "code",
      "execution_count": null,
      "metadata": {
        "id": "9e07cb87",
        "colab": {
          "base_uri": "https://localhost:8080/"
        },
        "outputId": "dbbee060-9377-44e3-f8b2-a2e2c3c7f706"
      },
      "outputs": [
        {
          "output_type": "stream",
          "name": "stdout",
          "text": [
            "Cartesian Coordinates:\n",
            " [[0.91533879 0.50271954]\n",
            " [0.7315564  0.56009843]\n",
            " [0.05387794 0.233269  ]\n",
            " [0.75982091 0.46271602]\n",
            " [0.88692959 0.28341861]\n",
            " [0.65591206 0.96425731]\n",
            " [0.43463456 0.50593663]\n",
            " [0.45391811 0.94629956]\n",
            " [0.6992008  0.3981852 ]\n",
            " [0.40839901 0.59921647]]\n",
            "\n",
            "Radius (r):\n",
            " [1.04430457 0.92134956 0.23941023 0.88962572 0.93111235 1.16619586\n",
            " 0.66699256 1.04953537 0.80463235 0.72515524]\n",
            "\n",
            "Angle (theta):\n",
            " [0.50224179 0.65342683 1.34380769 0.54699656 0.30929495 0.97346573\n",
            " 0.86106065 1.12353892 0.51768063 0.97255709]\n"
          ]
        }
      ],
      "source": [
        "import numpy as np\n",
        "\n",
        "# Generate a random 10x2 matrix representing Cartesian coordinates\n",
        "cartesian_coordinates = np.random.rand(10, 2)\n",
        "\n",
        "# Extract x and y coordinates\n",
        "x, y = cartesian_coordinates[:, 0], cartesian_coordinates[:, 1]\n",
        "\n",
        "# Convert to polar coordinates\n",
        "radius = np.hypot(x, y)\n",
        "angle = np.arctan2(y, x)\n",
        "\n",
        "# Display the results\n",
        "print(\"Cartesian Coordinates:\\n\", cartesian_coordinates)\n",
        "print(\"\\nRadius (r):\\n\", radius)\n",
        "print(\"\\nAngle (theta):\\n\", angle)\n"
      ],
      "id": "9e07cb87"
    },
    {
      "cell_type": "markdown",
      "metadata": {
        "id": "004f3da1"
      },
      "source": [
        "#### 46. Create a structured array with `x` and `y` coordinates covering the [0,1]x[0,1] area (★★☆)"
      ],
      "id": "004f3da1"
    },
    {
      "cell_type": "code",
      "execution_count": null,
      "metadata": {
        "id": "b3824741"
      },
      "outputs": [],
      "source": [
        "import numpy as np\n",
        "\n",
        "# Generate a random vector of size 10\n",
        "random_vector = np.random.rand(10)\n",
        "\n",
        "# Find the index of the maximum value\n",
        "max_index = np.argmax(random_vector)\n",
        "\n",
        "# Replace the maximum value with 0\n",
        "random_vector[max_index] = 0\n",
        "\n",
        "print(\"Original Random Vector:\", random_vector)\n"
      ],
      "id": "b3824741"
    },
    {
      "cell_type": "markdown",
      "metadata": {
        "id": "1c0adc0d"
      },
      "source": [
        "#### 47. Given two arrays, X and Y, construct the Cauchy matrix C (Cij =1/(xi - yj)) (★★☆)"
      ],
      "id": "1c0adc0d"
    },
    {
      "cell_type": "code",
      "execution_count": null,
      "metadata": {
        "id": "01b3bbb7",
        "colab": {
          "base_uri": "https://localhost:8080/"
        },
        "outputId": "d3d16f5a-eebe-4fc5-894e-1a6cd4de1ab9"
      },
      "outputs": [
        {
          "output_type": "stream",
          "name": "stdout",
          "text": [
            "Cauchy Matrix C:\n",
            "[[-0.33333333 -0.25       -0.2       ]\n",
            " [-0.5        -0.33333333 -0.25      ]\n",
            " [-1.         -0.5        -0.33333333]]\n"
          ]
        }
      ],
      "source": [
        "import numpy as np\n",
        "\n",
        "# Example arrays X and Y\n",
        "X = np.array([1, 2, 3])\n",
        "Y = np.array([4, 5, 6])\n",
        "\n",
        "# Construct the Cauchy matrix C\n",
        "C = 1.0 / (X[:, np.newaxis] - Y)\n",
        "\n",
        "print(\"Cauchy Matrix C:\")\n",
        "print(C)\n"
      ],
      "id": "01b3bbb7"
    },
    {
      "cell_type": "markdown",
      "metadata": {
        "id": "c8a2f65a"
      },
      "source": [
        "#### 48. Print the minimum and maximum representable value for each numpy scalar type (★★☆)"
      ],
      "id": "c8a2f65a"
    },
    {
      "cell_type": "code",
      "execution_count": null,
      "metadata": {
        "id": "35d844d6",
        "colab": {
          "base_uri": "https://localhost:8080/"
        },
        "outputId": "d388315a-5081-4933-d6ce-c61b3d134416"
      },
      "outputs": [
        {
          "output_type": "stream",
          "name": "stdout",
          "text": [
            "Integer types:\n",
            "int8: min=-128, max=127\n",
            "int16: min=-32768, max=32767\n",
            "int32: min=-2147483648, max=2147483647\n",
            "int64: min=-9223372036854775808, max=9223372036854775807\n",
            "uint8: min=0, max=255\n",
            "uint16: min=0, max=65535\n",
            "uint32: min=0, max=4294967295\n",
            "uint64: min=0, max=18446744073709551615\n",
            "\n",
            "Floating-point types:\n",
            "float16: min=-65504.0, max=65504.0\n",
            "float32: min=-3.4028234663852886e+38, max=3.4028234663852886e+38\n",
            "float64: min=-1.7976931348623157e+308, max=1.7976931348623157e+308\n"
          ]
        }
      ],
      "source": [
        "import numpy as np\n",
        "\n",
        "# Integer types\n",
        "int_types = [np.int8, np.int16, np.int32, np.int64, np.uint8, np.uint16, np.uint32, np.uint64]\n",
        "\n",
        "print(\"Integer types:\")\n",
        "for int_type in int_types:\n",
        "    info = np.iinfo(int_type)\n",
        "    print(f\"{int_type.__name__}: min={info.min}, max={info.max}\")\n",
        "\n",
        "# Floating-point types\n",
        "float_types = [np.float16, np.float32, np.float64]\n",
        "\n",
        "print(\"\\nFloating-point types:\")\n",
        "for float_type in float_types:\n",
        "    info = np.finfo(float_type)\n",
        "    print(f\"{float_type.__name__}: min={info.min}, max={info.max}\")\n"
      ],
      "id": "35d844d6"
    },
    {
      "cell_type": "markdown",
      "metadata": {
        "id": "11727a69"
      },
      "source": [
        "#### 49. How to print all the values of an array? (★★☆)"
      ],
      "id": "11727a69"
    },
    {
      "cell_type": "code",
      "execution_count": null,
      "metadata": {
        "id": "47e98473",
        "colab": {
          "base_uri": "https://localhost:8080/"
        },
        "outputId": "2d159cef-b8f0-4234-c611-82205425ca46"
      },
      "outputs": [
        {
          "output_type": "stream",
          "name": "stdout",
          "text": [
            "All values in the array:\n",
            "[[1 2 3]\n",
            " [4 5 6]\n",
            " [7 8 9]]\n"
          ]
        }
      ],
      "source": [
        "import numpy as np\n",
        "\n",
        "# Create an example array\n",
        "my_array = np.array([[1, 2, 3], [4, 5, 6], [7, 8, 9]])\n",
        "\n",
        "# Print all values in the array\n",
        "print(\"All values in the array:\")\n",
        "print(my_array)\n"
      ],
      "id": "47e98473"
    },
    {
      "cell_type": "markdown",
      "metadata": {
        "id": "e0e7d741"
      },
      "source": [
        "#### 50. How to find the closest value (to a given scalar) in a vector? (★★☆)"
      ],
      "id": "e0e7d741"
    },
    {
      "cell_type": "code",
      "execution_count": null,
      "metadata": {
        "id": "62cabf6f",
        "colab": {
          "base_uri": "https://localhost:8080/"
        },
        "outputId": "01e30da6-514c-4233-cdde-316396a3a15a"
      },
      "outputs": [
        {
          "output_type": "stream",
          "name": "stdout",
          "text": [
            "Vector: [1.2 2.5 3.8 4.2 5.1]\n",
            "Given Scalar: 4.0\n",
            "Closest Value: 3.8 at index 2\n"
          ]
        }
      ],
      "source": [
        "import numpy as np\n",
        "\n",
        "# Create a NumPy vector\n",
        "vector = np.array([1.2, 2.5, 3.8, 4.2, 5.1])\n",
        "\n",
        "# Given scalar\n",
        "scalar = 4.0\n",
        "\n",
        "# Find the index of the closest value\n",
        "index_closest = np.argmin(np.abs(vector - scalar))\n",
        "\n",
        "# Get the closest value\n",
        "closest_value = vector[index_closest]\n",
        "\n",
        "print(f\"Vector: {vector}\")\n",
        "print(f\"Given Scalar: {scalar}\")\n",
        "print(f\"Closest Value: {closest_value} at index {index_closest}\")\n"
      ],
      "id": "62cabf6f"
    },
    {
      "cell_type": "markdown",
      "metadata": {
        "id": "c5611b9e"
      },
      "source": [
        "#### 51. Create a structured array representing a position (x,y) and a color (r,g,b) (★★☆)"
      ],
      "id": "c5611b9e"
    },
    {
      "cell_type": "code",
      "execution_count": null,
      "metadata": {
        "id": "f622939d",
        "colab": {
          "base_uri": "https://localhost:8080/"
        },
        "outputId": "39d91153-ec5d-4ab7-c0a6-6ae9770c5625"
      },
      "outputs": [
        {
          "output_type": "stream",
          "name": "stdout",
          "text": [
            "[(1. , 2.3, 255,   0, 128) (2.5, 4.1,   0, 128, 255)\n",
            " (3.7, 1.8, 128, 255,   0) (4.2, 3. ,   0, 128, 255)\n",
            " (5.9, 5.5, 255,   0, 128)]\n"
          ]
        }
      ],
      "source": [
        "import numpy as np\n",
        "\n",
        "# Create a structured array with fields 'x', 'y', 'r', 'g', 'b'\n",
        "structured_array = np.zeros((5,), dtype=[('x', float), ('y', float), ('r', int), ('g', int), ('b', int)])\n",
        "\n",
        "# Fill in some example values\n",
        "structured_array['x'] = [1.0, 2.5, 3.7, 4.2, 5.9]\n",
        "structured_array['y'] = [2.3, 4.1, 1.8, 3.0, 5.5]\n",
        "structured_array['r'] = [255, 0, 128, 0, 255]\n",
        "structured_array['g'] = [0, 128, 255, 128, 0]\n",
        "structured_array['b'] = [128, 255, 0, 255, 128]\n",
        "\n",
        "print(structured_array)\n"
      ],
      "id": "f622939d"
    },
    {
      "cell_type": "markdown",
      "metadata": {
        "id": "d22b8574"
      },
      "source": [
        "#### 52. Consider a random vector with shape (100,2) representing coordinates, find point by point distances (★★☆)"
      ],
      "id": "d22b8574"
    },
    {
      "cell_type": "code",
      "execution_count": null,
      "metadata": {
        "id": "d5c9cdf8",
        "colab": {
          "base_uri": "https://localhost:8080/"
        },
        "outputId": "2d764a32-dc07-4b95-b9b4-5271f429ecaf"
      },
      "outputs": [
        {
          "output_type": "stream",
          "name": "stdout",
          "text": [
            "Point-by-point distances:\n",
            "[[0.         0.42967671 0.24267925 ... 0.67718176 0.20034993 0.42212975]\n",
            " [0.42967671 0.         0.18763008 ... 0.24972612 0.62989652 0.15390359]\n",
            " [0.24267925 0.18763008 0.         ... 0.43675349 0.44302829 0.20566775]\n",
            " ...\n",
            " [0.67718176 0.24972612 0.43675349 ... 0.         0.87667555 0.34030093]\n",
            " [0.20034993 0.62989652 0.44302829 ... 0.87667555 0.         0.61557484]\n",
            " [0.42212975 0.15390359 0.20566775 ... 0.34030093 0.61557484 0.        ]]\n"
          ]
        }
      ],
      "source": [
        "import numpy as np\n",
        "from scipy.spatial.distance import cdist\n",
        "\n",
        "# Generate a random vector with shape (100, 2)\n",
        "random_coordinates = np.random.rand(100, 2)\n",
        "\n",
        "# Calculate point-by-point distances\n",
        "distances = cdist(random_coordinates, random_coordinates)\n",
        "\n",
        "# Print the result\n",
        "print(\"Point-by-point distances:\")\n",
        "print(distances)\n"
      ],
      "id": "d5c9cdf8"
    },
    {
      "cell_type": "markdown",
      "metadata": {
        "id": "f5c164f2"
      },
      "source": [
        "#### 53. How to convert a float (32 bits) array into an integer (32 bits) in place?"
      ],
      "id": "f5c164f2"
    },
    {
      "cell_type": "code",
      "execution_count": null,
      "metadata": {
        "id": "ea262de8",
        "colab": {
          "base_uri": "https://localhost:8080/"
        },
        "outputId": "faeb24c0-63ec-4a0a-9b88-0c26e80a0cac"
      },
      "outputs": [
        {
          "output_type": "stream",
          "name": "stdout",
          "text": [
            "Original Float Array: [1.5 2.7 3.8]\n",
            "Converted Integer Array: [1069547520 1076677837 1081291571]\n"
          ]
        }
      ],
      "source": [
        "import numpy as np\n",
        "\n",
        "# Create a float array (32 bits)\n",
        "float_array = np.array([1.5, 2.7, 3.8], dtype=np.float32)\n",
        "\n",
        "# Convert to an integer array (32 bits) in place\n",
        "int_array = float_array.view(np.int32)\n",
        "\n",
        "print(\"Original Float Array:\", float_array)\n",
        "print(\"Converted Integer Array:\", int_array)\n"
      ],
      "id": "ea262de8"
    },
    {
      "cell_type": "markdown",
      "metadata": {
        "id": "a8b7e6f5"
      },
      "source": [
        "#### 54. How to read the following file? (★★☆)\n",
        "```\n",
        "1, 2, 3, 4, 5\n",
        "6,  ,  , 7, 8\n",
        " ,  , 9,10,11\n",
        "```"
      ],
      "id": "a8b7e6f5"
    },
    {
      "cell_type": "code",
      "execution_count": null,
      "metadata": {
        "id": "bde0538a",
        "colab": {
          "base_uri": "https://localhost:8080/"
        },
        "outputId": "73e09dc6-bd53-44d4-c89c-e8f3ce181a6e"
      },
      "outputs": [
        {
          "output_type": "stream",
          "name": "stdout",
          "text": [
            "NumPy Array:\n",
            "[[ 1.  2.  3.  4.  5.]\n",
            " [ 6. nan nan  7.  8.]\n",
            " [nan nan  9. 10. 11.]]\n"
          ]
        }
      ],
      "source": [
        "import numpy as np\n",
        "from io import StringIO\n",
        "\n",
        "# Define the input string with the file content\n",
        "file_content = \"\"\"1, 2, 3, 4, 5\n",
        "6,  ,  , 7, 8\n",
        " ,  , 9, 10, 11\"\"\"\n",
        "\n",
        "# Use StringIO to simulate a file object\n",
        "file_object = StringIO(file_content)\n",
        "\n",
        "# Read the file content into a NumPy array, handling missing values\n",
        "data = np.genfromtxt(file_object, delimiter=',', filling_values=np.nan)\n",
        "\n",
        "# Display the result\n",
        "print(\"NumPy Array:\")\n",
        "print(data)\n",
        "\n",
        "\n"
      ],
      "id": "bde0538a"
    },
    {
      "cell_type": "markdown",
      "metadata": {
        "id": "c6b32834"
      },
      "source": [
        "#### 55. What is the equivalent of enumerate for numpy arrays? (★★☆)"
      ],
      "id": "c6b32834"
    },
    {
      "cell_type": "code",
      "execution_count": null,
      "metadata": {
        "id": "ab02472a",
        "colab": {
          "base_uri": "https://localhost:8080/"
        },
        "outputId": "a9c8ac32-5330-4998-b4f2-610a9fb26a91"
      },
      "outputs": [
        {
          "output_type": "stream",
          "name": "stdout",
          "text": [
            "Index (0, 0): Value 1\n",
            "Index (0, 1): Value 2\n",
            "Index (0, 2): Value 3\n",
            "Index (1, 0): Value 4\n",
            "Index (1, 1): Value 5\n",
            "Index (1, 2): Value 6\n",
            "Index (2, 0): Value 7\n",
            "Index (2, 1): Value 8\n",
            "Index (2, 2): Value 9\n"
          ]
        }
      ],
      "source": [
        "import numpy as np\n",
        "\n",
        "# Create a 2D NumPy array\n",
        "arr = np.array([[1, 2, 3], [4, 5, 6], [7, 8, 9]])\n",
        "\n",
        "# Use numpy.ndenumerate to iterate over indices and values\n",
        "for index, value in np.ndenumerate(arr):\n",
        "    print(f\"Index {index}: Value {value}\")\n"
      ],
      "id": "ab02472a"
    },
    {
      "cell_type": "markdown",
      "metadata": {
        "id": "a2121a05"
      },
      "source": [
        "#### 56. Generate a generic 2D Gaussian-like array (★★☆)"
      ],
      "id": "a2121a05"
    },
    {
      "cell_type": "code",
      "execution_count": null,
      "metadata": {
        "id": "18507102",
        "colab": {
          "base_uri": "https://localhost:8080/",
          "height": 452
        },
        "outputId": "af0e7b40-0351-4c8f-e91b-bbf71b76bbba"
      },
      "outputs": [
        {
          "output_type": "display_data",
          "data": {
            "text/plain": [
              "<Figure size 640x480 with 2 Axes>"
            ],
            "image/png": "[encoded data removed]"
          },
          "metadata": {}
        }
      ],
      "source": [
        "import numpy as np\n",
        "import matplotlib.pyplot as plt\n",
        "\n",
        "def gaussian_2d(shape, center, sigma):\n",
        "    x, y = np.meshgrid(np.arange(shape[1]), np.arange(shape[0]))\n",
        "    x_center, y_center = center\n",
        "    return np.exp(-((x - x_center)**2 + (y - y_center)**2) / (2 * sigma**2))\n",
        "\n",
        "# Define the parameters\n",
        "shape = (100, 100)  # shape of the array\n",
        "center = (50, 50)   # center of the Gaussian\n",
        "sigma = 10          # standard deviation\n",
        "\n",
        "# Generate the Gaussian-like array\n",
        "gaussian_array = gaussian_2d(shape, center, sigma)\n",
        "\n",
        "# Display the result using matplotlib\n",
        "plt.imshow(gaussian_array, cmap='viridis', interpolation='nearest')\n",
        "plt.title('2D Gaussian-like Array')\n",
        "plt.colorbar()\n",
        "plt.show()\n"
      ],
      "id": "18507102"
    },
    {
      "cell_type": "markdown",
      "metadata": {
        "id": "97055efa"
      },
      "source": [
        "#### 57. How to randomly place p elements in a 2D array? (★★☆)"
      ],
      "id": "97055efa"
    },
    {
      "cell_type": "code",
      "execution_count": null,
      "metadata": {
        "id": "292e842f",
        "colab": {
          "base_uri": "https://localhost:8080/"
        },
        "outputId": "0e890c54-317b-48ef-80aa-65fe1381522e"
      },
      "outputs": [
        {
          "output_type": "stream",
          "name": "stdout",
          "text": [
            "Original Array:\n",
            "[[0. 0. 0. 0. 0.]\n",
            " [0. 0. 0. 0. 0.]\n",
            " [0. 0. 0. 0. 0.]\n",
            " [0. 0. 0. 0. 0.]\n",
            " [0. 0. 0. 0. 0.]]\n",
            "\n",
            "Array with Randomly Placed Elements:\n",
            "[[0.         0.         0.9353018  0.         0.72919491]\n",
            " [0.         0.         0.         0.         0.        ]\n",
            " [0.         0.         0.78902086 0.         0.        ]\n",
            " [0.         0.         0.21707475 0.         0.        ]\n",
            " [0.         0.         0.93170528 0.         0.        ]]\n"
          ]
        }
      ],
      "source": [
        "import numpy as np\n",
        "\n",
        "def randomly_place_elements(array, p):\n",
        "    # Flatten the array to simplify indexing\n",
        "    flat_array = array.flatten()\n",
        "\n",
        "    # Get the total number of elements in the array\n",
        "    total_elements = flat_array.size\n",
        "\n",
        "    # Randomly choose p unique indices\n",
        "    random_indices = np.random.choice(total_elements, p, replace=False)\n",
        "\n",
        "    # Assign random values to the chosen indices\n",
        "    flat_array[random_indices] = np.random.rand(p)  # You can replace np.random.rand(p) with your desired values\n",
        "\n",
        "    # Reshape the modified flat array back to the original shape\n",
        "    modified_array = flat_array.reshape(array.shape)\n",
        "\n",
        "    return modified_array\n",
        "\n",
        "# Example usage\n",
        "shape = (5, 5)  # Example shape of the 2D array\n",
        "p = 5  # Number of elements to randomly place\n",
        "\n",
        "# Create a 2D array with zeros\n",
        "original_array = np.zeros(shape)\n",
        "\n",
        "# Randomly place p elements in the array\n",
        "result_array = randomly_place_elements(original_array, p)\n",
        "\n",
        "print(\"Original Array:\")\n",
        "print(original_array)\n",
        "\n",
        "print(\"\\nArray with Randomly Placed Elements:\")\n",
        "print(result_array)\n"
      ],
      "id": "292e842f"
    },
    {
      "cell_type": "markdown",
      "metadata": {
        "id": "bfd2513c"
      },
      "source": [
        "#### 58. Subtract the mean of each row of a matrix (★★☆)"
      ],
      "id": "bfd2513c"
    },
    {
      "cell_type": "code",
      "execution_count": null,
      "metadata": {
        "id": "f306ab72",
        "colab": {
          "base_uri": "https://localhost:8080/"
        },
        "outputId": "9038231e-c76e-4002-e399-8d52b00b993d"
      },
      "outputs": [
        {
          "output_type": "stream",
          "name": "stdout",
          "text": [
            "Original Matrix:\n",
            "[[0.52709806 0.38183704 0.63127731 0.18783894]\n",
            " [0.61421811 0.03439713 0.90703495 0.78047595]\n",
            " [0.39445094 0.28094667 0.37754545 0.36802888]]\n",
            "\n",
            "Matrix with Mean Subtracted from Each Row:\n",
            "[[ 0.09508522 -0.05017579  0.19926447 -0.2441739 ]\n",
            " [ 0.03018658 -0.5496344   0.32300341  0.19644441]\n",
            " [ 0.03920795 -0.07429632  0.02230247  0.0127859 ]]\n"
          ]
        }
      ],
      "source": [
        "import numpy as np\n",
        "\n",
        "# Create a random matrix (replace this with your actual matrix)\n",
        "matrix = np.random.rand(3, 4)\n",
        "\n",
        "# Subtract the mean of each row\n",
        "mean_subtracted_matrix = matrix - np.mean(matrix, axis=1, keepdims=True)\n",
        "\n",
        "print(\"Original Matrix:\")\n",
        "print(matrix)\n",
        "print(\"\\nMatrix with Mean Subtracted from Each Row:\")\n",
        "print(mean_subtracted_matrix)\n"
      ],
      "id": "f306ab72"
    },
    {
      "cell_type": "markdown",
      "metadata": {
        "id": "da9f2f9b"
      },
      "source": [
        "#### 59. How to sort an array by the nth column? (★★☆)"
      ],
      "id": "da9f2f9b"
    },
    {
      "cell_type": "code",
      "execution_count": null,
      "metadata": {
        "id": "68cde57f",
        "colab": {
          "base_uri": "https://localhost:8080/"
        },
        "outputId": "81fe3725-1466-4c07-a94f-c93b85aff51d"
      },
      "outputs": [
        {
          "output_type": "stream",
          "name": "stdout",
          "text": [
            "Original Array:\n",
            "[[6 9 3]\n",
            " [7 9 3]\n",
            " [0 9 6]\n",
            " [2 9 0]\n",
            " [4 5 2]]\n",
            "\n",
            "Sorted Array by the nth Column:\n",
            "[[4 5 2]\n",
            " [6 9 3]\n",
            " [7 9 3]\n",
            " [0 9 6]\n",
            " [2 9 0]]\n"
          ]
        }
      ],
      "source": [
        "import numpy as np\n",
        "\n",
        "# Create a random 2D array (replace this with your actual array)\n",
        "array = np.random.randint(0, 10, size=(5, 3))\n",
        "\n",
        "# Specify the column index to sort by (n)\n",
        "n = 1\n",
        "\n",
        "# Get the indices that would sort the array by the nth column\n",
        "sorted_indices = np.argsort(array[:, n])\n",
        "\n",
        "# Use the sorted indices to reorder the array\n",
        "sorted_array = array[sorted_indices]\n",
        "\n",
        "print(\"Original Array:\")\n",
        "print(array)\n",
        "print(\"\\nSorted Array by the nth Column:\")\n",
        "print(sorted_array)\n"
      ],
      "id": "68cde57f"
    },
    {
      "cell_type": "markdown",
      "metadata": {
        "id": "5b7be45c"
      },
      "source": [
        "#### 60. How to tell if a given 2D array has null columns? (★★☆)"
      ],
      "id": "5b7be45c"
    },
    {
      "cell_type": "code",
      "execution_count": null,
      "metadata": {
        "id": "7dbe2c27",
        "colab": {
          "base_uri": "https://localhost:8080/"
        },
        "outputId": "3bfd061c-0fe3-48db-8d52-928a03f73815"
      },
      "outputs": [
        {
          "output_type": "stream",
          "name": "stdout",
          "text": [
            "The array has null columns.\n",
            "Null Columns:\n",
            "[1 2]\n"
          ]
        }
      ],
      "source": [
        "import numpy as np\n",
        "\n",
        "# Create a sample 2D array with some null columns\n",
        "array_with_nulls = np.array([\n",
        "    [1, 2, np.nan, 4],\n",
        "    [5, None, 7, 8],\n",
        "    [9, 10, np.nan, 12]\n",
        "], dtype=float)\n",
        "\n",
        "# Check if any column has null values\n",
        "null_columns = np.any(np.isnan(array_with_nulls), axis=0)\n",
        "\n",
        "# Print the result\n",
        "if np.any(null_columns):\n",
        "    print(\"The array has null columns.\")\n",
        "    print(\"Null Columns:\")\n",
        "    print(np.where(null_columns)[0])\n",
        "else:\n",
        "    print(\"The array does not have null columns.\")\n"
      ],
      "id": "7dbe2c27"
    },
    {
      "cell_type": "markdown",
      "metadata": {
        "id": "7c18c02e"
      },
      "source": [
        "#### 61. Find the nearest value from a given value in an array (★★☆)"
      ],
      "id": "7c18c02e"
    },
    {
      "cell_type": "code",
      "execution_count": null,
      "metadata": {
        "id": "b78ae9c4",
        "colab": {
          "base_uri": "https://localhost:8080/"
        },
        "outputId": "d889774d-1668-41b1-af2f-2c52912162da"
      },
      "outputs": [
        {
          "output_type": "stream",
          "name": "stdout",
          "text": [
            "Array: [1.2 2.5 3.8 4.2 5.1]\n",
            "Given Value: 3.0\n",
            "Nearest Value: 2.5 at index 1\n"
          ]
        }
      ],
      "source": [
        "import numpy as np\n",
        "\n",
        "# Create a NumPy array\n",
        "array = np.array([1.2, 2.5, 3.8, 4.2, 5.1])\n",
        "\n",
        "# Given value\n",
        "given_value = 3.0\n",
        "\n",
        "# Find the index of the nearest value\n",
        "index_nearest = np.argmin(np.abs(array - given_value))\n",
        "\n",
        "# Get the nearest value\n",
        "nearest_value = array[index_nearest]\n",
        "\n",
        "print(f\"Array: {array}\")\n",
        "print(f\"Given Value: {given_value}\")\n",
        "print(f\"Nearest Value: {nearest_value} at index {index_nearest}\")\n"
      ],
      "id": "b78ae9c4"
    },
    {
      "cell_type": "markdown",
      "metadata": {
        "id": "8174ba2c"
      },
      "source": [
        "#### 62. Considering two arrays with shape (1,3) and (3,1), how to compute their sum using an iterator? (★★☆)"
      ],
      "id": "8174ba2c"
    },
    {
      "cell_type": "code",
      "execution_count": null,
      "metadata": {
        "id": "8a18fe57",
        "colab": {
          "base_uri": "https://localhost:8080/",
          "height": 245
        },
        "outputId": "7a258239-c08c-4cfb-bef6-c8818f4bfc00"
      },
      "outputs": [
        {
          "output_type": "error",
          "ename": "ValueError",
          "evalue": "ignored",
          "traceback": [
            "\u001b[0;31m---------------------------------------------------------------------------\u001b[0m",
            "\u001b[0;31mValueError\u001b[0m                                Traceback (most recent call last)",
            "\u001b[0;32m<ipython-input-36-39094bf5a443>\u001b[0m in \u001b[0;36m<cell line: 15>\u001b[0;34m()\u001b[0m\n\u001b[1;32m     15\u001b[0m \u001b[0;32mfor\u001b[0m \u001b[0mval1\u001b[0m \u001b[0;32min\u001b[0m \u001b[0miter1\u001b[0m\u001b[0;34m:\u001b[0m\u001b[0;34m\u001b[0m\u001b[0;34m\u001b[0m\u001b[0m\n\u001b[1;32m     16\u001b[0m     \u001b[0;32mfor\u001b[0m \u001b[0mval2\u001b[0m \u001b[0;32min\u001b[0m \u001b[0miter2\u001b[0m\u001b[0;34m:\u001b[0m\u001b[0;34m\u001b[0m\u001b[0;34m\u001b[0m\u001b[0m\n\u001b[0;32m---> 17\u001b[0;31m         \u001b[0mresult\u001b[0m\u001b[0;34m[\u001b[0m\u001b[0miter1\u001b[0m\u001b[0;34m.\u001b[0m\u001b[0mmulti_index\u001b[0m\u001b[0;34m]\u001b[0m \u001b[0;34m=\u001b[0m \u001b[0mval1\u001b[0m \u001b[0;34m+\u001b[0m \u001b[0mval2\u001b[0m\u001b[0;34m\u001b[0m\u001b[0;34m\u001b[0m\u001b[0m\n\u001b[0m\u001b[1;32m     18\u001b[0m \u001b[0;34m\u001b[0m\u001b[0m\n\u001b[1;32m     19\u001b[0m \u001b[0;34m\u001b[0m\u001b[0m\n",
            "\u001b[0;31mValueError\u001b[0m: Iterator is not tracking a multi-index"
          ]
        }
      ],
      "source": [
        "import numpy as np\n",
        "\n",
        "# Create two arrays with shapes (1, 3) and (3, 1)\n",
        "array1 = np.array([[1, 2, 3]])\n",
        "array2 = np.array([[4], [5], [6]])\n",
        "\n",
        "# Create iterators for each array\n",
        "iter1 = np.nditer(array1)\n",
        "iter2 = np.nditer(array2)\n",
        "\n",
        "# Initialize variables to store the sum\n",
        "result = np.zeros_like(array1)\n",
        "\n",
        "# Iterate over the arrays and compute the sum\n",
        "for val1 in iter1:\n",
        "    for val2 in iter2:\n",
        "        result[iter1.multi_index] = val1 + val2\n",
        "\n",
        "\n",
        "print(\"Array 1:\")\n",
        "print(array1)\n",
        "print(\"\\nArray 2:\")\n",
        "print(array2)\n",
        "print(\"\\nSum using Iterator:\")\n",
        "print(result)\n",
        "\n"
      ],
      "id": "8a18fe57"
    },
    {
      "cell_type": "markdown",
      "metadata": {
        "id": "9189bd7c"
      },
      "source": [
        "#### 63. Create an array class that has a name attribute (★★☆)"
      ],
      "id": "9189bd7c"
    },
    {
      "cell_type": "code",
      "execution_count": null,
      "metadata": {
        "id": "1c01ed42",
        "colab": {
          "base_uri": "https://localhost:8080/"
        },
        "outputId": "e95f6063-1451-40d2-a869-fafda5c105ac"
      },
      "outputs": [
        {
          "output_type": "stream",
          "name": "stdout",
          "text": [
            "Name: ExampleArray\n",
            "Array:\n",
            "[[1 2 3]\n",
            " [4 5 6]]\n",
            "\n",
            "Representation:\n",
            "NamedArray(name=ExampleArray, array=[[1 2 3]\n",
            " [4 5 6]])\n"
          ]
        }
      ],
      "source": [
        "import numpy as np\n",
        "\n",
        "class NamedArray:\n",
        "    def __init__(self, name, array):\n",
        "        self.name = name\n",
        "        self.array = np.array(array)\n",
        "\n",
        "    def __repr__(self):\n",
        "        return f\"NamedArray(name={self.name}, array={self.array})\"\n",
        "\n",
        "# Example usage\n",
        "data = [[1, 2, 3], [4, 5, 6]]\n",
        "named_array = NamedArray(\"ExampleArray\", data)\n",
        "\n",
        "# Accessing name and array attributes\n",
        "print(\"Name:\", named_array.name)\n",
        "print(\"Array:\")\n",
        "print(named_array.array)\n",
        "\n",
        "# Using the __repr__ method for a clear representation\n",
        "print(\"\\nRepresentation:\")\n",
        "print(named_array)\n"
      ],
      "id": "1c01ed42"
    },
    {
      "cell_type": "markdown",
      "metadata": {
        "id": "f30162d2"
      },
      "source": [
        "#### 64. Consider a given vector, how to add 1 to each element indexed by a second vector (be careful with repeated indices)? (★★★)"
      ],
      "id": "f30162d2"
    },
    {
      "cell_type": "code",
      "execution_count": null,
      "metadata": {
        "id": "093ba36f",
        "colab": {
          "base_uri": "https://localhost:8080/"
        },
        "outputId": "eea59452-3b1e-4db0-a595-c485758f39f2"
      },
      "outputs": [
        {
          "output_type": "stream",
          "name": "stdout",
          "text": [
            "Original Vector:\n",
            "[2 4 4 5 6]\n"
          ]
        }
      ],
      "source": [
        "import numpy as np\n",
        "\n",
        "# Given vector\n",
        "vector = np.array([1, 2, 3, 4, 5])\n",
        "\n",
        "# Second vector with indices to add 1\n",
        "indices_to_add_1 = np.array([1, 3, 1, 4, 0, 2])\n",
        "\n",
        "# Add 1 to elements at specified indices\n",
        "np.add.at(vector, indices_to_add_1, 1)\n",
        "\n",
        "print(\"Original Vector:\")\n",
        "print(vector)\n"
      ],
      "id": "093ba36f"
    },
    {
      "cell_type": "markdown",
      "metadata": {
        "id": "f5b1c584"
      },
      "source": [
        "#### 65. How to accumulate elements of a vector (X) to an array (F) based on an index list (I)? (★★★)"
      ],
      "id": "f5b1c584"
    },
    {
      "cell_type": "code",
      "execution_count": null,
      "metadata": {
        "id": "c9d92a75",
        "colab": {
          "base_uri": "https://localhost:8080/",
          "height": 245
        },
        "outputId": "46be6678-8733-41a2-a112-1adf8cd3ae04"
      },
      "outputs": [
        {
          "output_type": "error",
          "ename": "ValueError",
          "evalue": "ignored",
          "traceback": [
            "\u001b[0;31m---------------------------------------------------------------------------\u001b[0m",
            "\u001b[0;31mValueError\u001b[0m                                Traceback (most recent call last)",
            "\u001b[0;32m<ipython-input-41-9600e7effc6a>\u001b[0m in \u001b[0;36m<cell line: 13>\u001b[0;34m()\u001b[0m\n\u001b[1;32m     11\u001b[0m \u001b[0;34m\u001b[0m\u001b[0m\n\u001b[1;32m     12\u001b[0m \u001b[0;31m# Accumulate elements of X into F based on index list I\u001b[0m\u001b[0;34m\u001b[0m\u001b[0;34m\u001b[0m\u001b[0m\n\u001b[0;32m---> 13\u001b[0;31m \u001b[0mnp\u001b[0m\u001b[0;34m.\u001b[0m\u001b[0madd\u001b[0m\u001b[0;34m.\u001b[0m\u001b[0mat\u001b[0m\u001b[0;34m(\u001b[0m\u001b[0mF\u001b[0m\u001b[0;34m,\u001b[0m \u001b[0mI\u001b[0m\u001b[0;34m,\u001b[0m \u001b[0mX\u001b[0m\u001b[0;34m)\u001b[0m\u001b[0;34m\u001b[0m\u001b[0;34m\u001b[0m\u001b[0m\n\u001b[0m\u001b[1;32m     14\u001b[0m \u001b[0;34m\u001b[0m\u001b[0m\n\u001b[1;32m     15\u001b[0m \u001b[0mprint\u001b[0m\u001b[0;34m(\u001b[0m\u001b[0;34m\"Vector X:\"\u001b[0m\u001b[0;34m)\u001b[0m\u001b[0;34m\u001b[0m\u001b[0;34m\u001b[0m\u001b[0m\n",
            "\u001b[0;31mValueError\u001b[0m: array is not broadcastable to correct shape"
          ]
        }
      ],
      "source": [
        "import numpy as np\n",
        "\n",
        "# Given vector X\n",
        "X = np.array([1, 2, 3, 4, 5])\n",
        "\n",
        "# Given index list I\n",
        "I = np.array([1, 3, 1, 4, 0, 2])\n",
        "\n",
        "# Initialize the array F with zeros\n",
        "F = np.zeros(np.max(I) + 1, dtype=X.dtype)\n",
        "\n",
        "# Accumulate elements of X into F based on index list I\n",
        "np.add.at(F, I, X)\n",
        "\n",
        "print(\"Vector X:\")\n",
        "print(X)\n",
        "print(\"\\nIndex List I:\")\n",
        "print(I)\n",
        "print(\"\\nAccumulated Array F:\")\n",
        "print(F)\n"
      ],
      "id": "c9d92a75"
    },
    {
      "cell_type": "markdown",
      "metadata": {
        "id": "994c452d"
      },
      "source": [
        "#### 66. Considering a (w,h,3) image of (dtype=ubyte), compute the number of unique colors (★★☆)"
      ],
      "id": "994c452d"
    },
    {
      "cell_type": "code",
      "execution_count": null,
      "metadata": {
        "id": "269cdaea",
        "colab": {
          "base_uri": "https://localhost:8080/"
        },
        "outputId": "356d72c1-bb58-4d5f-bcb5-c3e3cfee8d49"
      },
      "outputs": [
        {
          "output_type": "stream",
          "name": "stdout",
          "text": [
            "Number of Unique Colors: 25\n"
          ]
        }
      ],
      "source": [
        "import numpy as np\n",
        "\n",
        "# Assuming img is your (w, h, 3) image of dtype ubyte\n",
        "img = np.random.randint(0, 256, size=(5, 5, 3), dtype=np.uint8)\n",
        "\n",
        "# Reshape the image to a 2D array\n",
        "reshaped_img = img.reshape(-1, 3)\n",
        "\n",
        "# Convert the 2D array to a tuple of tuples\n",
        "unique_colors = {tuple(color) for color in reshaped_img}\n",
        "\n",
        "# Get the number of unique colors\n",
        "num_unique_colors = len(unique_colors)\n",
        "\n",
        "print(f\"Number of Unique Colors: {num_unique_colors}\")\n"
      ],
      "id": "269cdaea"
    },
    {
      "cell_type": "markdown",
      "metadata": {
        "id": "4bddeb31"
      },
      "source": [
        "#### 67. Considering a four dimensions array, how to get sum over the last two axis at once? (★★★)"
      ],
      "id": "4bddeb31"
    },
    {
      "cell_type": "code",
      "execution_count": null,
      "metadata": {
        "id": "32af15f5",
        "colab": {
          "base_uri": "https://localhost:8080/"
        },
        "outputId": "1a4065e0-9633-4e8c-9ae0-cd7c916f3602"
      },
      "outputs": [
        {
          "output_type": "stream",
          "name": "stdout",
          "text": [
            "Original Array Shape: (3, 4, 5, 6)\n",
            "Sum over the Last Two Axes Shape: (3, 4)\n"
          ]
        }
      ],
      "source": [
        "import numpy as np\n",
        "\n",
        "# Create a four-dimensional array (replace this with your actual array)\n",
        "four_dim_array = np.random.rand(3, 4, 5, 6)\n",
        "\n",
        "# Get the sum over the last two axes\n",
        "sum_last_two_axes = np.sum(four_dim_array, axis=(-2, -1))\n",
        "\n",
        "print(\"Original Array Shape:\", four_dim_array.shape)\n",
        "print(\"Sum over the Last Two Axes Shape:\", sum_last_two_axes.shape)\n"
      ],
      "id": "32af15f5"
    },
    {
      "cell_type": "markdown",
      "metadata": {
        "id": "c4cf083c"
      },
      "source": [
        "#### 68. Considering a one-dimensional vector D, how to compute means of subsets of D using a vector S of same size describing subset  indices? (★★★)"
      ],
      "id": "c4cf083c"
    },
    {
      "cell_type": "code",
      "execution_count": null,
      "metadata": {
        "id": "9600a2dd",
        "colab": {
          "base_uri": "https://localhost:8080/"
        },
        "outputId": "8177198a-797e-463d-eb17-5c0811393107"
      },
      "outputs": [
        {
          "output_type": "stream",
          "name": "stdout",
          "text": [
            "Original Vector D: [ 1  2  3  4  5  6  7  8  9 10]\n",
            "Subset Indices S: [0 1 0 1 0 1 2 2 2 2]\n",
            "Subset Means: [3.0, 4.0, 8.5]\n"
          ]
        }
      ],
      "source": [
        "import numpy as np\n",
        "\n",
        "# Example data\n",
        "D = np.array([1, 2, 3, 4, 5, 6, 7, 8, 9, 10])\n",
        "S = np.array([0, 1, 0, 1, 0, 1, 2, 2, 2, 2])\n",
        "\n",
        "# Use numpy.unique to get unique subset indices\n",
        "unique_subset_indices = np.unique(S)\n",
        "\n",
        "# Compute means of subsets\n",
        "subset_means = [np.mean(D[S == idx]) for idx in unique_subset_indices]\n",
        "\n",
        "print(\"Original Vector D:\", D)\n",
        "print(\"Subset Indices S:\", S)\n",
        "print(\"Subset Means:\", subset_means)\n"
      ],
      "id": "9600a2dd"
    },
    {
      "cell_type": "markdown",
      "metadata": {
        "id": "a5e316db"
      },
      "source": [
        "#### 69. How to get the diagonal of a dot product? (★★★)"
      ],
      "id": "a5e316db"
    },
    {
      "cell_type": "code",
      "execution_count": null,
      "metadata": {
        "id": "94735dbd",
        "colab": {
          "base_uri": "https://localhost:8080/"
        },
        "outputId": "7f9d7117-2c27-4d7d-ffb2-2c9195dfeb09"
      },
      "outputs": [
        {
          "output_type": "stream",
          "name": "stdout",
          "text": [
            "Matrix A:\n",
            "[[1 2]\n",
            " [3 4]]\n",
            "\n",
            "Matrix B:\n",
            "[[5 6]\n",
            " [7 8]]\n",
            "\n",
            "Dot Product of A and B:\n",
            "[[19 22]\n",
            " [43 50]]\n",
            "\n",
            "Diagonal of the Dot Product:\n",
            "[19 50]\n"
          ]
        }
      ],
      "source": [
        "import numpy as np\n",
        "\n",
        "# Create two matrices A and B\n",
        "A = np.array([[1, 2], [3, 4]])\n",
        "B = np.array([[5, 6], [7, 8]])\n",
        "\n",
        "# Compute the dot product of A and B\n",
        "dot_product = np.dot(A, B)\n",
        "\n",
        "# Get the diagonal of the dot product\n",
        "diagonal_dot_product = np.diag(dot_product)\n",
        "\n",
        "print(\"Matrix A:\")\n",
        "print(A)\n",
        "print(\"\\nMatrix B:\")\n",
        "print(B)\n",
        "print(\"\\nDot Product of A and B:\")\n",
        "print(dot_product)\n",
        "print(\"\\nDiagonal of the Dot Product:\")\n",
        "print(diagonal_dot_product)\n"
      ],
      "id": "94735dbd"
    },
    {
      "cell_type": "markdown",
      "metadata": {
        "id": "de727a7b"
      },
      "source": [
        "#### 70. Consider the vector [1, 2, 3, 4, 5], how to build a new vector with 3 consecutive zeros interleaved between each value? (★★★)"
      ],
      "id": "de727a7b"
    },
    {
      "cell_type": "code",
      "execution_count": null,
      "metadata": {
        "id": "982be812",
        "colab": {
          "base_uri": "https://localhost:8080/"
        },
        "outputId": "287c809a-5de2-47e4-accd-bb7083b6a7a2"
      },
      "outputs": [
        {
          "output_type": "stream",
          "name": "stdout",
          "text": [
            "Original Vector:\n",
            "[1 2 3 4 5]\n",
            "\n",
            "New Vector with 3 Consecutive Zeros Interleaved:\n",
            "[1 2 3 4 5 0 0 0 0 0 1 2 3 4 5 0 0 0 0 0 1 2 3 4 5 0 0]\n"
          ]
        }
      ],
      "source": [
        "import numpy as np\n",
        "\n",
        "# Original vector\n",
        "original_vector = np.array([1, 2, 3, 4, 5])\n",
        "\n",
        "# Number of consecutive zeros\n",
        "consecutive_zeros = 3\n",
        "\n",
        "# Build a new vector with interleaved zeros\n",
        "new_vector = np.concatenate([original_vector, np.zeros_like(original_vector)] * consecutive_zeros)[: -consecutive_zeros]\n",
        "\n",
        "print(\"Original Vector:\")\n",
        "print(original_vector)\n",
        "print(\"\\nNew Vector with 3 Consecutive Zeros Interleaved:\")\n",
        "print(new_vector)\n"
      ],
      "id": "982be812"
    },
    {
      "cell_type": "markdown",
      "metadata": {
        "id": "a9a73d6b"
      },
      "source": [
        "#### 71. Consider an array of dimension (5,5,3), how to mulitply it by an array with dimensions (5,5)? (★★★)"
      ],
      "id": "a9a73d6b"
    },
    {
      "cell_type": "code",
      "execution_count": null,
      "metadata": {
        "id": "282a90cc",
        "colab": {
          "base_uri": "https://localhost:8080/"
        },
        "outputId": "82df3263-5da4-4983-9680-b3f5e4a12fe1"
      },
      "outputs": [
        {
          "output_type": "stream",
          "name": "stdout",
          "text": [
            "3D Array:\n",
            "[[[0.21815623 0.49463928 0.53012925]\n",
            "  [0.89258778 0.40323783 0.18404375]\n",
            "  [0.04785411 0.42185077 0.14179789]\n",
            "  [0.67495936 0.20797337 0.52284959]\n",
            "  [0.25531628 0.61780635 0.08072404]]\n",
            "\n",
            " [[0.34073273 0.64942303 0.02316798]\n",
            "  [0.63462377 0.07915801 0.95078756]\n",
            "  [0.91789441 0.62311173 0.54625123]\n",
            "  [0.47529216 0.42895785 0.43113077]\n",
            "  [0.44412789 0.43357381 0.01191465]]\n",
            "\n",
            " [[0.71269523 0.81975918 0.89053009]\n",
            "  [0.36970737 0.90345005 0.84183703]\n",
            "  [0.651066   0.48172744 0.35271053]\n",
            "  [0.88499502 0.08251708 0.02618543]\n",
            "  [0.86665133 0.49296787 0.85889766]]\n",
            "\n",
            " [[0.01999276 0.89345735 0.60880305]\n",
            "  [0.70802744 0.25575297 0.18124126]\n",
            "  [0.11088252 0.03303776 0.33411283]\n",
            "  [0.62494698 0.87118696 0.72884501]\n",
            "  [0.74680238 0.01893965 0.04515432]]\n",
            "\n",
            " [[0.30322651 0.77749584 0.41522998]\n",
            "  [0.73158541 0.20589814 0.6781972 ]\n",
            "  [0.1563596  0.43377749 0.45850086]\n",
            "  [0.17348665 0.94530965 0.77903239]\n",
            "  [0.96951272 0.2448869  0.66349799]]]\n",
            "\n",
            "2D Array:\n",
            "[[0.45929369 0.41512827 0.10461748 0.64297963 0.26702124]\n",
            " [0.33557702 0.53750603 0.91002381 0.8482466  0.41435572]\n",
            " [0.48882628 0.1371719  0.55164803 0.8049411  0.9686574 ]\n",
            " [0.90592403 0.02632702 0.94918298 0.77631394 0.37058106]\n",
            " [0.4329275  0.63645041 0.86423863 0.08248617 0.15005237]]\n",
            "\n",
            "Result after Multiplication:\n",
            "[[[0.10019778 0.2271847  0.24348502]\n",
            "  [0.37053842 0.16739542 0.07640176]\n",
            "  [0.00500638 0.04413296 0.01483454]\n",
            "  [0.43398512 0.13372264 0.33618163]\n",
            "  [0.06817487 0.16496742 0.02155503]]\n",
            "\n",
            " [[0.11434207 0.21793145 0.00777464]\n",
            "  [0.3411141  0.04254791 0.51105405]\n",
            "  [0.83530577 0.5670465  0.49710162]\n",
            "  [0.40316496 0.36386203 0.36570521]\n",
            "  [0.18402693 0.17965379 0.0049369 ]]\n",
            "\n",
            " [[0.34838416 0.40071983 0.43531451]\n",
            "  [0.05071346 0.12392796 0.11547639]\n",
            "  [0.35915928 0.26574399 0.19457207]\n",
            "  [0.71236886 0.06642139 0.02107773]\n",
            "  [0.83948822 0.47751697 0.83197758]]\n",
            "\n",
            " [[0.01811192 0.80940448 0.55152931]\n",
            "  [0.01864025 0.00673321 0.00477154]\n",
            "  [0.1052478  0.03135888 0.31713421]\n",
            "  [0.48515505 0.67631459 0.56581255]\n",
            "  [0.27675082 0.00701868 0.01673334]]\n",
            "\n",
            " [[0.13127509 0.33659933 0.17976448]\n",
            "  [0.46561783 0.13104396 0.43163889]\n",
            "  [0.135132   0.37488726 0.39625415]\n",
            "  [0.01431025 0.07797497 0.0642594 ]\n",
            "  [0.14547768 0.03674586 0.09955945]]]\n"
          ]
        }
      ],
      "source": [
        "import numpy as np\n",
        "\n",
        "# Create a three-dimensional array with dimensions (5, 5, 3)\n",
        "array_3d = np.random.rand(5, 5, 3)\n",
        "\n",
        "# Create a two-dimensional array with dimensions (5, 5)\n",
        "array_2d = np.random.rand(5, 5)\n",
        "\n",
        "# Multiply the two arrays using broadcasting\n",
        "result = array_3d * array_2d[:,:,np.newaxis]\n",
        "\n",
        "print(\"3D Array:\")\n",
        "print(array_3d)\n",
        "print(\"\\n2D Array:\")\n",
        "print(array_2d)\n",
        "print(\"\\nResult after Multiplication:\")\n",
        "print(result)\n"
      ],
      "id": "282a90cc"
    },
    {
      "cell_type": "markdown",
      "metadata": {
        "id": "a951c78f"
      },
      "source": [
        "#### 72. How to swap two rows of an array? (★★★)"
      ],
      "id": "a951c78f"
    },
    {
      "cell_type": "code",
      "execution_count": null,
      "metadata": {
        "id": "e29b3fde",
        "colab": {
          "base_uri": "https://localhost:8080/"
        },
        "outputId": "f4a6c57c-e909-40d9-be6c-5e9eaa1e3940"
      },
      "outputs": [
        {
          "output_type": "stream",
          "name": "stdout",
          "text": [
            "Array after swapping rows 0 and 1:\n",
            "[[4 5 6]\n",
            " [1 2 3]\n",
            " [7 8 9]]\n"
          ]
        }
      ],
      "source": [
        "import numpy as np\n",
        "\n",
        "# Create a sample 2D array\n",
        "array = np.array([[1, 2, 3],\n",
        "                  [4, 5, 6],\n",
        "                  [7, 8, 9]])\n",
        "\n",
        "# Swap rows 0 and 1\n",
        "array[[0, 1]] = array[[1, 0]]\n",
        "\n",
        "print(\"Array after swapping rows 0 and 1:\")\n",
        "print(array)\n"
      ],
      "id": "e29b3fde"
    },
    {
      "cell_type": "markdown",
      "metadata": {
        "id": "43b639e8"
      },
      "source": [
        "#### 73. Consider a set of 10 triplets describing 10 triangles (with shared vertices), find the set of unique line segments composing all the  triangles (★★★)"
      ],
      "id": "43b639e8"
    },
    {
      "cell_type": "code",
      "execution_count": null,
      "metadata": {
        "id": "147e1034",
        "colab": {
          "base_uri": "https://localhost:8080/"
        },
        "outputId": "054db099-0aa4-4937-b335-404c68858bb8"
      },
      "outputs": [
        {
          "output_type": "stream",
          "name": "stdout",
          "text": [
            "Unique Line Segments:\n",
            "[[1 0]\n",
            " [0 1]\n",
            " [1 1]\n",
            " [0 0]]\n"
          ]
        }
      ],
      "source": [
        "import numpy as np\n",
        "\n",
        "# Assume triplets describing 10 triangles with shared vertices\n",
        "triangles = np.array([\n",
        "    [(0, 0), (1, 0), (0, 1)],\n",
        "    [(1, 0), (1, 1), (0, 1)],\n",
        "    # ... add more triangles here\n",
        "])\n",
        "\n",
        "# Reshape the array to (number of triangles * 3, 2)\n",
        "flat_triangles = triangles.reshape(-1, 2)\n",
        "\n",
        "# Convert the array to a set of tuples to remove duplicates\n",
        "unique_segments_set = {tuple(segment) for segment in flat_triangles}\n",
        "\n",
        "# Convert the set back to a NumPy array\n",
        "unique_segments = np.array(list(unique_segments_set))\n",
        "\n",
        "print(\"Unique Line Segments:\")\n",
        "print(unique_segments)\n"
      ],
      "id": "147e1034"
    },
    {
      "cell_type": "markdown",
      "metadata": {
        "id": "d41de585"
      },
      "source": [
        "#### 74. Given a sorted array C that corresponds to a bincount, how to produce an array A such that np.bincount(A) == C? (★★★)"
      ],
      "id": "d41de585"
    },
    {
      "cell_type": "code",
      "execution_count": null,
      "metadata": {
        "id": "5f5d6e36",
        "colab": {
          "base_uri": "https://localhost:8080/"
        },
        "outputId": "57ea7525-7c01-4ccb-fbbe-6134b1f7cec1"
      },
      "outputs": [
        {
          "output_type": "stream",
          "name": "stdout",
          "text": [
            "Array A:\n",
            "[1 2 2 4 4 4 5 7]\n",
            "Result of np.bincount(A): [0 1 2 0 3 1 0 1]\n",
            "Original array C: [0 1 2 0 3 1 0 1]\n",
            "Are the bincounts equal? True\n"
          ]
        }
      ],
      "source": [
        "import numpy as np\n",
        "\n",
        "# Example sorted array C corresponding to bincount\n",
        "C = np.array([0, 1, 2, 0, 3, 1, 0, 1])\n",
        "\n",
        "# Produce array A such that np.bincount(A) == C\n",
        "A = np.repeat(np.arange(len(C)), C)\n",
        "\n",
        "print(\"Array A:\")\n",
        "print(A)\n",
        "print(\"Result of np.bincount(A):\", np.bincount(A))\n",
        "print(\"Original array C:\", C)\n",
        "print(\"Are the bincounts equal?\", np.array_equal(np.bincount(A), C))\n"
      ],
      "id": "5f5d6e36"
    },
    {
      "cell_type": "markdown",
      "metadata": {
        "id": "b50adf7c"
      },
      "source": [
        "#### 75. How to compute averages using a sliding window over an array? (★★★)"
      ],
      "id": "b50adf7c"
    },
    {
      "cell_type": "code",
      "execution_count": null,
      "metadata": {
        "id": "e631a9d2",
        "colab": {
          "base_uri": "https://localhost:8080/"
        },
        "outputId": "bdd9e4a3-57d6-435e-f8e6-4519d4844a3b"
      },
      "outputs": [
        {
          "output_type": "stream",
          "name": "stdout",
          "text": [
            "Original Array: [ 1  2  3  4  5  6  7  8  9 10]\n",
            "Sliding Window Averages (window size = 3): [2. 3. 4. 5. 6. 7. 8. 9.]\n"
          ]
        }
      ],
      "source": [
        "import numpy as np\n",
        "\n",
        "def sliding_window_average(arr, window_size):\n",
        "    # Create a 1D convolution kernel for averaging\n",
        "    kernel = np.ones(window_size) / window_size\n",
        "\n",
        "    # Use convolution to compute the sliding window average\n",
        "    result = np.convolve(arr, kernel, mode='valid')\n",
        "\n",
        "    return result\n",
        "\n",
        "# Example array\n",
        "array = np.array([1, 2, 3, 4, 5, 6, 7, 8, 9, 10])\n",
        "\n",
        "# Set the window size\n",
        "window_size = 3\n",
        "\n",
        "# Compute sliding window averages\n",
        "averages = sliding_window_average(array, window_size)\n",
        "\n",
        "print(\"Original Array:\", array)\n",
        "print(f\"Sliding Window Averages (window size = {window_size}):\", averages)\n"
      ],
      "id": "e631a9d2"
    },
    {
      "cell_type": "markdown",
      "metadata": {
        "id": "1ab4c50d"
      },
      "source": [
        "#### 76. Consider a one-dimensional array Z, build a two-dimensional array whose first row is (Z[0],Z[1],Z[2]) and each subsequent row is  shifted by 1 (last row should be (Z[-3],Z[-2],Z[-1]) (★★★)"
      ],
      "id": "1ab4c50d"
    },
    {
      "cell_type": "code",
      "execution_count": null,
      "metadata": {
        "id": "3ccfe2c0",
        "colab": {
          "base_uri": "https://localhost:8080/"
        },
        "outputId": "9a97c54b-d163-43bc-ee97-2ec882a9c508"
      },
      "outputs": [
        {
          "output_type": "stream",
          "name": "stdout",
          "text": [
            "Original Array Z: [1 2 3 4 5 6 7 8 9]\n",
            "Resulting Two-dimensional Array:\n",
            "[[1 2 3 4 5 6 7]\n",
            " [2 3 4 5 6 7 8]\n",
            " [3 4 5 6 7 8 9]]\n"
          ]
        }
      ],
      "source": [
        "import numpy as np\n",
        "\n",
        "# Example one-dimensional array Z\n",
        "Z = np.array([1, 2, 3, 4, 5, 6, 7, 8, 9])\n",
        "\n",
        "# Build a two-dimensional array as described\n",
        "result = np.column_stack([Z[i:i+3] for i in range(len(Z)-2)])\n",
        "\n",
        "print(\"Original Array Z:\", Z)\n",
        "print(\"Resulting Two-dimensional Array:\")\n",
        "print(result)\n"
      ],
      "id": "3ccfe2c0"
    },
    {
      "cell_type": "markdown",
      "metadata": {
        "id": "5b4fe59d"
      },
      "source": [
        "#### 77. How to negate a boolean, or to change the sign of a float inplace? (★★★)"
      ],
      "id": "5b4fe59d"
    },
    {
      "cell_type": "code",
      "execution_count": null,
      "metadata": {
        "id": "3c2373ff",
        "colab": {
          "base_uri": "https://localhost:8080/"
        },
        "outputId": "7ca9feec-60ae-4a0c-9dd1-6befa1cf56cb"
      },
      "outputs": [
        {
          "output_type": "stream",
          "name": "stdout",
          "text": [
            "Negated Boolean: False\n",
            "Float with Changed Sign: -3.14\n"
          ]
        }
      ],
      "source": [
        "# Example boolean variable\n",
        "boolean_var = True\n",
        "\n",
        "# Negate the boolean in-place\n",
        "boolean_var ^= True\n",
        "\n",
        "print(\"Negated Boolean:\", boolean_var)\n",
        "\n",
        "# Example float variable\n",
        "float_var = 3.14\n",
        "\n",
        "# Change the sign of the float in-place\n",
        "float_var = -float_var\n",
        "\n",
        "print(\"Float with Changed Sign:\", float_var)\n",
        "\n"
      ],
      "id": "3c2373ff"
    },
    {
      "cell_type": "markdown",
      "metadata": {
        "id": "119ab5af"
      },
      "source": [
        "#### 78. Consider 2 sets of points P0,P1 describing lines (2d) and a point p, how to compute distance from p to each line i (P0[i],P1[i])? (★★★)"
      ],
      "id": "119ab5af"
    },
    {
      "cell_type": "code",
      "execution_count": null,
      "metadata": {
        "id": "1d8d06dc",
        "colab": {
          "base_uri": "https://localhost:8080/"
        },
        "outputId": "29a166c0-f941-4e2c-c773-4d364418bc2a"
      },
      "outputs": [
        {
          "output_type": "stream",
          "name": "stdout",
          "text": [
            "Distance from (2, 3) to line ((1, 1), (4, 5)): 0.4\n"
          ]
        }
      ],
      "source": [
        "import numpy as np\n",
        "\n",
        "def distance_to_line(p, P0, P1):\n",
        "    x0, y0 = p\n",
        "    x1, y1 = P0\n",
        "    x2, y2 = P1\n",
        "\n",
        "    numerator = np.abs((y2 - y1) * x0 - (x2 - x1) * y0 + x2 * y1 - y2 * x1)\n",
        "    denominator = np.sqrt((y2 - y1)**2 + (x2 - x1)**2)\n",
        "\n",
        "    distance = numerator / denominator\n",
        "    return distance\n",
        "\n",
        "# Example points\n",
        "p = (2, 3)\n",
        "P0 = (1, 1)\n",
        "P1 = (4, 5)\n",
        "\n",
        "# Compute the distance from p to the line defined by P0 and P1\n",
        "distance = distance_to_line(p, P0, P1)\n",
        "\n",
        "print(f\"Distance from {p} to line ({P0}, {P1}): {distance}\")\n"
      ],
      "id": "1d8d06dc"
    },
    {
      "cell_type": "markdown",
      "metadata": {
        "id": "e5e7f323"
      },
      "source": [
        "#### 79. Consider 2 sets of points P0,P1 describing lines (2d) and a set of points P, how to compute distance from each point j (P[j]) to each line i (P0[i],P1[i])? (★★★)"
      ],
      "id": "e5e7f323"
    },
    {
      "cell_type": "code",
      "execution_count": null,
      "metadata": {
        "id": "d0ce77e2",
        "colab": {
          "base_uri": "https://localhost:8080/"
        },
        "outputId": "a8035dc6-d3e5-4efd-cefd-bf78e4c2222d"
      },
      "outputs": [
        {
          "output_type": "stream",
          "name": "stdout",
          "text": [
            "Distances from each point to each line:\n",
            "[[0.4        0.8        0.2773501 ]\n",
            " [0.         0.4        0.2773501 ]\n",
            " [0.         0.4        1.38675049]]\n"
          ]
        }
      ],
      "source": [
        "import numpy as np\n",
        "\n",
        "def distance_to_line(point, line_start, line_end):\n",
        "    x0, y0 = point\n",
        "    x1, y1 = line_start\n",
        "    x2, y2 = line_end\n",
        "\n",
        "    numerator = np.abs((y2 - y1) * x0 - (x2 - x1) * y0 + x2 * y1 - y2 * x1)\n",
        "    denominator = np.sqrt((y2 - y1)**2 + (x2 - x1)**2)\n",
        "\n",
        "    distance = numerator / denominator\n",
        "    return distance\n",
        "\n",
        "def distances_to_lines(points, line_starts, line_ends):\n",
        "    distances = np.zeros((len(points), len(line_starts)))\n",
        "\n",
        "    for i, point in enumerate(points):\n",
        "        for j, (start, end) in enumerate(zip(line_starts, line_ends)):\n",
        "            distances[i, j] = distance_to_line(point, start, end)\n",
        "\n",
        "    return distances\n",
        "\n",
        "# Example points\n",
        "P = np.array([(2, 3), (4, 5), (1, 1)])\n",
        "P0 = np.array([(1, 1), (3, 3), (0, 2)])\n",
        "P1 = np.array([(4, 5), (6, 7), (3, 4)])\n",
        "\n",
        "# Compute distances\n",
        "distances = distances_to_lines(P, P0, P1)\n",
        "\n",
        "print(\"Distances from each point to each line:\")\n",
        "print(distances)\n"
      ],
      "id": "d0ce77e2"
    },
    {
      "cell_type": "markdown",
      "metadata": {
        "id": "9b9d03eb"
      },
      "source": [
        "#### 80. Consider an arbitrary array, write a function that extract a subpart with a fixed shape and centered on a given element (pad with a `fill` value when necessary) (★★★)"
      ],
      "id": "9b9d03eb"
    },
    {
      "cell_type": "code",
      "execution_count": null,
      "metadata": {
        "id": "ec2b7ae3",
        "colab": {
          "base_uri": "https://localhost:8080/"
        },
        "outputId": "6937c71b-ee36-4ee6-c014-26a2c8af9261"
      },
      "outputs": [
        {
          "output_type": "stream",
          "name": "stdout",
          "text": [
            "Original Array:\n",
            "[[ 1  2  3  4]\n",
            " [ 5  6  7  8]\n",
            " [ 9 10 11 12]]\n",
            "\n",
            "Extracted Subpart:\n",
            "[[2 3 4]\n",
            " [6 7 8]]\n"
          ]
        }
      ],
      "source": [
        "import numpy as np\n",
        "\n",
        "def extract_subpart(array, center, subpart_shape, fill_value=0):\n",
        "    \"\"\"\n",
        "    Extract a subpart with a fixed shape centered on a given element from an array.\n",
        "\n",
        "    Parameters:\n",
        "    - array: The input array.\n",
        "    - center: The center element around which to extract the subpart.\n",
        "    - subpart_shape: The shape of the subpart.\n",
        "    - fill_value: The value to fill when padding is necessary.\n",
        "\n",
        "    Returns:\n",
        "    - subpart: The extracted subpart.\n",
        "    \"\"\"\n",
        "\n",
        "    # Calculate the starting indices for the subpart\n",
        "    start_indices = np.maximum(center - np.array(subpart_shape) // 2, 0)\n",
        "\n",
        "    # Calculate the ending indices for the subpart\n",
        "    end_indices = start_indices + subpart_shape\n",
        "\n",
        "    # Calculate the padding needed\n",
        "    padding_start = np.maximum(0 - start_indices, 0)\n",
        "    padding_end = np.maximum(end_indices - np.array(array.shape), 0)\n",
        "\n",
        "    # Pad the array if necessary\n",
        "    padded_array = np.pad(array, (padding_start, padding_end), mode='constant', constant_values=fill_value)\n",
        "\n",
        "    # Extract the subpart\n",
        "    subpart = padded_array[start_indices[0]:end_indices[0], start_indices[1]:end_indices[1]]\n",
        "\n",
        "    return subpart\n",
        "\n",
        "# Example usage:\n",
        "# Create a 2D array\n",
        "array = np.array([[1, 2, 3, 4],\n",
        "                  [5, 6, 7, 8],\n",
        "                  [9, 10, 11, 12]])\n",
        "\n",
        "# Define center and subpart_shape\n",
        "center = (1, 2)\n",
        "subpart_shape = (2, 3)\n",
        "\n",
        "# Extract the subpart\n",
        "result = extract_subpart(array, center, subpart_shape, fill_value=0)\n",
        "\n",
        "print(\"Original Array:\")\n",
        "print(array)\n",
        "print(\"\\nExtracted Subpart:\")\n",
        "print(result)\n"
      ],
      "id": "ec2b7ae3"
    },
    {
      "cell_type": "markdown",
      "metadata": {
        "id": "27794913"
      },
      "source": [
        "#### 81. Consider an array Z = [1,2,3,4,5,6,7,8,9,10,11,12,13,14], how to generate an array R = [[1,2,3,4], [2,3,4,5], [3,4,5,6], ..., [11,12,13,14]]? (★★★)"
      ],
      "id": "27794913"
    },
    {
      "cell_type": "code",
      "execution_count": null,
      "metadata": {
        "id": "f3e7878b",
        "colab": {
          "base_uri": "https://localhost:8080/"
        },
        "outputId": "49acafd6-8085-4768-ab93-481f2318dc46"
      },
      "outputs": [
        {
          "output_type": "stream",
          "name": "stdout",
          "text": [
            "Array Z:\n",
            "[ 1  2  3  4  5  6  7  8  9 10 11 12 13 14]\n",
            "\n",
            "Array R:\n",
            "[[ 1  2  3  4]\n",
            " [ 2  3  4  5]\n",
            " [ 3  4  5  6]\n",
            " [ 4  5  6  7]\n",
            " [ 5  6  7  8]\n",
            " [ 6  7  8  9]\n",
            " [ 7  8  9 10]\n",
            " [ 8  9 10 11]\n",
            " [ 9 10 11 12]\n",
            " [10 11 12 13]\n",
            " [11 12 13 14]]\n"
          ]
        }
      ],
      "source": [
        "import numpy as np\n",
        "\n",
        "Z = np.array([1, 2, 3, 4, 5, 6, 7, 8, 9, 10, 11, 12, 13, 14])\n",
        "\n",
        "# Define the size of each subarray\n",
        "subarray_size = 4\n",
        "\n",
        "# Calculate the number of subarrays\n",
        "num_subarrays = len(Z) - subarray_size + 1\n",
        "\n",
        "# Generate the array R\n",
        "R = np.array([Z[i:i+subarray_size] for i in range(num_subarrays)])\n",
        "\n",
        "print(\"Array Z:\")\n",
        "print(Z)\n",
        "print(\"\\nArray R:\")\n",
        "print(R)\n"
      ],
      "id": "f3e7878b"
    },
    {
      "cell_type": "markdown",
      "metadata": {
        "id": "fae786f5"
      },
      "source": [
        "#### 82. Compute a matrix rank (★★★)"
      ],
      "id": "fae786f5"
    },
    {
      "cell_type": "code",
      "execution_count": null,
      "metadata": {
        "id": "64b9615b",
        "colab": {
          "base_uri": "https://localhost:8080/"
        },
        "outputId": "43eeb301-178d-4699-b30a-54b8279e5c5b"
      },
      "outputs": [
        {
          "output_type": "stream",
          "name": "stdout",
          "text": [
            "Matrix:\n",
            "[[1 2 3]\n",
            " [4 5 6]\n",
            " [7 8 9]]\n",
            "\n",
            "Rank of the Matrix: 2\n"
          ]
        }
      ],
      "source": [
        "import numpy as np\n",
        "\n",
        "# Create a sample matrix\n",
        "matrix = np.array([[1, 2, 3],\n",
        "                   [4, 5, 6],\n",
        "                   [7, 8, 9]])\n",
        "\n",
        "# Compute the rank of the matrix\n",
        "rank = np.linalg.matrix_rank(matrix)\n",
        "\n",
        "print(\"Matrix:\")\n",
        "print(matrix)\n",
        "print(\"\\nRank of the Matrix:\", rank)\n"
      ],
      "id": "64b9615b"
    },
    {
      "cell_type": "markdown",
      "metadata": {
        "id": "c85aa0b9"
      },
      "source": [
        "#### 83. How to find the most frequent value in an array?"
      ],
      "id": "c85aa0b9"
    },
    {
      "cell_type": "code",
      "execution_count": null,
      "metadata": {
        "id": "056be85b",
        "colab": {
          "base_uri": "https://localhost:8080/"
        },
        "outputId": "e1cca4de-d9f7-4614-db26-72f45d699ffe"
      },
      "outputs": [
        {
          "output_type": "stream",
          "name": "stdout",
          "text": [
            "Array: [1 2 2 3 3 3 4 4 4 4 5]\n",
            "Most Frequent Value: 4\n"
          ]
        }
      ],
      "source": [
        "import numpy as np\n",
        "\n",
        "# Create a sample array\n",
        "array = np.array([1, 2, 2, 3, 3, 3, 4, 4, 4, 4, 5])\n",
        "\n",
        "# Find the most frequent value\n",
        "most_frequent_value = np.bincount(array).argmax()\n",
        "\n",
        "print(\"Array:\", array)\n",
        "print(\"Most Frequent Value:\", most_frequent_value)\n"
      ],
      "id": "056be85b"
    },
    {
      "cell_type": "markdown",
      "metadata": {
        "id": "0ff2344d"
      },
      "source": [
        "#### 84. Extract all the contiguous 3x3 blocks from a random 10x10 matrix (★★★)"
      ],
      "id": "0ff2344d"
    },
    {
      "cell_type": "code",
      "execution_count": null,
      "metadata": {
        "id": "d58b1318",
        "colab": {
          "base_uri": "https://localhost:8080/"
        },
        "outputId": "70380542-bdf2-4398-e35e-7de212cb009e"
      },
      "outputs": [
        {
          "output_type": "stream",
          "name": "stdout",
          "text": [
            "Original 10x10 Matrix:\n",
            "[[32 40 48 97 69 92 34 71 51 80]\n",
            " [ 1 33 22 42 71 48 16 16 32 53]\n",
            " [72 57 94 36 18  1 23 85 39 38]\n",
            " [95 55 49 93 44 15 77 92 35 15]\n",
            " [88 14 39 89 66 39 47 45 95 54]\n",
            " [44 70 80 92 33 46 57 48 66 64]\n",
            " [54 76 67 92 34 21 99 86 40 68]\n",
            " [35 37 23 27 85 49 25  7 77 30]\n",
            " [41 11 43 41  6 43 90 34 47 41]\n",
            " [58 46 66 45 79 76 48 41 51 74]]\n",
            "\n",
            "Extracted Contiguous 3x3 Blocks:\n",
            "[[[32 40 48]\n",
            "  [ 1 33 22]\n",
            "  [72 57 94]]\n",
            "\n",
            " [[40 48 97]\n",
            "  [33 22 42]\n",
            "  [57 94 36]]\n",
            "\n",
            " [[48 97 69]\n",
            "  [22 42 71]\n",
            "  [94 36 18]]\n",
            "\n",
            " [[97 69 92]\n",
            "  [42 71 48]\n",
            "  [36 18  1]]\n",
            "\n",
            " [[69 92 34]\n",
            "  [71 48 16]\n",
            "  [18  1 23]]\n",
            "\n",
            " [[92 34 71]\n",
            "  [48 16 16]\n",
            "  [ 1 23 85]]\n",
            "\n",
            " [[34 71 51]\n",
            "  [16 16 32]\n",
            "  [23 85 39]]\n",
            "\n",
            " [[71 51 80]\n",
            "  [16 32 53]\n",
            "  [85 39 38]]\n",
            "\n",
            " [[ 1 33 22]\n",
            "  [72 57 94]\n",
            "  [95 55 49]]\n",
            "\n",
            " [[33 22 42]\n",
            "  [57 94 36]\n",
            "  [55 49 93]]\n",
            "\n",
            " [[22 42 71]\n",
            "  [94 36 18]\n",
            "  [49 93 44]]\n",
            "\n",
            " [[42 71 48]\n",
            "  [36 18  1]\n",
            "  [93 44 15]]\n",
            "\n",
            " [[71 48 16]\n",
            "  [18  1 23]\n",
            "  [44 15 77]]\n",
            "\n",
            " [[48 16 16]\n",
            "  [ 1 23 85]\n",
            "  [15 77 92]]\n",
            "\n",
            " [[16 16 32]\n",
            "  [23 85 39]\n",
            "  [77 92 35]]\n",
            "\n",
            " [[16 32 53]\n",
            "  [85 39 38]\n",
            "  [92 35 15]]\n",
            "\n",
            " [[72 57 94]\n",
            "  [95 55 49]\n",
            "  [88 14 39]]\n",
            "\n",
            " [[57 94 36]\n",
            "  [55 49 93]\n",
            "  [14 39 89]]\n",
            "\n",
            " [[94 36 18]\n",
            "  [49 93 44]\n",
            "  [39 89 66]]\n",
            "\n",
            " [[36 18  1]\n",
            "  [93 44 15]\n",
            "  [89 66 39]]\n",
            "\n",
            " [[18  1 23]\n",
            "  [44 15 77]\n",
            "  [66 39 47]]\n",
            "\n",
            " [[ 1 23 85]\n",
            "  [15 77 92]\n",
            "  [39 47 45]]\n",
            "\n",
            " [[23 85 39]\n",
            "  [77 92 35]\n",
            "  [47 45 95]]\n",
            "\n",
            " [[85 39 38]\n",
            "  [92 35 15]\n",
            "  [45 95 54]]\n",
            "\n",
            " [[95 55 49]\n",
            "  [88 14 39]\n",
            "  [44 70 80]]\n",
            "\n",
            " [[55 49 93]\n",
            "  [14 39 89]\n",
            "  [70 80 92]]\n",
            "\n",
            " [[49 93 44]\n",
            "  [39 89 66]\n",
            "  [80 92 33]]\n",
            "\n",
            " [[93 44 15]\n",
            "  [89 66 39]\n",
            "  [92 33 46]]\n",
            "\n",
            " [[44 15 77]\n",
            "  [66 39 47]\n",
            "  [33 46 57]]\n",
            "\n",
            " [[15 77 92]\n",
            "  [39 47 45]\n",
            "  [46 57 48]]\n",
            "\n",
            " [[77 92 35]\n",
            "  [47 45 95]\n",
            "  [57 48 66]]\n",
            "\n",
            " [[92 35 15]\n",
            "  [45 95 54]\n",
            "  [48 66 64]]\n",
            "\n",
            " [[88 14 39]\n",
            "  [44 70 80]\n",
            "  [54 76 67]]\n",
            "\n",
            " [[14 39 89]\n",
            "  [70 80 92]\n",
            "  [76 67 92]]\n",
            "\n",
            " [[39 89 66]\n",
            "  [80 92 33]\n",
            "  [67 92 34]]\n",
            "\n",
            " [[89 66 39]\n",
            "  [92 33 46]\n",
            "  [92 34 21]]\n",
            "\n",
            " [[66 39 47]\n",
            "  [33 46 57]\n",
            "  [34 21 99]]\n",
            "\n",
            " [[39 47 45]\n",
            "  [46 57 48]\n",
            "  [21 99 86]]\n",
            "\n",
            " [[47 45 95]\n",
            "  [57 48 66]\n",
            "  [99 86 40]]\n",
            "\n",
            " [[45 95 54]\n",
            "  [48 66 64]\n",
            "  [86 40 68]]\n",
            "\n",
            " [[44 70 80]\n",
            "  [54 76 67]\n",
            "  [35 37 23]]\n",
            "\n",
            " [[70 80 92]\n",
            "  [76 67 92]\n",
            "  [37 23 27]]\n",
            "\n",
            " [[80 92 33]\n",
            "  [67 92 34]\n",
            "  [23 27 85]]\n",
            "\n",
            " [[92 33 46]\n",
            "  [92 34 21]\n",
            "  [27 85 49]]\n",
            "\n",
            " [[33 46 57]\n",
            "  [34 21 99]\n",
            "  [85 49 25]]\n",
            "\n",
            " [[46 57 48]\n",
            "  [21 99 86]\n",
            "  [49 25  7]]\n",
            "\n",
            " [[57 48 66]\n",
            "  [99 86 40]\n",
            "  [25  7 77]]\n",
            "\n",
            " [[48 66 64]\n",
            "  [86 40 68]\n",
            "  [ 7 77 30]]\n",
            "\n",
            " [[54 76 67]\n",
            "  [35 37 23]\n",
            "  [41 11 43]]\n",
            "\n",
            " [[76 67 92]\n",
            "  [37 23 27]\n",
            "  [11 43 41]]\n",
            "\n",
            " [[67 92 34]\n",
            "  [23 27 85]\n",
            "  [43 41  6]]\n",
            "\n",
            " [[92 34 21]\n",
            "  [27 85 49]\n",
            "  [41  6 43]]\n",
            "\n",
            " [[34 21 99]\n",
            "  [85 49 25]\n",
            "  [ 6 43 90]]\n",
            "\n",
            " [[21 99 86]\n",
            "  [49 25  7]\n",
            "  [43 90 34]]\n",
            "\n",
            " [[99 86 40]\n",
            "  [25  7 77]\n",
            "  [90 34 47]]\n",
            "\n",
            " [[86 40 68]\n",
            "  [ 7 77 30]\n",
            "  [34 47 41]]\n",
            "\n",
            " [[35 37 23]\n",
            "  [41 11 43]\n",
            "  [58 46 66]]\n",
            "\n",
            " [[37 23 27]\n",
            "  [11 43 41]\n",
            "  [46 66 45]]\n",
            "\n",
            " [[23 27 85]\n",
            "  [43 41  6]\n",
            "  [66 45 79]]\n",
            "\n",
            " [[27 85 49]\n",
            "  [41  6 43]\n",
            "  [45 79 76]]\n",
            "\n",
            " [[85 49 25]\n",
            "  [ 6 43 90]\n",
            "  [79 76 48]]\n",
            "\n",
            " [[49 25  7]\n",
            "  [43 90 34]\n",
            "  [76 48 41]]\n",
            "\n",
            " [[25  7 77]\n",
            "  [90 34 47]\n",
            "  [48 41 51]]\n",
            "\n",
            " [[ 7 77 30]\n",
            "  [34 47 41]\n",
            "  [41 51 74]]]\n"
          ]
        }
      ],
      "source": [
        "import numpy as np\n",
        "\n",
        "# Create a random 10x10 matrix\n",
        "matrix_10x10 = np.random.randint(1, 100, size=(10, 10))\n",
        "\n",
        "# Extract all contiguous 3x3 blocks\n",
        "blocks_3x3 = np.array([matrix_10x10[i:i+3, j:j+3] for i in range(8) for j in range(8)])\n",
        "\n",
        "# Print the original matrix and extracted blocks\n",
        "print(\"Original 10x10 Matrix:\")\n",
        "print(matrix_10x10)\n",
        "print(\"\\nExtracted Contiguous 3x3 Blocks:\")\n",
        "print(blocks_3x3)\n"
      ],
      "id": "d58b1318"
    },
    {
      "cell_type": "markdown",
      "metadata": {
        "id": "1a18b263"
      },
      "source": [
        "#### 85. Create a 2D array subclass such that Z[i,j] == Z[j,i] (★★★)"
      ],
      "id": "1a18b263"
    },
    {
      "cell_type": "code",
      "execution_count": null,
      "metadata": {
        "id": "87f17adc",
        "colab": {
          "base_uri": "https://localhost:8080/"
        },
        "outputId": "4c282de3-94b0-4f94-bea9-b9b7dddad760"
      },
      "outputs": [
        {
          "output_type": "stream",
          "name": "stdout",
          "text": [
            "True\n",
            "42.0\n"
          ]
        }
      ],
      "source": [
        "import numpy as np\n",
        "\n",
        "class SymmetricArray(np.ndarray):\n",
        "    def __new__(cls, input_array):\n",
        "        obj = np.asarray(input_array).view(cls)\n",
        "        return obj\n",
        "\n",
        "    def __getitem__(self, index):\n",
        "        i, j = index\n",
        "        if isinstance(i, slice) or isinstance(j, slice):\n",
        "            return super(SymmetricArray, self).__getitem__((i, j))\n",
        "        else:\n",
        "            return super(SymmetricArray, self).__getitem__((min(i, j), max(i, j)))\n",
        "\n",
        "    def __setitem__(self, index, value):\n",
        "        i, j = index\n",
        "        if isinstance(i, slice) or isinstance(j, slice):\n",
        "            super(SymmetricArray, self).__setitem__((i, j), value)\n",
        "            super(SymmetricArray, self).__setitem__((j, i), value)\n",
        "        else:\n",
        "            super(SymmetricArray, self).__setitem__((min(i, j), max(i, j)), value)\n",
        "\n",
        "# Create a symmetric array\n",
        "Z = SymmetricArray(np.random.rand(5, 5))\n",
        "\n",
        "# Test equality\n",
        "print(Z[2, 3] == Z[3, 2])  # Should be True\n",
        "\n",
        "# Test setting values\n",
        "Z[1, 4] = 42\n",
        "print(Z[4, 1])  # Should be 42\n"
      ],
      "id": "87f17adc"
    },
    {
      "cell_type": "markdown",
      "metadata": {
        "id": "f85f2cad"
      },
      "source": [
        "#### 86. Consider a set of p matrices wich shape (n,n) and a set of p vectors with shape (n,1). How to compute the sum of of the p matrix products at once? (result has shape (n,1)) (★★★)"
      ],
      "id": "f85f2cad"
    },
    {
      "cell_type": "code",
      "execution_count": null,
      "metadata": {
        "id": "8d230557",
        "colab": {
          "base_uri": "https://localhost:8080/"
        },
        "outputId": "8a8360a6-9032-484f-abbf-c444d211680b"
      },
      "outputs": [
        {
          "output_type": "stream",
          "name": "stdout",
          "text": [
            "Matrices:\n",
            "[array([[0.41545219, 0.71026094, 0.6990321 , 0.56776572],\n",
            "       [0.26528392, 0.11253491, 0.46667155, 0.67441817],\n",
            "       [0.22037652, 0.68909497, 0.07148312, 0.17840629],\n",
            "       [0.41137955, 0.83164948, 0.97272885, 0.79786691]]), array([[0.60609251, 0.00621562, 0.88816921, 0.75149899],\n",
            "       [0.11785314, 0.9487641 , 0.54717466, 0.83342365],\n",
            "       [0.40445647, 0.50218265, 0.18318772, 0.08997436],\n",
            "       [0.45861413, 0.58004208, 0.98405297, 0.55118501]]), array([[0.18478636, 0.53781369, 0.3184522 , 0.95417733],\n",
            "       [0.27173736, 0.10602494, 0.6379989 , 0.38093916],\n",
            "       [0.83853166, 0.24382871, 0.30888712, 0.89764332],\n",
            "       [0.27537356, 0.59447951, 0.19885626, 0.11923254]])]\n",
            "\n",
            "Vectors:\n",
            "[array([[0.59211793],\n",
            "       [0.5683669 ],\n",
            "       [0.06753946],\n",
            "       [0.36020664]]), array([[0.04177022],\n",
            "       [0.04632944],\n",
            "       [0.12373299],\n",
            "       [0.36267703]]), array([[0.78347186],\n",
            "       [0.51552898],\n",
            "       [0.85456239],\n",
            "       [0.0409154 ]])]\n",
            "\n",
            "Sum of Matrix Products:\n",
            "[[2.04267387]\n",
            " [1.74268843]\n",
            " [1.7700543 ]\n",
            " [2.13408556]]\n"
          ]
        }
      ],
      "source": [
        "import numpy as np\n",
        "\n",
        "# Set the size of matrices and vectors\n",
        "p = 3\n",
        "n = 4\n",
        "\n",
        "# Generate random matrices and vectors\n",
        "matrices = [np.random.rand(n, n) for _ in range(p)]\n",
        "vectors = [np.random.rand(n, 1) for _ in range(p)]\n",
        "\n",
        "# Compute the sum of the matrix products at once\n",
        "result = sum(np.dot(matrices[i], vectors[i]) for i in range(p))\n",
        "\n",
        "print(\"Matrices:\")\n",
        "print(matrices)\n",
        "print(\"\\nVectors:\")\n",
        "print(vectors)\n",
        "print(\"\\nSum of Matrix Products:\")\n",
        "print(result)\n"
      ],
      "id": "8d230557"
    },
    {
      "cell_type": "markdown",
      "metadata": {
        "id": "5afb72c8"
      },
      "source": [
        "#### 87. Consider a 16x16 array, how to get the block-sum (block size is 4x4)? (★★★)"
      ],
      "id": "5afb72c8"
    },
    {
      "cell_type": "code",
      "execution_count": null,
      "metadata": {
        "id": "e86f47a9",
        "colab": {
          "base_uri": "https://localhost:8080/"
        },
        "outputId": "51812029-f487-4fbc-ffa3-4a6d06f3521c"
      },
      "outputs": [
        {
          "output_type": "stream",
          "name": "stdout",
          "text": [
            "Original 16x16 Array:\n",
            "[[7 4 5 9 1 7 6 1 8 6 4 7 3 4 2 3]\n",
            " [5 7 8 6 3 5 9 1 5 1 8 8 3 9 5 6]\n",
            " [5 7 1 5 8 2 3 7 1 5 9 6 9 3 7 6]\n",
            " [5 1 9 5 1 8 5 3 8 5 8 4 8 9 4 6]\n",
            " [5 6 5 9 5 2 9 9 1 9 4 6 2 5 5 7]\n",
            " [6 5 2 9 7 4 4 7 2 6 5 8 9 6 2 9]\n",
            " [8 9 7 5 3 5 4 8 2 8 1 9 6 7 4 4]\n",
            " [2 5 3 8 2 6 2 7 5 5 1 8 2 4 4 7]\n",
            " [6 8 5 7 5 6 4 5 4 5 6 7 8 5 7 1]\n",
            " [5 3 2 3 1 9 8 5 4 4 3 3 4 5 1 1]\n",
            " [6 9 6 2 1 9 7 4 7 4 1 8 7 9 2 6]\n",
            " [6 5 3 5 9 1 1 1 4 8 9 2 6 6 7 1]\n",
            " [5 9 7 3 2 6 5 5 9 6 1 8 8 2 8 3]\n",
            " [1 7 4 1 8 8 9 7 7 6 4 7 1 1 3 2]\n",
            " [1 5 5 9 3 1 1 9 2 2 3 3 6 2 3 2]\n",
            " [9 4 8 8 3 3 5 1 3 5 1 9 3 6 5 2]]\n",
            "\n",
            "Block-Sum (Block Size 4x4):\n",
            "[[77 89 84 89]\n",
            " [89 91 90 71]\n",
            " [89 61 88 74]\n",
            " [87 76 57 75]]\n"
          ]
        }
      ],
      "source": [
        "import numpy as np\n",
        "\n",
        "# Create a 16x16 array\n",
        "array_16x16 = np.random.randint(1, 10, size=(16, 16))\n",
        "\n",
        "# Define the block size\n",
        "block_size = 4\n",
        "\n",
        "# Reshape the array into blocks\n",
        "blocks = array_16x16.reshape(4, 4, 4, 4)\n",
        "\n",
        "# Compute the block-sum along the last two dimensions\n",
        "block_sum = np.sum(blocks, axis=(2, 3))\n",
        "\n",
        "print(\"Original 16x16 Array:\")\n",
        "print(array_16x16)\n",
        "print(\"\\nBlock-Sum (Block Size 4x4):\")\n",
        "print(block_sum)\n"
      ],
      "id": "e86f47a9"
    },
    {
      "cell_type": "markdown",
      "metadata": {
        "id": "6094d37c"
      },
      "source": [
        "#### 88. How to implement the Game of Life using numpy arrays? (★★★)"
      ],
      "id": "6094d37c"
    },
    {
      "cell_type": "code",
      "execution_count": null,
      "metadata": {
        "id": "a93e715f",
        "colab": {
          "base_uri": "https://localhost:8080/",
          "height": 468
        },
        "outputId": "41c2c635-f106-448f-ff43-f48b7753adb1"
      },
      "outputs": [
        {
          "output_type": "stream",
          "name": "stderr",
          "text": [
            "<ipython-input-67-39fb66a00697>:43: UserWarning: You passed in an explicit save_count=50 which is being ignored in favor of frames=10.\n",
            "  ani = animation.FuncAnimation(fig, update, fargs=(img, grid, N),\n"
          ]
        },
        {
          "output_type": "display_data",
          "data": {
            "text/plain": [
              "<Figure size 640x480 with 1 Axes>"
            ],
            "image/png": "[encoded data removed]"
          },
          "metadata": {}
        }
      ],
      "source": [
        "\n",
        "   import numpy as np\n",
        "import matplotlib.pyplot as plt\n",
        "import matplotlib.animation as animation\n",
        "\n",
        "# Constants for cell states\n",
        "ON = 255\n",
        "OFF = 0\n",
        "\n",
        "def update(frameNum, img, grid, N):\n",
        "    # Copy the current grid to compute the next generation\n",
        "    newGrid = grid.copy()\n",
        "\n",
        "    for i in range(N):\n",
        "        for j in range(N):\n",
        "            # Compute the sum of the 8 neighboring cells\n",
        "            total = int((grid[i, (j-1)%N] + grid[i, (j+1)%N] +\n",
        "                          grid[(i-1)%N, j] + grid[(i+1)%N, j] +\n",
        "                          grid[(i-1)%N, (j-1)%N] + grid[(i-1)%N, (j+1)%N] +\n",
        "                          grid[(i+1)%N, (j-1)%N] + grid[(i+1)%N, (j+1)%N])/255)\n",
        "\n",
        "            # Apply the rules of the Game of Life\n",
        "            if grid[i, j] == ON:\n",
        "                if (total < 2) or (total > 3):\n",
        "                    newGrid[i, j] = OFF\n",
        "            else:\n",
        "                if total == 3:\n",
        "                    newGrid[i, j] = ON\n",
        "\n",
        "    # Update the data of the image plot\n",
        "    img.set_data(newGrid)\n",
        "    grid[:] = newGrid[:]\n",
        "    return img\n",
        "\n",
        "# Set the size of the grid\n",
        "N = 100\n",
        "\n",
        "# Set the initial configuration of the grid\n",
        "grid = np.random.choice([ON, OFF], N*N, p=[0.2, 0.8]).reshape(N, N)\n",
        "\n",
        "# Set up the animation\n",
        "fig, ax = plt.subplots()\n",
        "img = ax.imshow(grid, interpolation='nearest', cmap='gray')\n",
        "ani = animation.FuncAnimation(fig, update, fargs=(img, grid, N),\n",
        "                              frames=10, interval=50, save_count=50)\n",
        "\n",
        "plt.show()\n",
        "\n"
      ],
      "id": "a93e715f"
    },
    {
      "cell_type": "markdown",
      "metadata": {
        "id": "a173cf96"
      },
      "source": [
        "#### 89. How to get the n largest values of an array (★★★)"
      ],
      "id": "a173cf96"
    },
    {
      "cell_type": "code",
      "execution_count": null,
      "metadata": {
        "id": "b7c2ff35",
        "colab": {
          "base_uri": "https://localhost:8080/"
        },
        "outputId": "fbd0ac0c-3664-41be-e5a3-1f2a48079940"
      },
      "outputs": [
        {
          "output_type": "stream",
          "name": "stdout",
          "text": [
            "Original Array: [4 2 8 1 7 5 6 3]\n",
            "4 Largest Values: [8 7 6 5]\n"
          ]
        }
      ],
      "source": [
        "import numpy as np\n",
        "\n",
        "# Create an array\n",
        "arr = np.array([4, 2, 8, 1, 7, 5, 6, 3])\n",
        "\n",
        "# Get the indices of the sorted values in descending order\n",
        "indices_sorted = np.argsort(arr)[::-1]\n",
        "\n",
        "# Extract the n largest values\n",
        "n_largest_values = arr[indices_sorted[:n]]\n",
        "\n",
        "print(\"Original Array:\", arr)\n",
        "print(f\"{n} Largest Values:\", n_largest_values)\n"
      ],
      "id": "b7c2ff35"
    },
    {
      "cell_type": "markdown",
      "metadata": {
        "id": "15db2d01"
      },
      "source": [
        "#### 90. Given an arbitrary number of vectors, build the cartesian product (every combinations of every item) (★★★)"
      ],
      "id": "15db2d01"
    },
    {
      "cell_type": "code",
      "execution_count": null,
      "metadata": {
        "id": "a9a4633d",
        "colab": {
          "base_uri": "https://localhost:8080/"
        },
        "outputId": "07898163-bfbd-41dc-b480-f1cbb24df5b5"
      },
      "outputs": [
        {
          "output_type": "stream",
          "name": "stdout",
          "text": [
            "Cartesian Product:\n",
            "[(1, 'a', 0.1), (1, 'a', 0.2), (1, 'b', 0.1), (1, 'b', 0.2), (2, 'a', 0.1), (2, 'a', 0.2), (2, 'b', 0.1), (2, 'b', 0.2), (3, 'a', 0.1), (3, 'a', 0.2), (3, 'b', 0.1), (3, 'b', 0.2)]\n"
          ]
        }
      ],
      "source": [
        "from itertools import product\n",
        "\n",
        "# Define your vectors (lists, arrays, etc.)\n",
        "vector1 = [1, 2, 3]\n",
        "vector2 = ['a', 'b']\n",
        "vector3 = [0.1, 0.2]\n",
        "\n",
        "# Use itertools.product to get the Cartesian product\n",
        "cartesian_product = list(product(vector1, vector2, vector3))\n",
        "\n",
        "print(\"Cartesian Product:\")\n",
        "print(cartesian_product)\n"
      ],
      "id": "a9a4633d"
    },
    {
      "cell_type": "markdown",
      "metadata": {
        "id": "5d94d1ef"
      },
      "source": [
        "#### 91. How to create a record array from a regular array? (★★★)"
      ],
      "id": "5d94d1ef"
    },
    {
      "cell_type": "code",
      "execution_count": null,
      "metadata": {
        "id": "b1dae380",
        "colab": {
          "base_uri": "https://localhost:8080/"
        },
        "outputId": "469975cf-bff3-4f78-b320-23cc40e0f959"
      },
      "outputs": [
        {
          "output_type": "stream",
          "name": "stdout",
          "text": [
            "Record Array:\n",
            "((1, 'Alice', 25), (2, 'Bob', 30), (3, 'Charlie', 22))\n"
          ]
        }
      ],
      "source": [
        "import numpy as np\n",
        "\n",
        "# Create a regular array\n",
        "regular_array = np.array([(1, 'Alice', 25),\n",
        "                          (2, 'Bob', 30),\n",
        "                          (3, 'Charlie', 22)],\n",
        "                         dtype=[('ID', int), ('Name', 'U10'), ('Age', int)])\n",
        "\n",
        "# Convert the regular array to a record array\n",
        "record_array = np.rec.fromarrays(regular_array.transpose())\n",
        "\n",
        "# Print the record array\n",
        "print(\"Record Array:\")\n",
        "print(record_array)\n"
      ],
      "id": "b1dae380"
    },
    {
      "cell_type": "markdown",
      "metadata": {
        "id": "114ccc36"
      },
      "source": [
        "#### 92. Consider a large vector Z, compute Z to the power of 3 using 3 different methods (★★★)"
      ],
      "id": "114ccc36"
    },
    {
      "cell_type": "code",
      "execution_count": null,
      "metadata": {
        "id": "877c65d6",
        "colab": {
          "base_uri": "https://localhost:8080/"
        },
        "outputId": "df32178b-bb78-4439-913f-66d9f30357e2"
      },
      "outputs": [
        {
          "output_type": "stream",
          "name": "stdout",
          "text": [
            "True\n"
          ]
        }
      ],
      "source": [
        "import numpy as np\n",
        "\n",
        "# Create a large vector Z (replace this with your actual data)\n",
        "Z = np.random.rand(1000000)\n",
        "\n",
        "# Method 1: Using the ** operator\n",
        "Z_cubed_1 = Z ** 3\n",
        "\n",
        "# Method 2: Using numpy.power function\n",
        "Z_cubed_2 = np.power(Z, 3)\n",
        "\n",
        "# Method 3: Using numpy.einsum function\n",
        "Z_cubed_3 = np.einsum('i,i,i->i', Z, Z, Z)\n",
        "\n",
        "# Check if the results are the same\n",
        "print(np.allclose(Z_cubed_1, Z_cubed_2) and np.allclose(Z_cubed_1, Z_cubed_3))\n"
      ],
      "id": "877c65d6"
    },
    {
      "cell_type": "markdown",
      "metadata": {
        "id": "d614fee4"
      },
      "source": [
        "#### 93. Consider two arrays A and B of shape (8,3) and (2,2). How to find rows of A that contain elements of each row of B regardless of the order of the elements in B? (★★★)"
      ],
      "id": "d614fee4"
    },
    {
      "cell_type": "code",
      "execution_count": null,
      "metadata": {
        "id": "e6807a84",
        "colab": {
          "base_uri": "https://localhost:8080/"
        },
        "outputId": "b4c4c824-8dad-4bd5-eb72-7f6ea5834a25"
      },
      "outputs": [
        {
          "output_type": "stream",
          "name": "stdout",
          "text": [
            "Array A:\n",
            "[[1 7 3]\n",
            " [2 6 5]\n",
            " [2 3 0]\n",
            " [7 4 7]\n",
            " [5 9 1]\n",
            " [2 9 5]\n",
            " [4 4 2]\n",
            " [4 2 2]]\n",
            "\n",
            "Array B:\n",
            "[[6 0]\n",
            " [8 3]]\n",
            "\n",
            "Rows of A containing elements of each row of B:\n",
            "[]\n"
          ]
        }
      ],
      "source": [
        "import numpy as np\n",
        "\n",
        "# Create arrays A and B\n",
        "A = np.random.randint(0, 10, size=(8, 3))\n",
        "B = np.random.randint(0, 10, size=(2, 2))\n",
        "\n",
        "# Display arrays A and B\n",
        "print(\"Array A:\")\n",
        "print(A)\n",
        "print(\"\\nArray B:\")\n",
        "print(B)\n",
        "\n",
        "# Find rows of A that contain elements of each row of B\n",
        "rows_containing_elements = np.all(np.isin(A, B), axis=1)\n",
        "\n",
        "# Display the result\n",
        "print(\"\\nRows of A containing elements of each row of B:\")\n",
        "print(A[rows_containing_elements])\n"
      ],
      "id": "e6807a84"
    },
    {
      "cell_type": "markdown",
      "metadata": {
        "id": "b0eedca6"
      },
      "source": [
        "#### 94. Considering a 10x3 matrix, extract rows with unequal values (e.g. [2,2,3]) (★★★)"
      ],
      "id": "b0eedca6"
    },
    {
      "cell_type": "code",
      "execution_count": null,
      "metadata": {
        "id": "fc136ce2",
        "colab": {
          "base_uri": "https://localhost:8080/"
        },
        "outputId": "45db5d73-372a-44b8-9bfe-4b9b528b3e13"
      },
      "outputs": [
        {
          "output_type": "stream",
          "name": "stdout",
          "text": [
            "Original Matrix:\n",
            "[[2 1 2]\n",
            " [2 2 2]\n",
            " [2 3 2]\n",
            " [1 2 1]\n",
            " [2 2 1]\n",
            " [1 2 3]\n",
            " [1 3 3]\n",
            " [3 3 2]\n",
            " [3 3 1]\n",
            " [1 1 1]]\n",
            "\n",
            "Rows with Unequal Values:\n",
            "[[2 1 2]\n",
            " [2 3 2]\n",
            " [1 2 1]\n",
            " [2 2 1]\n",
            " [1 2 3]\n",
            " [1 3 3]\n",
            " [3 3 2]\n",
            " [3 3 1]]\n"
          ]
        }
      ],
      "source": [
        "import numpy as np\n",
        "\n",
        "# Create a 10x3 matrix (replace this with your actual data)\n",
        "matrix = np.random.randint(1, 4, size=(10, 3))\n",
        "\n",
        "# Display the original matrix\n",
        "print(\"Original Matrix:\")\n",
        "print(matrix)\n",
        "\n",
        "# Find rows with unequal values\n",
        "unequal_rows = ~np.all(matrix[:, 1:] == matrix[:, :-1], axis=1)\n",
        "\n",
        "# Extract rows with unequal values\n",
        "result_matrix = matrix[unequal_rows]\n",
        "\n",
        "# Display the result\n",
        "print(\"\\nRows with Unequal Values:\")\n",
        "print(result_matrix)\n"
      ],
      "id": "fc136ce2"
    },
    {
      "cell_type": "markdown",
      "metadata": {
        "id": "a65ec1cf"
      },
      "source": [
        "#### 95. Convert a vector of ints into a matrix binary representation (★★★)"
      ],
      "id": "a65ec1cf"
    },
    {
      "cell_type": "code",
      "execution_count": null,
      "metadata": {
        "id": "323cdf4c",
        "colab": {
          "base_uri": "https://localhost:8080/"
        },
        "outputId": "d9d6ead1-edb6-48ad-d2b8-b0dca00c6462"
      },
      "outputs": [
        {
          "output_type": "stream",
          "name": "stdout",
          "text": [
            "Original Vector:\n",
            "[5 2 7]\n",
            "\n",
            "Binary Matrix Representation:\n",
            "[[0 0 0 0 0 1 0 1]\n",
            " [0 0 0 0 0 0 1 0]\n",
            " [0 0 0 0 0 1 1 1]]\n"
          ]
        }
      ],
      "source": [
        "import numpy as np\n",
        "\n",
        "# Create a vector of integers (replace this with your actual data)\n",
        "int_vector = np.array([5, 2, 7], dtype=np.uint8)\n",
        "\n",
        "# Convert the vector into a matrix binary representation\n",
        "binary_matrix = np.unpackbits(int_vector[:, np.newaxis], axis=1)\n",
        "\n",
        "# Display the result\n",
        "print(\"Original Vector:\")\n",
        "print(int_vector)\n",
        "print(\"\\nBinary Matrix Representation:\")\n",
        "print(binary_matrix)\n"
      ],
      "id": "323cdf4c"
    },
    {
      "cell_type": "markdown",
      "metadata": {
        "id": "75b9397f"
      },
      "source": [
        "#### 96. Given a two dimensional array, how to extract unique rows? (★★★)"
      ],
      "id": "75b9397f"
    },
    {
      "cell_type": "code",
      "execution_count": null,
      "metadata": {
        "id": "9bb56a47",
        "colab": {
          "base_uri": "https://localhost:8080/"
        },
        "outputId": "b6c45d5e-897d-4dae-a639-eab68d58854d"
      },
      "outputs": [
        {
          "output_type": "stream",
          "name": "stdout",
          "text": [
            "Original Array:\n",
            "[[1 2 3]\n",
            " [4 5 6]\n",
            " [1 2 3]\n",
            " [7 8 9]]\n",
            "\n",
            "Unique Rows:\n",
            "[[1 2 3]\n",
            " [4 5 6]\n",
            " [7 8 9]]\n"
          ]
        }
      ],
      "source": [
        "import numpy as np\n",
        "\n",
        "# Create a two-dimensional array (replace this with your actual data)\n",
        "array_2d = np.array([[1, 2, 3],\n",
        "                     [4, 5, 6],\n",
        "                     [1, 2, 3],\n",
        "                     [7, 8, 9]])\n",
        "\n",
        "# Extract unique rows\n",
        "unique_rows = np.unique(array_2d, axis=0)\n",
        "\n",
        "# Display the result\n",
        "print(\"Original Array:\")\n",
        "print(array_2d)\n",
        "print(\"\\nUnique Rows:\")\n",
        "print(unique_rows)\n"
      ],
      "id": "9bb56a47"
    },
    {
      "cell_type": "markdown",
      "metadata": {
        "id": "82aaf21b"
      },
      "source": [
        "#### 97. Considering 2 vectors A & B, write the einsum equivalent of inner, outer, sum, and mul function (★★★)"
      ],
      "id": "82aaf21b"
    },
    {
      "cell_type": "code",
      "execution_count": null,
      "metadata": {
        "id": "cedcefd9",
        "colab": {
          "base_uri": "https://localhost:8080/"
        },
        "outputId": "5aead041-36b6-40f0-957c-187c2a42bd30"
      },
      "outputs": [
        {
          "output_type": "stream",
          "name": "stdout",
          "text": [
            "Vector A: [1 2 3]\n",
            "Vector B: [4 5 6]\n",
            "\n",
            "Einsum Equivalent Operations:\n",
            "Inner Product: 32\n",
            "Outer Product:\n",
            "[[ 4  5  6]\n",
            " [ 8 10 12]\n",
            " [12 15 18]]\n",
            "Sum: 6\n",
            "Element-wise Multiplication: [ 4 10 18]\n"
          ]
        }
      ],
      "source": [
        "import numpy as np\n",
        "\n",
        "# Define two vectors A and B\n",
        "A = np.array([1, 2, 3])\n",
        "B = np.array([4, 5, 6])\n",
        "\n",
        "# Einsum equivalents\n",
        "inner_product = np.einsum('i,i->', A, B)  # Equivalent to np.inner(A, B)\n",
        "outer_product = np.einsum('i,j->ij', A, B)  # Equivalent to np.outer(A, B)\n",
        "sum_result = np.einsum('i->', A)  # Equivalent to np.sum(A)\n",
        "elementwise_mul = np.einsum('i,i->i', A, B)  # Equivalent to A * B\n",
        "\n",
        "# Display the results\n",
        "print(\"Vector A:\", A)\n",
        "print(\"Vector B:\", B)\n",
        "print(\"\\nEinsum Equivalent Operations:\")\n",
        "print(\"Inner Product:\", inner_product)\n",
        "print(\"Outer Product:\")\n",
        "print(outer_product)\n",
        "print(\"Sum:\", sum_result)\n",
        "print(\"Element-wise Multiplication:\", elementwise_mul)\n"
      ],
      "id": "cedcefd9"
    },
    {
      "cell_type": "markdown",
      "metadata": {
        "id": "7741e17f"
      },
      "source": [
        "#### 98. Considering a path described by two vectors (X,Y), how to sample it using equidistant samples (★★★)?"
      ],
      "id": "7741e17f"
    },
    {
      "cell_type": "code",
      "execution_count": null,
      "metadata": {
        "id": "0b2432fe",
        "colab": {
          "base_uri": "https://localhost:8080/",
          "height": 472
        },
        "outputId": "56318711-e4a2-454a-b684-56d94e5ea0f0"
      },
      "outputs": [
        {
          "output_type": "display_data",
          "data": {
            "text/plain": [
              "<Figure size 640x480 with 1 Axes>"
            ],
            "image/png": "[encoded data removed]"
          },
          "metadata": {}
        }
      ],
      "source": [
        "import numpy as np\n",
        "import matplotlib.pyplot as plt\n",
        "\n",
        "# Define vectors X and Y representing the path\n",
        "X = np.array([1, 2, 3, 5, 7])\n",
        "Y = np.array([2, 3, 5, 6, 8])\n",
        "\n",
        "# Number of equidistant samples\n",
        "num_samples = 100\n",
        "\n",
        "# Calculate the total path length\n",
        "path_length = np.sum(np.sqrt(np.diff(X)**2 + np.diff(Y)**2))\n",
        "\n",
        "# Calculate the cumulative path length at each point\n",
        "cumulative_lengths = np.cumsum(np.sqrt(np.diff(X)**2 + np.diff(Y)**2))\n",
        "cumulative_lengths = np.insert(cumulative_lengths, 0, 0)  # Insert a zero at the beginning\n",
        "\n",
        "# Calculate the equidistant points along the path\n",
        "equidistant_points = np.linspace(0, path_length, num_samples)\n",
        "\n",
        "# Interpolate X and Y values at equidistant points\n",
        "sampled_X = np.interp(equidistant_points, cumulative_lengths, X)\n",
        "sampled_Y = np.interp(equidistant_points, cumulative_lengths, Y)\n",
        "\n",
        "# Plot the original path and the sampled points\n",
        "plt.plot(X, Y, label='Original Path', marker='o')\n",
        "plt.plot(sampled_X, sampled_Y, label='Equidistant Samples', marker='x', linestyle='dashed')\n",
        "plt.legend()\n",
        "plt.xlabel('X')\n",
        "plt.ylabel('Y')\n",
        "plt.title('Sampling a Path with Equidistant Samples')\n",
        "plt.show()\n"
      ],
      "id": "0b2432fe"
    },
    {
      "cell_type": "markdown",
      "metadata": {
        "id": "340d6f36"
      },
      "source": [
        "#### 99. Given an integer n and a 2D array X, select from X the rows which can be interpreted as draws from a multinomial distribution with n degrees, i.e., the rows which only contain integers and which sum to n. (★★★)"
      ],
      "id": "340d6f36"
    },
    {
      "cell_type": "code",
      "execution_count": null,
      "metadata": {
        "id": "a75323ae",
        "colab": {
          "base_uri": "https://localhost:8080/"
        },
        "outputId": "fbada531-4866-4897-ccd2-4ca95044a09e"
      },
      "outputs": [
        {
          "output_type": "stream",
          "name": "stdout",
          "text": [
            "Original 2D Array X:\n",
            "[[1 2 3]\n",
            " [2 1 2]\n",
            " [0 3 2]\n",
            " [1 1 2]]\n",
            "\n",
            "Selected Rows for Multinomial Distribution with n = 5\n",
            "[[2 1 2]\n",
            " [0 3 2]]\n"
          ]
        }
      ],
      "source": [
        "import numpy as np\n",
        "\n",
        "def is_multinomial_row(row, n):\n",
        "    # Check if the row contains only integers and sums to n\n",
        "    return np.all(np.equal(np.mod(row, 1), 0)) and np.sum(row) == n\n",
        "\n",
        "# Example: Create a 2D array X (replace this with your actual data)\n",
        "X = np.array([[1, 2, 3],\n",
        "              [2, 1, 2],\n",
        "              [0, 3, 2],\n",
        "              [1, 1, 2]])\n",
        "\n",
        "# Set the value of n\n",
        "n = 5\n",
        "\n",
        "# Select rows from X that can be interpreted as draws from a multinomial distribution with n degrees\n",
        "selected_rows = X[np.apply_along_axis(is_multinomial_row, axis=1, arr=X, n=n)]\n",
        "\n",
        "# Display the result\n",
        "print(\"Original 2D Array X:\")\n",
        "print(X)\n",
        "print(\"\\nSelected Rows for Multinomial Distribution with n =\", n)\n",
        "print(selected_rows)\n"
      ],
      "id": "a75323ae"
    },
    {
      "cell_type": "markdown",
      "metadata": {
        "id": "19721849"
      },
      "source": [
        "#### 100. Compute bootstrapped 95% confidence intervals for the mean of a 1D array X (i.e., resample the elements of an array with replacement N times, compute the mean of each sample, and then compute percentiles over the means). (★★★)"
      ],
      "id": "19721849"
    },
    {
      "cell_type": "code",
      "execution_count": null,
      "metadata": {
        "id": "87309c6f",
        "colab": {
          "base_uri": "https://localhost:8080/"
        },
        "outputId": "6235aa16-2079-4527-ec16-29004224547c"
      },
      "outputs": [
        {
          "output_type": "stream",
          "name": "stdout",
          "text": [
            "Original 1D Array X:\n",
            "[ 1  2  3  4  5  6  7  8  9 10]\n",
            "\n",
            "Bootstrapped 95% Confidence Interval for the Mean:\n",
            "[3.7975 7.3   ]\n"
          ]
        }
      ],
      "source": [
        "import numpy as np\n",
        "\n",
        "# Example: Create a 1D array X (replace this with your actual data)\n",
        "X = np.array([1, 2, 3, 4, 5, 6, 7, 8, 9, 10])\n",
        "\n",
        "# Number of bootstrap samples\n",
        "N = 1000\n",
        "\n",
        "# Number of elements in the original array\n",
        "n = len(X)\n",
        "\n",
        "# Perform bootstrapping\n",
        "bootstrap_means = np.zeros(N)\n",
        "\n",
        "for i in range(N):\n",
        "    # Generate a bootstrap sample by resampling with replacement\n",
        "    bootstrap_sample = np.random.choice(X, size=n, replace=True)\n",
        "\n",
        "    # Compute the mean of the bootstrap sample\n",
        "    bootstrap_means[i] = np.mean(bootstrap_sample)\n",
        "\n",
        "# Compute percentiles to get the confidence interval\n",
        "confidence_interval = np.percentile(bootstrap_means, [2.5, 97.5])\n",
        "\n",
        "# Display the result\n",
        "print(\"Original 1D Array X:\")\n",
        "print(X)\n",
        "print(\"\\nBootstrapped 95% Confidence Interval for the Mean:\")\n",
        "print(confidence_interval)\n"
      ],
      "id": "87309c6f"
    }
  ],
  "metadata": {
    "colab": {
      "collapsed_sections": [
        "e15c249a",
        "157a129c",
        "d92d7b32",
        "f361efc0",
        "475808cb",
        "1af07d85",
        "930ed8bb",
        "2d850aab"
      ],
      "provenance": [],
      "include_colab_link": true
    },
    "kernelspec": {
      "display_name": "Python 3",
      "name": "python3"
    },
    "language_info": {
      "name": "python"
    }
  },
  "nbformat": 4,
  "nbformat_minor": 5
}