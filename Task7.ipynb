{
  "nbformat": 4,
  "nbformat_minor": 0,
  "metadata": {
    "colab": {
      "provenance": [],
      "authorship_tag": "ABX9TyM17aqHF/1bHFDFyzyOW/ez",
      "include_colab_link": true
    },
    "kernelspec": {
      "name": "python3",
      "display_name": "Python 3"
    },
    "language_info": {
      "name": "python"
    }
  },
  "cells": [
    {
      "cell_type": "markdown",
      "metadata": {
        "id": "view-in-github",
        "colab_type": "text"
      },
      "source": [
        "<a href=\"https://colab.research.google.com/github/Mohan0051/Mohan/blob/main/Task7.ipynb\" target=\"_parent\"><img src=\"https://colab.research.google.com/assets/colab-badge.svg\" alt=\"Open In Colab\"/></a>"
      ]
    },
    {
      "cell_type": "markdown",
      "source": [
        "#1. a. Write a NumPy program to convert an array to a float type"
      ],
      "metadata": {
        "id": "YE-YmvBMeiGv"
      }
    },
    {
      "cell_type": "code",
      "source": [
        "\n",
        "import numpy as np\n",
        "\n",
        "# Create an array\n",
        "original_array = np.array([1, 2, 3, 4])\n",
        "\n",
        "# Convert the array to float\n",
        "float_array = original_array.astype(float)\n",
        "\n",
        "print(\"Original Array:\", original_array)\n",
        "print(\"Float Array:\", float_array)"
      ],
      "metadata": {
        "colab": {
          "base_uri": "https://localhost:8080/"
        },
        "id": "VOtRgHa5efEP",
        "outputId": "9b658d65-444a-42ee-85d6-c4c47af11aa6"
      },
      "execution_count": null,
      "outputs": [
        {
          "output_type": "stream",
          "name": "stdout",
          "text": [
            "Original Array: [1 2 3 4]\n",
            "Float Array: [1. 2. 3. 4.]\n"
          ]
        }
      ]
    },
    {
      "cell_type": "markdown",
      "source": [
        "\n",
        "\n",
        "#b. Write a NumPy program to create an empty and a full array"
      ],
      "metadata": {
        "id": "9Wn57HqEfunB"
      }
    },
    {
      "cell_type": "code",
      "source": [
        "\n",
        "import numpy as np\n",
        "\n",
        "# Create an empty array\n",
        "empty_array = np.empty((3, 3))\n",
        "\n",
        "# Create a full array with a specific value (e.g., 7)\n",
        "full_array = np.full((2, 2), 7)\n",
        "\n",
        "print(\"Empty Array:\")\n",
        "print(empty_array)\n",
        "\n",
        "print(\"\\nFull Array:\")\n",
        "print(full_array)"
      ],
      "metadata": {
        "colab": {
          "base_uri": "https://localhost:8080/"
        },
        "id": "_ZCdnI5XgaHo",
        "outputId": "e3b3936d-7b66-44e8-e1a7-240a9008f218"
      },
      "execution_count": null,
      "outputs": [
        {
          "output_type": "stream",
          "name": "stdout",
          "text": [
            "Empty Array:\n",
            "[[4.65944169e-310 0.00000000e+000 0.00000000e+000]\n",
            " [0.00000000e+000 0.00000000e+000 0.00000000e+000]\n",
            " [0.00000000e+000 0.00000000e+000 0.00000000e+000]]\n",
            "\n",
            "Full Array:\n",
            "[[7 7]\n",
            " [7 7]]\n"
          ]
        }
      ]
    },
    {
      "cell_type": "markdown",
      "source": [
        "\n",
        "\n",
        "\n",
        "#c. Write a NumPy program to convert a list and tuple into arrays"
      ],
      "metadata": {
        "id": "vPsV-PGvgxuk"
      }
    },
    {
      "cell_type": "code",
      "source": [
        "\n",
        "import numpy as np\n",
        "\n",
        "# Convert a list to array\n",
        "list_data = [1, 2, 3]\n",
        "array_from_list = np.array(list_data)\n",
        "\n",
        "# Convert a tuple to array\n",
        "tuple_data = (4, 5, 6)\n",
        "array_from_tuple = np.array(tuple_data)\n",
        "\n",
        "print(\"Array from List:\", array_from_list)\n",
        "print(\"Array from Tuple:\", array_from_tuple)"
      ],
      "metadata": {
        "colab": {
          "base_uri": "https://localhost:8080/"
        },
        "id": "aE3At43hg_sU",
        "outputId": "07aee674-c38c-4d66-b293-f27384ec5aa3"
      },
      "execution_count": null,
      "outputs": [
        {
          "output_type": "stream",
          "name": "stdout",
          "text": [
            "Array from List: [1 2 3]\n",
            "Array from Tuple: [4 5 6]\n"
          ]
        }
      ]
    },
    {
      "cell_type": "markdown",
      "source": [
        "\n",
        "\n",
        "#d. Write a NumPy program to find the real and imaginary parts of an array of complex numbers"
      ],
      "metadata": {
        "id": "SoYeek8LhUFV"
      }
    },
    {
      "cell_type": "code",
      "source": [
        "\n",
        "\n",
        "import numpy as np\n",
        "\n",
        "# Create an array of complex numbers\n",
        "complex_array = np.array([1 + 2j, 3 - 4j, 5 + 6j])\n",
        "\n",
        "# Extract real and imaginary parts\n",
        "real_parts = np.real(complex_array)\n",
        "imaginary_parts = np.imag(complex_array)\n",
        "\n",
        "print(\"Original Complex Array:\", complex_array)\n",
        "print(\"Real Parts:\", real_parts)\n",
        "print(\"Imaginary Parts:\", imaginary_parts)"
      ],
      "metadata": {
        "colab": {
          "base_uri": "https://localhost:8080/"
        },
        "id": "ipQ535z3hewO",
        "outputId": "eee14e7e-ad96-4a47-e78e-0ca20d2a1587"
      },
      "execution_count": null,
      "outputs": [
        {
          "output_type": "stream",
          "name": "stdout",
          "text": [
            "Original Complex Array: [1.+2.j 3.-4.j 5.+6.j]\n",
            "Real Parts: [1. 3. 5.]\n",
            "Imaginary Parts: [ 2. -4.  6.]\n"
          ]
        }
      ]
    },
    {
      "cell_type": "markdown",
      "source": [
        "#2.Create a 2-dimensional array of size 2 * 3 composed of 4-byte integer elements. Write a NumPy program to find the number of occurrences of a sequence in the said array.\n",
        "\n",
        "Sample Output:\n",
        "\n",
        "Original NumPy array:\n",
        "\n",
        "[[1 2 3]\n",
        "\n",
        "[2 1 2]]\n",
        "\n",
        "Type: <class 'numpy.ndarray'>\n",
        "\n",
        "Sequence: 2,3\n",
        "\n",
        "Number of occurrences of the said sequence: 2"
      ],
      "metadata": {
        "id": "Xl7zWbTJiCLz"
      }
    },
    {
      "cell_type": "code",
      "source": [
        "\n",
        "import numpy as np\n",
        "\n",
        "# Create a 2x3 array of 4-byte integers\n",
        "original_array = np.array([[1, 2, 3], [2, 1, 2]], dtype=np.int32)\n",
        "\n",
        "print(\"Original NumPy array:\")\n",
        "print(original_array)\n",
        "print(\"Type:\", type(original_array))\n",
        "\n",
        "# Define the sequence to find\n",
        "sequence_to_find = [2, 3]\n",
        "\n",
        "# Convert the sequence to a NumPy array\n",
        "sequence_array = np.array(sequence_to_find)\n",
        "\n",
        "# Use strided convolution to find occurrences of the sequence\n",
        "occurrences = np.sum(np.all(np.lib.stride_tricks.sliding_window_view(original_array, (2, 2)) == sequence_array, axis=(2, 3)))\n",
        "\n",
        "print(\"Sequence:\", sequence_to_find)\n",
        "print(\"Number of occurrences of the said sequence:\", occurrences)"
      ],
      "metadata": {
        "colab": {
          "base_uri": "https://localhost:8080/"
        },
        "id": "L-Gvl3cri_-L",
        "outputId": "130a7302-dddb-4cae-ef2c-c12738557566"
      },
      "execution_count": null,
      "outputs": [
        {
          "output_type": "stream",
          "name": "stdout",
          "text": [
            "Original NumPy array:\n",
            "[[1 2 3]\n",
            " [2 1 2]]\n",
            "Type: <class 'numpy.ndarray'>\n",
            "Sequence: [2, 3]\n",
            "Number of occurrences of the said sequence: 0\n"
          ]
        }
      ]
    },
    {
      "cell_type": "markdown",
      "source": [
        "#3.Write a NumPy program to combine last element with first element of two given ndarray with different shapes.\n",
        "\n",
        "Sample Output:\n",
        "\n",
        "Original arrays: ['PHP', 'JS', 'C++']\n",
        "\n",
        "['Python', 'C#', 'NumPy']\n",
        "\n",
        "After Combining:\n",
        "\n",
        "['PHP' 'JS' 'C++Python' 'C#' 'NumPy]"
      ],
      "metadata": {
        "id": "I1zhLiFEjVhg"
      }
    },
    {
      "cell_type": "code",
      "source": [
        "\n",
        "import numpy as np\n",
        "\n",
        "# Given arrays\n",
        "array1 = np.array(['PHP', 'JS', 'C++'])\n",
        "array2 = np.array(['Python', 'C#', 'NumPy'])\n",
        "\n",
        "print(\"Original arrays:\")\n",
        "print(array1)\n",
        "print(array2)\n",
        "\n",
        "# Combine last element of array1 with first element of array2\n",
        "combined_array = np.concatenate([array1[:-1], np.array([array1[-1] + array2[0]]), array2[1:]])\n",
        "\n",
        "print(\"\\nAfter Combining:\")\n",
        "print(combined_array)"
      ],
      "metadata": {
        "colab": {
          "base_uri": "https://localhost:8080/"
        },
        "id": "E8qxjPT5kvsz",
        "outputId": "4839925b-11ac-49b6-f4a3-56cd1e55686d"
      },
      "execution_count": null,
      "outputs": [
        {
          "output_type": "stream",
          "name": "stdout",
          "text": [
            "Original arrays:\n",
            "['PHP' 'JS' 'C++']\n",
            "['Python' 'C#' 'NumPy']\n",
            "\n",
            "After Combining:\n",
            "['PHP' 'JS' 'C++Python' 'C#' 'NumPy']\n"
          ]
        }
      ]
    },
    {
      "cell_type": "markdown",
      "source": [
        "#4. Use the diabetes data set from UCI data set for performing the following:\n",
        "\n",
        "Apply Bivariate analysis:\n",
        "\n",
        "Multiple Regression analysis"
      ],
      "metadata": {
        "id": "SYmxhXSnk_aG"
      }
    },
    {
      "cell_type": "code",
      "source": [
        "\n",
        "import pandas as pd\n",
        "import statsmodels.api as sm\n",
        "\n",
        "# Load the diabetes dataset (replace 'path_to_diabetes_dataset' with the actual path)\n",
        "diabetes_data = pd.read_csv('/content/diabetes.csv')\n",
        "\n",
        "# Assume 'target_variable' is the variable you want to predict\n",
        "X = diabetes_data[['Pregnancies','Glucose','Age', 'BMI','BloodPressure','Insulin']]  # Select the independent variables\n",
        "y = diabetes_data['Outcome']  # Select the dependent variable\n",
        "\n",
        "# Add a constant term to the independent variables\n",
        "X = sm.add_constant(X)\n",
        "\n",
        "# Fit the multiple regression model\n",
        "model = sm.OLS(y, X).fit()\n",
        "\n",
        "# Display the summary of the regression\n",
        "print(model.summary())"
      ],
      "metadata": {
        "colab": {
          "base_uri": "https://localhost:8080/"
        },
        "id": "0-3BKhiEwVu_",
        "outputId": "d6149a54-c396-407c-d813-913055bd9ebb"
      },
      "execution_count": null,
      "outputs": [
        {
          "output_type": "stream",
          "name": "stdout",
          "text": [
            "                            OLS Regression Results                            \n",
            "==============================================================================\n",
            "Dep. Variable:                Outcome   R-squared:                       0.293\n",
            "Model:                            OLS   Adj. R-squared:                  0.288\n",
            "Method:                 Least Squares   F-statistic:                     52.62\n",
            "Date:                Wed, 03 Jan 2024   Prob (F-statistic):           2.83e-54\n",
            "Time:                        10:10:05   Log-Likelihood:                -387.39\n",
            "No. Observations:                 768   AIC:                             788.8\n",
            "Df Residuals:                     761   BIC:                             821.3\n",
            "Df Model:                           6                                         \n",
            "Covariance Type:            nonrobust                                         \n",
            "=================================================================================\n",
            "                    coef    std err          t      P>|t|      [0.025      0.975]\n",
            "---------------------------------------------------------------------------------\n",
            "const            -0.8225      0.085     -9.626      0.000      -0.990      -0.655\n",
            "Pregnancies       0.0197      0.005      3.823      0.000       0.010       0.030\n",
            "Glucose           0.0060      0.001     11.751      0.000       0.005       0.007\n",
            "Age               0.0028      0.002      1.831      0.067      -0.000       0.006\n",
            "BMI               0.0140      0.002      7.067      0.000       0.010       0.018\n",
            "BloodPressure    -0.0024      0.001     -2.913      0.004      -0.004      -0.001\n",
            "Insulin          -0.0001      0.000     -0.814      0.416      -0.000       0.000\n",
            "==============================================================================\n",
            "Omnibus:                       49.530   Durbin-Watson:                   1.990\n",
            "Prob(Omnibus):                  0.000   Jarque-Bera (JB):               35.197\n",
            "Skew:                           0.415   Prob(JB):                     2.28e-08\n",
            "Kurtosis:                       2.360   Cond. No.                     1.08e+03\n",
            "==============================================================================\n",
            "\n",
            "Notes:\n",
            "[1] Standard Errors assume that the covariance matrix of the errors is correctly specified.\n",
            "[2] The condition number is large, 1.08e+03. This might indicate that there are\n",
            "strong multicollinearity or other numerical problems.\n"
          ]
        }
      ]
    },
    {
      "cell_type": "markdown",
      "source": [
        "#5. i. Write a NumPy program to perform the basic arithmetic operations"
      ],
      "metadata": {
        "id": "5j0sXZRPzZh_"
      }
    },
    {
      "cell_type": "code",
      "source": [
        "\n",
        "import numpy as np\n",
        "\n",
        "# Create two NumPy arrays\n",
        "array1 = np.array([1, 2, 3, 4])\n",
        "array2 = np.array([5, 6, 7, 8])\n",
        "\n",
        "# Addition\n",
        "result_addition = array1 + array2\n",
        "print(\"Addition:\", result_addition)\n",
        "\n",
        "# Subtraction\n",
        "result_subtraction = array1 - array2\n",
        "print(\"Subtraction:\", result_subtraction)\n",
        "\n",
        "# Multiplication\n",
        "result_multiplication = array1 * array2\n",
        "print(\"Multiplication:\", result_multiplication)\n",
        "\n",
        "# Division\n",
        "result_division = array1 / array2\n",
        "print(\"Division:\", result_division)\n",
        "\n",
        "# Exponentiation\n",
        "result_exponentiation = np.power(array1, array2)\n",
        "print(\"Exponentiation:\", result_exponentiation)"
      ],
      "metadata": {
        "colab": {
          "base_uri": "https://localhost:8080/"
        },
        "id": "jXaGjsiE0G0m",
        "outputId": "27aa7c97-c617-4f50-8178-257a7ceaf7e4"
      },
      "execution_count": null,
      "outputs": [
        {
          "output_type": "stream",
          "name": "stdout",
          "text": [
            "Addition: [ 6  8 10 12]\n",
            "Subtraction: [-4 -4 -4 -4]\n",
            "Multiplication: [ 5 12 21 32]\n",
            "Division: [0.2        0.33333333 0.42857143 0.5       ]\n",
            "Exponentiation: [    1    64  2187 65536]\n"
          ]
        }
      ]
    },
    {
      "cell_type": "markdown",
      "source": [
        "#ii. Write a NumPy program to transpose an array"
      ],
      "metadata": {
        "id": "3WxSu_dt0ZXl"
      }
    },
    {
      "cell_type": "code",
      "source": [
        "\n",
        "import numpy as np\n",
        "\n",
        "# Create a NumPy array\n",
        "original_array = np.array([[1, 2, 3],\n",
        "                          [4, 5, 6],\n",
        "                          [7, 8, 9]])\n",
        "\n",
        "# Transpose the array\n",
        "transposed_array = np.transpose(original_array)\n",
        "\n",
        "# Alternatively, you can use the T attribute\n",
        "# transposed_array = original_array.T\n",
        "\n",
        "print(\"Original Array:\")\n",
        "print(original_array)\n",
        "\n",
        "print(\"\\nTransposed Array:\")\n",
        "print(transposed_array)"
      ],
      "metadata": {
        "colab": {
          "base_uri": "https://localhost:8080/"
        },
        "id": "YqMbGHNt0cew",
        "outputId": "221ffef4-2bd1-4652-9dbc-ab17216166c9"
      },
      "execution_count": null,
      "outputs": [
        {
          "output_type": "stream",
          "name": "stdout",
          "text": [
            "Original Array:\n",
            "[[1 2 3]\n",
            " [4 5 6]\n",
            " [7 8 9]]\n",
            "\n",
            "Transposed Array:\n",
            "[[1 4 7]\n",
            " [2 5 8]\n",
            " [3 6 9]]\n"
          ]
        }
      ]
    },
    {
      "cell_type": "markdown",
      "source": [
        "#6. Make a three-dimensional plot with randomly generate 50 data points for x, y, and z. Set the point color as red, and size of the point as 50."
      ],
      "metadata": {
        "id": "g_6nufRI0pMj"
      }
    },
    {
      "cell_type": "code",
      "source": [
        "\n",
        "import numpy as np\n",
        "import matplotlib.pyplot as plt\n",
        "from mpl_toolkits.mplot3d import Axes3D\n",
        "\n",
        "# Generate 50 random data points for x, y, and z\n",
        "np.random.seed(42)  # for reproducibility\n",
        "x = np.random.rand(50)\n",
        "y = np.random.rand(50)\n",
        "z = np.random.rand(50)\n",
        "\n",
        "# Create a 3D plot\n",
        "fig = plt.figure()\n",
        "ax = fig.add_subplot(111, projection='3d')\n",
        "\n",
        "# Scatter plot with red color and point size 50\n",
        "ax.scatter(x, y, z, c='red', s=50)\n",
        "\n",
        "# Set labels for each axis\n",
        "ax.set_xlabel('X-axis')\n",
        "ax.set_ylabel('Y-axis')\n",
        "ax.set_zlabel('Z-axis')\n",
        "\n",
        "# Display the plot\n",
        "plt.show()"
      ],
      "metadata": {
        "colab": {
          "base_uri": "https://localhost:8080/",
          "height": 282
        },
        "id": "CN_Lisra1PeG",
        "outputId": "ff4b7a79-d892-4eb7-c36f-0024155c6288"
      },
      "execution_count": null,
      "outputs": [
        {
          "output_type": "display_data",
          "data": {
            "text/plain": [
              "<Figure size 640x480 with 1 Axes>"
            ],
            "image/png": "[encoded data removed]"
          },
          "metadata": {}
        }
      ]
    }
  ]
}